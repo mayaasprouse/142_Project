{
 "cells": [
  {
   "cell_type": "code",
   "execution_count": 1,
   "metadata": {
    "id": "wEn2mjyv1PWQ"
   },
   "outputs": [],
   "source": [
    "import numpy as np\n",
    "import pandas as pd\n",
    "import matplotlib.pyplot as plt"
   ]
  },
  {
   "cell_type": "code",
   "execution_count": 3,
   "metadata": {
    "colab": {
     "base_uri": "https://localhost:8080/",
     "height": 655
    },
    "id": "kpXJRz7FLEeR",
    "outputId": "60954fa9-d86d-4399-e667-ee12e403eab7"
   },
   "outputs": [
    {
     "data": {
      "text/html": [
       "<div>\n",
       "<style scoped>\n",
       "    .dataframe tbody tr th:only-of-type {\n",
       "        vertical-align: middle;\n",
       "    }\n",
       "\n",
       "    .dataframe tbody tr th {\n",
       "        vertical-align: top;\n",
       "    }\n",
       "\n",
       "    .dataframe thead th {\n",
       "        text-align: right;\n",
       "    }\n",
       "</style>\n",
       "<table border=\"1\" class=\"dataframe\">\n",
       "  <thead>\n",
       "    <tr style=\"text-align: right;\">\n",
       "      <th></th>\n",
       "      <th>Unnamed: 0</th>\n",
       "      <th>artist_name</th>\n",
       "      <th>track_name</th>\n",
       "      <th>track_id</th>\n",
       "      <th>popularity</th>\n",
       "      <th>release_date</th>\n",
       "      <th>artist_followers</th>\n",
       "      <th>Position</th>\n",
       "      <th>Track Name</th>\n",
       "      <th>Artist</th>\n",
       "      <th>...</th>\n",
       "      <th>liveness</th>\n",
       "      <th>valence</th>\n",
       "      <th>tempo</th>\n",
       "      <th>type</th>\n",
       "      <th>id</th>\n",
       "      <th>uri</th>\n",
       "      <th>track_href</th>\n",
       "      <th>analysis_url</th>\n",
       "      <th>duration_ms</th>\n",
       "      <th>time_signature</th>\n",
       "    </tr>\n",
       "  </thead>\n",
       "  <tbody>\n",
       "    <tr>\n",
       "      <th>0</th>\n",
       "      <td>0</td>\n",
       "      <td>Migos</td>\n",
       "      <td>Bad and Boujee (feat. Lil Uzi Vert)</td>\n",
       "      <td>4Km5HrUvYTaSUfiSGPJeQR</td>\n",
       "      <td>74</td>\n",
       "      <td>2017-01-27</td>\n",
       "      <td>11884750</td>\n",
       "      <td>1</td>\n",
       "      <td>Bad and Boujee (feat. Lil Uzi Vert)</td>\n",
       "      <td>Migos</td>\n",
       "      <td>...</td>\n",
       "      <td>0.123</td>\n",
       "      <td>0.175</td>\n",
       "      <td>127.076</td>\n",
       "      <td>audio_features</td>\n",
       "      <td>4Km5HrUvYTaSUfiSGPJeQR</td>\n",
       "      <td>spotify:track:4Km5HrUvYTaSUfiSGPJeQR</td>\n",
       "      <td>https://api.spotify.com/v1/tracks/4Km5HrUvYTaS...</td>\n",
       "      <td>https://api.spotify.com/v1/audio-analysis/4Km5...</td>\n",
       "      <td>343150.0</td>\n",
       "      <td>4.0</td>\n",
       "    </tr>\n",
       "    <tr>\n",
       "      <th>1</th>\n",
       "      <td>15</td>\n",
       "      <td>Migos</td>\n",
       "      <td>Bad and Boujee (feat. Lil Uzi Vert)</td>\n",
       "      <td>4Km5HrUvYTaSUfiSGPJeQR</td>\n",
       "      <td>74</td>\n",
       "      <td>2017-01-27</td>\n",
       "      <td>11884750</td>\n",
       "      <td>1</td>\n",
       "      <td>Bad and Boujee (feat. Lil Uzi Vert)</td>\n",
       "      <td>Migos</td>\n",
       "      <td>...</td>\n",
       "      <td>0.123</td>\n",
       "      <td>0.175</td>\n",
       "      <td>127.076</td>\n",
       "      <td>audio_features</td>\n",
       "      <td>4Km5HrUvYTaSUfiSGPJeQR</td>\n",
       "      <td>spotify:track:4Km5HrUvYTaSUfiSGPJeQR</td>\n",
       "      <td>https://api.spotify.com/v1/tracks/4Km5HrUvYTaS...</td>\n",
       "      <td>https://api.spotify.com/v1/audio-analysis/4Km5...</td>\n",
       "      <td>343150.0</td>\n",
       "      <td>4.0</td>\n",
       "    </tr>\n",
       "    <tr>\n",
       "      <th>2</th>\n",
       "      <td>30</td>\n",
       "      <td>Migos</td>\n",
       "      <td>Bad and Boujee (feat. Lil Uzi Vert)</td>\n",
       "      <td>4Km5HrUvYTaSUfiSGPJeQR</td>\n",
       "      <td>74</td>\n",
       "      <td>2017-01-27</td>\n",
       "      <td>11884750</td>\n",
       "      <td>4</td>\n",
       "      <td>Bad and Boujee (feat. Lil Uzi Vert)</td>\n",
       "      <td>Migos</td>\n",
       "      <td>...</td>\n",
       "      <td>0.123</td>\n",
       "      <td>0.175</td>\n",
       "      <td>127.076</td>\n",
       "      <td>audio_features</td>\n",
       "      <td>4Km5HrUvYTaSUfiSGPJeQR</td>\n",
       "      <td>spotify:track:4Km5HrUvYTaSUfiSGPJeQR</td>\n",
       "      <td>https://api.spotify.com/v1/tracks/4Km5HrUvYTaS...</td>\n",
       "      <td>https://api.spotify.com/v1/audio-analysis/4Km5...</td>\n",
       "      <td>343150.0</td>\n",
       "      <td>4.0</td>\n",
       "    </tr>\n",
       "    <tr>\n",
       "      <th>3</th>\n",
       "      <td>45</td>\n",
       "      <td>Migos</td>\n",
       "      <td>Bad and Boujee (feat. Lil Uzi Vert)</td>\n",
       "      <td>4Km5HrUvYTaSUfiSGPJeQR</td>\n",
       "      <td>74</td>\n",
       "      <td>2017-01-27</td>\n",
       "      <td>11884750</td>\n",
       "      <td>16</td>\n",
       "      <td>Bad and Boujee (feat. Lil Uzi Vert)</td>\n",
       "      <td>Migos</td>\n",
       "      <td>...</td>\n",
       "      <td>0.123</td>\n",
       "      <td>0.175</td>\n",
       "      <td>127.076</td>\n",
       "      <td>audio_features</td>\n",
       "      <td>4Km5HrUvYTaSUfiSGPJeQR</td>\n",
       "      <td>spotify:track:4Km5HrUvYTaSUfiSGPJeQR</td>\n",
       "      <td>https://api.spotify.com/v1/tracks/4Km5HrUvYTaS...</td>\n",
       "      <td>https://api.spotify.com/v1/audio-analysis/4Km5...</td>\n",
       "      <td>343150.0</td>\n",
       "      <td>4.0</td>\n",
       "    </tr>\n",
       "    <tr>\n",
       "      <th>4</th>\n",
       "      <td>60</td>\n",
       "      <td>Migos</td>\n",
       "      <td>Bad and Boujee (feat. Lil Uzi Vert)</td>\n",
       "      <td>4Km5HrUvYTaSUfiSGPJeQR</td>\n",
       "      <td>74</td>\n",
       "      <td>2017-01-27</td>\n",
       "      <td>11884750</td>\n",
       "      <td>34</td>\n",
       "      <td>Bad and Boujee (feat. Lil Uzi Vert)</td>\n",
       "      <td>Migos</td>\n",
       "      <td>...</td>\n",
       "      <td>0.123</td>\n",
       "      <td>0.175</td>\n",
       "      <td>127.076</td>\n",
       "      <td>audio_features</td>\n",
       "      <td>4Km5HrUvYTaSUfiSGPJeQR</td>\n",
       "      <td>spotify:track:4Km5HrUvYTaSUfiSGPJeQR</td>\n",
       "      <td>https://api.spotify.com/v1/tracks/4Km5HrUvYTaS...</td>\n",
       "      <td>https://api.spotify.com/v1/audio-analysis/4Km5...</td>\n",
       "      <td>343150.0</td>\n",
       "      <td>4.0</td>\n",
       "    </tr>\n",
       "  </tbody>\n",
       "</table>\n",
       "<p>5 rows × 32 columns</p>\n",
       "</div>"
      ],
      "text/plain": [
       "   Unnamed: 0 artist_name                           track_name  \\\n",
       "0           0       Migos  Bad and Boujee (feat. Lil Uzi Vert)   \n",
       "1          15       Migos  Bad and Boujee (feat. Lil Uzi Vert)   \n",
       "2          30       Migos  Bad and Boujee (feat. Lil Uzi Vert)   \n",
       "3          45       Migos  Bad and Boujee (feat. Lil Uzi Vert)   \n",
       "4          60       Migos  Bad and Boujee (feat. Lil Uzi Vert)   \n",
       "\n",
       "                 track_id  popularity release_date  artist_followers  \\\n",
       "0  4Km5HrUvYTaSUfiSGPJeQR          74   2017-01-27          11884750   \n",
       "1  4Km5HrUvYTaSUfiSGPJeQR          74   2017-01-27          11884750   \n",
       "2  4Km5HrUvYTaSUfiSGPJeQR          74   2017-01-27          11884750   \n",
       "3  4Km5HrUvYTaSUfiSGPJeQR          74   2017-01-27          11884750   \n",
       "4  4Km5HrUvYTaSUfiSGPJeQR          74   2017-01-27          11884750   \n",
       "\n",
       "   Position                           Track Name Artist  ...  liveness  \\\n",
       "0         1  Bad and Boujee (feat. Lil Uzi Vert)  Migos  ...     0.123   \n",
       "1         1  Bad and Boujee (feat. Lil Uzi Vert)  Migos  ...     0.123   \n",
       "2         4  Bad and Boujee (feat. Lil Uzi Vert)  Migos  ...     0.123   \n",
       "3        16  Bad and Boujee (feat. Lil Uzi Vert)  Migos  ...     0.123   \n",
       "4        34  Bad and Boujee (feat. Lil Uzi Vert)  Migos  ...     0.123   \n",
       "\n",
       "  valence    tempo            type                      id  \\\n",
       "0   0.175  127.076  audio_features  4Km5HrUvYTaSUfiSGPJeQR   \n",
       "1   0.175  127.076  audio_features  4Km5HrUvYTaSUfiSGPJeQR   \n",
       "2   0.175  127.076  audio_features  4Km5HrUvYTaSUfiSGPJeQR   \n",
       "3   0.175  127.076  audio_features  4Km5HrUvYTaSUfiSGPJeQR   \n",
       "4   0.175  127.076  audio_features  4Km5HrUvYTaSUfiSGPJeQR   \n",
       "\n",
       "                                    uri  \\\n",
       "0  spotify:track:4Km5HrUvYTaSUfiSGPJeQR   \n",
       "1  spotify:track:4Km5HrUvYTaSUfiSGPJeQR   \n",
       "2  spotify:track:4Km5HrUvYTaSUfiSGPJeQR   \n",
       "3  spotify:track:4Km5HrUvYTaSUfiSGPJeQR   \n",
       "4  spotify:track:4Km5HrUvYTaSUfiSGPJeQR   \n",
       "\n",
       "                                          track_href  \\\n",
       "0  https://api.spotify.com/v1/tracks/4Km5HrUvYTaS...   \n",
       "1  https://api.spotify.com/v1/tracks/4Km5HrUvYTaS...   \n",
       "2  https://api.spotify.com/v1/tracks/4Km5HrUvYTaS...   \n",
       "3  https://api.spotify.com/v1/tracks/4Km5HrUvYTaS...   \n",
       "4  https://api.spotify.com/v1/tracks/4Km5HrUvYTaS...   \n",
       "\n",
       "                                        analysis_url  duration_ms  \\\n",
       "0  https://api.spotify.com/v1/audio-analysis/4Km5...     343150.0   \n",
       "1  https://api.spotify.com/v1/audio-analysis/4Km5...     343150.0   \n",
       "2  https://api.spotify.com/v1/audio-analysis/4Km5...     343150.0   \n",
       "3  https://api.spotify.com/v1/audio-analysis/4Km5...     343150.0   \n",
       "4  https://api.spotify.com/v1/audio-analysis/4Km5...     343150.0   \n",
       "\n",
       "   time_signature  \n",
       "0             4.0  \n",
       "1             4.0  \n",
       "2             4.0  \n",
       "3             4.0  \n",
       "4             4.0  \n",
       "\n",
       "[5 rows x 32 columns]"
      ]
     },
     "execution_count": 3,
     "metadata": {},
     "output_type": "execute_result"
    }
   ],
   "source": [
    "data = pd.read_csv(\"https://raw.githubusercontent.com/mayaasprouse/142_Project/main/Spotify_data.csv\")\n",
    "data.head()"
   ]
  },
  {
   "cell_type": "code",
   "execution_count": 4,
   "metadata": {
    "colab": {
     "base_uri": "https://localhost:8080/",
     "height": 222
    },
    "id": "fhSOTW1dYSjA",
    "outputId": "3e44e3ab-6493-4807-afc1-d4d4b28cae99"
   },
   "outputs": [
    {
     "data": {
      "text/html": [
       "<div>\n",
       "<style scoped>\n",
       "    .dataframe tbody tr th:only-of-type {\n",
       "        vertical-align: middle;\n",
       "    }\n",
       "\n",
       "    .dataframe tbody tr th {\n",
       "        vertical-align: top;\n",
       "    }\n",
       "\n",
       "    .dataframe thead th {\n",
       "        text-align: right;\n",
       "    }\n",
       "</style>\n",
       "<table border=\"1\" class=\"dataframe\">\n",
       "  <thead>\n",
       "    <tr style=\"text-align: right;\">\n",
       "      <th></th>\n",
       "      <th>release_date</th>\n",
       "      <th>artist_followers</th>\n",
       "      <th>Position</th>\n",
       "      <th>Month</th>\n",
       "      <th>Year</th>\n",
       "      <th>danceability</th>\n",
       "      <th>energy</th>\n",
       "      <th>key</th>\n",
       "      <th>loudness</th>\n",
       "      <th>mode</th>\n",
       "      <th>speechiness</th>\n",
       "      <th>acousticness</th>\n",
       "      <th>instrumentalness</th>\n",
       "      <th>liveness</th>\n",
       "      <th>valence</th>\n",
       "      <th>tempo</th>\n",
       "      <th>duration_ms</th>\n",
       "      <th>time_signature</th>\n",
       "    </tr>\n",
       "  </thead>\n",
       "  <tbody>\n",
       "    <tr>\n",
       "      <th>0</th>\n",
       "      <td>2017-01-27</td>\n",
       "      <td>11884750</td>\n",
       "      <td>1</td>\n",
       "      <td>Jan</td>\n",
       "      <td>2017</td>\n",
       "      <td>0.927</td>\n",
       "      <td>0.665</td>\n",
       "      <td>11.0</td>\n",
       "      <td>-5.313</td>\n",
       "      <td>1.0</td>\n",
       "      <td>0.244</td>\n",
       "      <td>0.061</td>\n",
       "      <td>0.0</td>\n",
       "      <td>0.123</td>\n",
       "      <td>0.175</td>\n",
       "      <td>127.076</td>\n",
       "      <td>343150.0</td>\n",
       "      <td>4.0</td>\n",
       "    </tr>\n",
       "    <tr>\n",
       "      <th>1</th>\n",
       "      <td>2017-01-27</td>\n",
       "      <td>11884750</td>\n",
       "      <td>1</td>\n",
       "      <td>Feb</td>\n",
       "      <td>2017</td>\n",
       "      <td>0.927</td>\n",
       "      <td>0.665</td>\n",
       "      <td>11.0</td>\n",
       "      <td>-5.313</td>\n",
       "      <td>1.0</td>\n",
       "      <td>0.244</td>\n",
       "      <td>0.061</td>\n",
       "      <td>0.0</td>\n",
       "      <td>0.123</td>\n",
       "      <td>0.175</td>\n",
       "      <td>127.076</td>\n",
       "      <td>343150.0</td>\n",
       "      <td>4.0</td>\n",
       "    </tr>\n",
       "    <tr>\n",
       "      <th>2</th>\n",
       "      <td>2017-01-27</td>\n",
       "      <td>11884750</td>\n",
       "      <td>4</td>\n",
       "      <td>March</td>\n",
       "      <td>2017</td>\n",
       "      <td>0.927</td>\n",
       "      <td>0.665</td>\n",
       "      <td>11.0</td>\n",
       "      <td>-5.313</td>\n",
       "      <td>1.0</td>\n",
       "      <td>0.244</td>\n",
       "      <td>0.061</td>\n",
       "      <td>0.0</td>\n",
       "      <td>0.123</td>\n",
       "      <td>0.175</td>\n",
       "      <td>127.076</td>\n",
       "      <td>343150.0</td>\n",
       "      <td>4.0</td>\n",
       "    </tr>\n",
       "    <tr>\n",
       "      <th>3</th>\n",
       "      <td>2017-01-27</td>\n",
       "      <td>11884750</td>\n",
       "      <td>16</td>\n",
       "      <td>April</td>\n",
       "      <td>2017</td>\n",
       "      <td>0.927</td>\n",
       "      <td>0.665</td>\n",
       "      <td>11.0</td>\n",
       "      <td>-5.313</td>\n",
       "      <td>1.0</td>\n",
       "      <td>0.244</td>\n",
       "      <td>0.061</td>\n",
       "      <td>0.0</td>\n",
       "      <td>0.123</td>\n",
       "      <td>0.175</td>\n",
       "      <td>127.076</td>\n",
       "      <td>343150.0</td>\n",
       "      <td>4.0</td>\n",
       "    </tr>\n",
       "    <tr>\n",
       "      <th>4</th>\n",
       "      <td>2017-01-27</td>\n",
       "      <td>11884750</td>\n",
       "      <td>34</td>\n",
       "      <td>May</td>\n",
       "      <td>2017</td>\n",
       "      <td>0.927</td>\n",
       "      <td>0.665</td>\n",
       "      <td>11.0</td>\n",
       "      <td>-5.313</td>\n",
       "      <td>1.0</td>\n",
       "      <td>0.244</td>\n",
       "      <td>0.061</td>\n",
       "      <td>0.0</td>\n",
       "      <td>0.123</td>\n",
       "      <td>0.175</td>\n",
       "      <td>127.076</td>\n",
       "      <td>343150.0</td>\n",
       "      <td>4.0</td>\n",
       "    </tr>\n",
       "  </tbody>\n",
       "</table>\n",
       "</div>"
      ],
      "text/plain": [
       "  release_date  artist_followers  Position  Month  Year  danceability  energy  \\\n",
       "0   2017-01-27          11884750         1    Jan  2017         0.927   0.665   \n",
       "1   2017-01-27          11884750         1    Feb  2017         0.927   0.665   \n",
       "2   2017-01-27          11884750         4  March  2017         0.927   0.665   \n",
       "3   2017-01-27          11884750        16  April  2017         0.927   0.665   \n",
       "4   2017-01-27          11884750        34    May  2017         0.927   0.665   \n",
       "\n",
       "    key  loudness  mode  speechiness  acousticness  instrumentalness  \\\n",
       "0  11.0    -5.313   1.0        0.244         0.061               0.0   \n",
       "1  11.0    -5.313   1.0        0.244         0.061               0.0   \n",
       "2  11.0    -5.313   1.0        0.244         0.061               0.0   \n",
       "3  11.0    -5.313   1.0        0.244         0.061               0.0   \n",
       "4  11.0    -5.313   1.0        0.244         0.061               0.0   \n",
       "\n",
       "   liveness  valence    tempo  duration_ms  time_signature  \n",
       "0     0.123    0.175  127.076     343150.0             4.0  \n",
       "1     0.123    0.175  127.076     343150.0             4.0  \n",
       "2     0.123    0.175  127.076     343150.0             4.0  \n",
       "3     0.123    0.175  127.076     343150.0             4.0  \n",
       "4     0.123    0.175  127.076     343150.0             4.0  "
      ]
     },
     "execution_count": 4,
     "metadata": {},
     "output_type": "execute_result"
    }
   ],
   "source": [
    "#might also want to drop artist followers as number of followers only extracted at day of data pull, not at date of position record`b\n",
    "data = data.drop([\"Unnamed: 0\",\n",
    "           \"track_id\", \n",
    "           \"popularity\", \n",
    "           \"artist_name\", \n",
    "           \"track_name\", \n",
    "           \"Track Name\", \n",
    "           \"Artist\", \n",
    "           \"Streams\", \n",
    "           \"URL\", \n",
    "           \"type\", \n",
    "           \"id\", \n",
    "           \"uri\", \n",
    "           \"track_href\", \n",
    "           \"analysis_url\"], axis=1)\n",
    "data.head()"
   ]
  },
  {
   "cell_type": "code",
   "execution_count": 5,
   "metadata": {
    "colab": {
     "base_uri": "https://localhost:8080/",
     "height": 222
    },
    "id": "hU6et96YZRMM",
    "outputId": "6ac65e92-ff6f-4fda-fc85-277581b70300"
   },
   "outputs": [
    {
     "data": {
      "text/html": [
       "<div>\n",
       "<style scoped>\n",
       "    .dataframe tbody tr th:only-of-type {\n",
       "        vertical-align: middle;\n",
       "    }\n",
       "\n",
       "    .dataframe tbody tr th {\n",
       "        vertical-align: top;\n",
       "    }\n",
       "\n",
       "    .dataframe thead th {\n",
       "        text-align: right;\n",
       "    }\n",
       "</style>\n",
       "<table border=\"1\" class=\"dataframe\">\n",
       "  <thead>\n",
       "    <tr style=\"text-align: right;\">\n",
       "      <th></th>\n",
       "      <th>release_date</th>\n",
       "      <th>artist_followers</th>\n",
       "      <th>Position</th>\n",
       "      <th>Month</th>\n",
       "      <th>Year</th>\n",
       "      <th>danceability</th>\n",
       "      <th>energy</th>\n",
       "      <th>key</th>\n",
       "      <th>loudness</th>\n",
       "      <th>mode</th>\n",
       "      <th>...</th>\n",
       "      <th>acousticness</th>\n",
       "      <th>instrumentalness</th>\n",
       "      <th>liveness</th>\n",
       "      <th>valence</th>\n",
       "      <th>tempo</th>\n",
       "      <th>duration_ms</th>\n",
       "      <th>time_signature</th>\n",
       "      <th>release_month</th>\n",
       "      <th>release_year</th>\n",
       "      <th>years_since_release</th>\n",
       "    </tr>\n",
       "  </thead>\n",
       "  <tbody>\n",
       "    <tr>\n",
       "      <th>0</th>\n",
       "      <td>2017-01-27</td>\n",
       "      <td>11884750</td>\n",
       "      <td>1</td>\n",
       "      <td>Jan</td>\n",
       "      <td>2017</td>\n",
       "      <td>0.927</td>\n",
       "      <td>0.665</td>\n",
       "      <td>11.0</td>\n",
       "      <td>-5.313</td>\n",
       "      <td>1.0</td>\n",
       "      <td>...</td>\n",
       "      <td>0.061</td>\n",
       "      <td>0.0</td>\n",
       "      <td>0.123</td>\n",
       "      <td>0.175</td>\n",
       "      <td>127.076</td>\n",
       "      <td>343150.0</td>\n",
       "      <td>4.0</td>\n",
       "      <td>1</td>\n",
       "      <td>2017</td>\n",
       "      <td>4</td>\n",
       "    </tr>\n",
       "    <tr>\n",
       "      <th>1</th>\n",
       "      <td>2017-01-27</td>\n",
       "      <td>11884750</td>\n",
       "      <td>1</td>\n",
       "      <td>Feb</td>\n",
       "      <td>2017</td>\n",
       "      <td>0.927</td>\n",
       "      <td>0.665</td>\n",
       "      <td>11.0</td>\n",
       "      <td>-5.313</td>\n",
       "      <td>1.0</td>\n",
       "      <td>...</td>\n",
       "      <td>0.061</td>\n",
       "      <td>0.0</td>\n",
       "      <td>0.123</td>\n",
       "      <td>0.175</td>\n",
       "      <td>127.076</td>\n",
       "      <td>343150.0</td>\n",
       "      <td>4.0</td>\n",
       "      <td>1</td>\n",
       "      <td>2017</td>\n",
       "      <td>4</td>\n",
       "    </tr>\n",
       "    <tr>\n",
       "      <th>2</th>\n",
       "      <td>2017-01-27</td>\n",
       "      <td>11884750</td>\n",
       "      <td>4</td>\n",
       "      <td>March</td>\n",
       "      <td>2017</td>\n",
       "      <td>0.927</td>\n",
       "      <td>0.665</td>\n",
       "      <td>11.0</td>\n",
       "      <td>-5.313</td>\n",
       "      <td>1.0</td>\n",
       "      <td>...</td>\n",
       "      <td>0.061</td>\n",
       "      <td>0.0</td>\n",
       "      <td>0.123</td>\n",
       "      <td>0.175</td>\n",
       "      <td>127.076</td>\n",
       "      <td>343150.0</td>\n",
       "      <td>4.0</td>\n",
       "      <td>1</td>\n",
       "      <td>2017</td>\n",
       "      <td>4</td>\n",
       "    </tr>\n",
       "    <tr>\n",
       "      <th>3</th>\n",
       "      <td>2017-01-27</td>\n",
       "      <td>11884750</td>\n",
       "      <td>16</td>\n",
       "      <td>April</td>\n",
       "      <td>2017</td>\n",
       "      <td>0.927</td>\n",
       "      <td>0.665</td>\n",
       "      <td>11.0</td>\n",
       "      <td>-5.313</td>\n",
       "      <td>1.0</td>\n",
       "      <td>...</td>\n",
       "      <td>0.061</td>\n",
       "      <td>0.0</td>\n",
       "      <td>0.123</td>\n",
       "      <td>0.175</td>\n",
       "      <td>127.076</td>\n",
       "      <td>343150.0</td>\n",
       "      <td>4.0</td>\n",
       "      <td>1</td>\n",
       "      <td>2017</td>\n",
       "      <td>4</td>\n",
       "    </tr>\n",
       "    <tr>\n",
       "      <th>4</th>\n",
       "      <td>2017-01-27</td>\n",
       "      <td>11884750</td>\n",
       "      <td>34</td>\n",
       "      <td>May</td>\n",
       "      <td>2017</td>\n",
       "      <td>0.927</td>\n",
       "      <td>0.665</td>\n",
       "      <td>11.0</td>\n",
       "      <td>-5.313</td>\n",
       "      <td>1.0</td>\n",
       "      <td>...</td>\n",
       "      <td>0.061</td>\n",
       "      <td>0.0</td>\n",
       "      <td>0.123</td>\n",
       "      <td>0.175</td>\n",
       "      <td>127.076</td>\n",
       "      <td>343150.0</td>\n",
       "      <td>4.0</td>\n",
       "      <td>1</td>\n",
       "      <td>2017</td>\n",
       "      <td>4</td>\n",
       "    </tr>\n",
       "  </tbody>\n",
       "</table>\n",
       "<p>5 rows × 21 columns</p>\n",
       "</div>"
      ],
      "text/plain": [
       "  release_date  artist_followers  Position  Month  Year  danceability  energy  \\\n",
       "0   2017-01-27          11884750         1    Jan  2017         0.927   0.665   \n",
       "1   2017-01-27          11884750         1    Feb  2017         0.927   0.665   \n",
       "2   2017-01-27          11884750         4  March  2017         0.927   0.665   \n",
       "3   2017-01-27          11884750        16  April  2017         0.927   0.665   \n",
       "4   2017-01-27          11884750        34    May  2017         0.927   0.665   \n",
       "\n",
       "    key  loudness  mode  ...  acousticness  instrumentalness  liveness  \\\n",
       "0  11.0    -5.313   1.0  ...         0.061               0.0     0.123   \n",
       "1  11.0    -5.313   1.0  ...         0.061               0.0     0.123   \n",
       "2  11.0    -5.313   1.0  ...         0.061               0.0     0.123   \n",
       "3  11.0    -5.313   1.0  ...         0.061               0.0     0.123   \n",
       "4  11.0    -5.313   1.0  ...         0.061               0.0     0.123   \n",
       "\n",
       "   valence    tempo  duration_ms  time_signature  release_month  release_year  \\\n",
       "0    0.175  127.076     343150.0             4.0              1          2017   \n",
       "1    0.175  127.076     343150.0             4.0              1          2017   \n",
       "2    0.175  127.076     343150.0             4.0              1          2017   \n",
       "3    0.175  127.076     343150.0             4.0              1          2017   \n",
       "4    0.175  127.076     343150.0             4.0              1          2017   \n",
       "\n",
       "   years_since_release  \n",
       "0                    4  \n",
       "1                    4  \n",
       "2                    4  \n",
       "3                    4  \n",
       "4                    4  \n",
       "\n",
       "[5 rows x 21 columns]"
      ]
     },
     "execution_count": 5,
     "metadata": {},
     "output_type": "execute_result"
    }
   ],
   "source": [
    "#time series extraction\n",
    "data['release_month'] = pd.to_datetime(data[\"release_date\"]).dt.month\n",
    "data['release_year'] = pd.to_datetime(data[\"release_date\"]).dt.year\n",
    "data[\"years_since_release\"] = 2021 - data[\"release_year\"]\n",
    "data.head()"
   ]
  },
  {
   "cell_type": "code",
   "execution_count": 6,
   "metadata": {
    "id": "w-Ux8JsjjjxD"
   },
   "outputs": [],
   "source": [
    "data[\"release_month\"] = data[\"release_month\"].apply(str)\n",
    "data[\"release_year\"] = data[\"release_year\"].apply(str)"
   ]
  },
  {
   "cell_type": "code",
   "execution_count": 7,
   "metadata": {
    "colab": {
     "base_uri": "https://localhost:8080/",
     "height": 222
    },
    "id": "bRnQ6UX7TqYt",
    "outputId": "8c786492-6663-45be-d77c-31673cd93342"
   },
   "outputs": [
    {
     "data": {
      "text/html": [
       "<div>\n",
       "<style scoped>\n",
       "    .dataframe tbody tr th:only-of-type {\n",
       "        vertical-align: middle;\n",
       "    }\n",
       "\n",
       "    .dataframe tbody tr th {\n",
       "        vertical-align: top;\n",
       "    }\n",
       "\n",
       "    .dataframe thead th {\n",
       "        text-align: right;\n",
       "    }\n",
       "</style>\n",
       "<table border=\"1\" class=\"dataframe\">\n",
       "  <thead>\n",
       "    <tr style=\"text-align: right;\">\n",
       "      <th></th>\n",
       "      <th>release_date</th>\n",
       "      <th>artist_followers</th>\n",
       "      <th>Position</th>\n",
       "      <th>Month</th>\n",
       "      <th>Year</th>\n",
       "      <th>danceability</th>\n",
       "      <th>energy</th>\n",
       "      <th>key</th>\n",
       "      <th>loudness</th>\n",
       "      <th>mode</th>\n",
       "      <th>...</th>\n",
       "      <th>instrumentalness</th>\n",
       "      <th>liveness</th>\n",
       "      <th>valence</th>\n",
       "      <th>tempo</th>\n",
       "      <th>duration_ms</th>\n",
       "      <th>time_signature</th>\n",
       "      <th>release_month</th>\n",
       "      <th>release_year</th>\n",
       "      <th>years_since_release</th>\n",
       "      <th>Month_num</th>\n",
       "    </tr>\n",
       "  </thead>\n",
       "  <tbody>\n",
       "    <tr>\n",
       "      <th>0</th>\n",
       "      <td>2017-01-27</td>\n",
       "      <td>11884750</td>\n",
       "      <td>1</td>\n",
       "      <td>Jan</td>\n",
       "      <td>2017</td>\n",
       "      <td>0.927</td>\n",
       "      <td>0.665</td>\n",
       "      <td>11.0</td>\n",
       "      <td>-5.313</td>\n",
       "      <td>1.0</td>\n",
       "      <td>...</td>\n",
       "      <td>0.0</td>\n",
       "      <td>0.123</td>\n",
       "      <td>0.175</td>\n",
       "      <td>127.076</td>\n",
       "      <td>343150.0</td>\n",
       "      <td>4.0</td>\n",
       "      <td>1</td>\n",
       "      <td>2017</td>\n",
       "      <td>4</td>\n",
       "      <td>1</td>\n",
       "    </tr>\n",
       "    <tr>\n",
       "      <th>1</th>\n",
       "      <td>2017-01-27</td>\n",
       "      <td>11884750</td>\n",
       "      <td>1</td>\n",
       "      <td>Feb</td>\n",
       "      <td>2017</td>\n",
       "      <td>0.927</td>\n",
       "      <td>0.665</td>\n",
       "      <td>11.0</td>\n",
       "      <td>-5.313</td>\n",
       "      <td>1.0</td>\n",
       "      <td>...</td>\n",
       "      <td>0.0</td>\n",
       "      <td>0.123</td>\n",
       "      <td>0.175</td>\n",
       "      <td>127.076</td>\n",
       "      <td>343150.0</td>\n",
       "      <td>4.0</td>\n",
       "      <td>1</td>\n",
       "      <td>2017</td>\n",
       "      <td>4</td>\n",
       "      <td>2</td>\n",
       "    </tr>\n",
       "    <tr>\n",
       "      <th>2</th>\n",
       "      <td>2017-01-27</td>\n",
       "      <td>11884750</td>\n",
       "      <td>4</td>\n",
       "      <td>Mar</td>\n",
       "      <td>2017</td>\n",
       "      <td>0.927</td>\n",
       "      <td>0.665</td>\n",
       "      <td>11.0</td>\n",
       "      <td>-5.313</td>\n",
       "      <td>1.0</td>\n",
       "      <td>...</td>\n",
       "      <td>0.0</td>\n",
       "      <td>0.123</td>\n",
       "      <td>0.175</td>\n",
       "      <td>127.076</td>\n",
       "      <td>343150.0</td>\n",
       "      <td>4.0</td>\n",
       "      <td>1</td>\n",
       "      <td>2017</td>\n",
       "      <td>4</td>\n",
       "      <td>3</td>\n",
       "    </tr>\n",
       "    <tr>\n",
       "      <th>3</th>\n",
       "      <td>2017-01-27</td>\n",
       "      <td>11884750</td>\n",
       "      <td>16</td>\n",
       "      <td>Apr</td>\n",
       "      <td>2017</td>\n",
       "      <td>0.927</td>\n",
       "      <td>0.665</td>\n",
       "      <td>11.0</td>\n",
       "      <td>-5.313</td>\n",
       "      <td>1.0</td>\n",
       "      <td>...</td>\n",
       "      <td>0.0</td>\n",
       "      <td>0.123</td>\n",
       "      <td>0.175</td>\n",
       "      <td>127.076</td>\n",
       "      <td>343150.0</td>\n",
       "      <td>4.0</td>\n",
       "      <td>1</td>\n",
       "      <td>2017</td>\n",
       "      <td>4</td>\n",
       "      <td>4</td>\n",
       "    </tr>\n",
       "    <tr>\n",
       "      <th>4</th>\n",
       "      <td>2017-01-27</td>\n",
       "      <td>11884750</td>\n",
       "      <td>34</td>\n",
       "      <td>May</td>\n",
       "      <td>2017</td>\n",
       "      <td>0.927</td>\n",
       "      <td>0.665</td>\n",
       "      <td>11.0</td>\n",
       "      <td>-5.313</td>\n",
       "      <td>1.0</td>\n",
       "      <td>...</td>\n",
       "      <td>0.0</td>\n",
       "      <td>0.123</td>\n",
       "      <td>0.175</td>\n",
       "      <td>127.076</td>\n",
       "      <td>343150.0</td>\n",
       "      <td>4.0</td>\n",
       "      <td>1</td>\n",
       "      <td>2017</td>\n",
       "      <td>4</td>\n",
       "      <td>5</td>\n",
       "    </tr>\n",
       "  </tbody>\n",
       "</table>\n",
       "<p>5 rows × 22 columns</p>\n",
       "</div>"
      ],
      "text/plain": [
       "  release_date  artist_followers  Position Month  Year  danceability  energy  \\\n",
       "0   2017-01-27          11884750         1   Jan  2017         0.927   0.665   \n",
       "1   2017-01-27          11884750         1   Feb  2017         0.927   0.665   \n",
       "2   2017-01-27          11884750         4   Mar  2017         0.927   0.665   \n",
       "3   2017-01-27          11884750        16   Apr  2017         0.927   0.665   \n",
       "4   2017-01-27          11884750        34   May  2017         0.927   0.665   \n",
       "\n",
       "    key  loudness  mode  ...  instrumentalness  liveness  valence    tempo  \\\n",
       "0  11.0    -5.313   1.0  ...               0.0     0.123    0.175  127.076   \n",
       "1  11.0    -5.313   1.0  ...               0.0     0.123    0.175  127.076   \n",
       "2  11.0    -5.313   1.0  ...               0.0     0.123    0.175  127.076   \n",
       "3  11.0    -5.313   1.0  ...               0.0     0.123    0.175  127.076   \n",
       "4  11.0    -5.313   1.0  ...               0.0     0.123    0.175  127.076   \n",
       "\n",
       "   duration_ms  time_signature  release_month  release_year  \\\n",
       "0     343150.0             4.0              1          2017   \n",
       "1     343150.0             4.0              1          2017   \n",
       "2     343150.0             4.0              1          2017   \n",
       "3     343150.0             4.0              1          2017   \n",
       "4     343150.0             4.0              1          2017   \n",
       "\n",
       "  years_since_release Month_num  \n",
       "0                   4         1  \n",
       "1                   4         2  \n",
       "2                   4         3  \n",
       "3                   4         4  \n",
       "4                   4         5  \n",
       "\n",
       "[5 rows x 22 columns]"
      ]
     },
     "execution_count": 7,
     "metadata": {},
     "output_type": "execute_result"
    }
   ],
   "source": [
    "import datetime\n",
    "data[\"Month\"] = data[\"Month\"].str.replace(\"March\", \"Mar\")\n",
    "data[\"Month\"] = data[\"Month\"].str.replace(\"April\", \"Apr\")\n",
    "data[\"Month\"] = data[\"Month\"].str.replace(\"June\", \"Jun\")\n",
    "data[\"Month\"] = data[\"Month\"].str.replace(\"July\", \"Jul\")\n",
    "data[\"Month\"].unique()\n",
    "data[\"Month_num\"] = data[\"Month\"].apply(lambda x: datetime.datetime.strptime(x, \"%b\")).dt.month\n",
    "data.head()"
   ]
  },
  {
   "cell_type": "code",
   "execution_count": 8,
   "metadata": {
    "id": "oVMfjbTSfvt7"
   },
   "outputs": [],
   "source": [
    "sorted_data = data.sort_values([\"Year\", \"Month_num\"], ascending=False)\n",
    "sorted_data = sorted_data.drop(\"Month_num\", axis=1)"
   ]
  },
  {
   "cell_type": "code",
   "execution_count": 9,
   "metadata": {
    "id": "n5P8dtgKbO3F"
   },
   "outputs": [],
   "source": [
    "#test-train split\n",
    "#sort the data by release_date, and then keep 20% most recent aside to be test set\n",
    "test = sorted_data[0:2252]\n",
    "train = sorted_data[2252:]\n",
    "test = test.drop([\"release_date\", \"release_year\"], axis=1)\n",
    "train = train.drop([\"release_date\", \"release_year\"], axis=1)"
   ]
  },
  {
   "cell_type": "markdown",
   "metadata": {
    "id": "x8Xcb6heVHv1"
   },
   "source": [
    "##Linear Regression Model"
   ]
  },
  {
   "cell_type": "code",
   "execution_count": 10,
   "metadata": {
    "colab": {
     "base_uri": "https://localhost:8080/",
     "height": 294
    },
    "id": "y07RDm3ZZXOR",
    "outputId": "19032d23-1f20-44bc-bd02-f3cafc378622"
   },
   "outputs": [
    {
     "ename": "MissingDataError",
     "evalue": "exog contains inf or nans",
     "output_type": "error",
     "traceback": [
      "\u001b[1;31m---------------------------------------------------------------------------\u001b[0m",
      "\u001b[1;31mMissingDataError\u001b[0m                          Traceback (most recent call last)",
      "\u001b[1;32m<ipython-input-10-2ed9e97e362e>\u001b[0m in \u001b[0;36m<module>\u001b[1;34m\u001b[0m\n\u001b[0;32m     13\u001b[0m columns = ['artist_followers', 'danceability', 'energy','key','loudness','mode','speechiness','acousticness',\n\u001b[0;32m     14\u001b[0m           'instrumentalness','liveness','valence','tempo','duration_ms','time_signature','release_month','years_since_release']\n\u001b[1;32m---> 15\u001b[1;33m \u001b[0mVIF\u001b[0m\u001b[1;33m(\u001b[0m\u001b[0mtrain\u001b[0m\u001b[1;33m,\u001b[0m \u001b[0mcolumns\u001b[0m\u001b[1;33m)\u001b[0m\u001b[1;33m\u001b[0m\u001b[1;33m\u001b[0m\u001b[0m\n\u001b[0m",
      "\u001b[1;32m<ipython-input-10-2ed9e97e362e>\u001b[0m in \u001b[0;36mVIF\u001b[1;34m(df, columns)\u001b[0m\n\u001b[0;32m      7\u001b[0m     \u001b[0mvalues\u001b[0m \u001b[1;33m=\u001b[0m \u001b[0msm\u001b[0m\u001b[1;33m.\u001b[0m\u001b[0madd_constant\u001b[0m\u001b[1;33m(\u001b[0m\u001b[0mdf\u001b[0m\u001b[1;33m[\u001b[0m\u001b[0mcolumns\u001b[0m\u001b[1;33m]\u001b[0m\u001b[1;33m)\u001b[0m\u001b[1;33m.\u001b[0m\u001b[0mvalues\u001b[0m\u001b[1;33m\u001b[0m\u001b[1;33m\u001b[0m\u001b[0m\n\u001b[0;32m      8\u001b[0m     \u001b[0mnum_columns\u001b[0m \u001b[1;33m=\u001b[0m \u001b[0mlen\u001b[0m\u001b[1;33m(\u001b[0m\u001b[0mcolumns\u001b[0m\u001b[1;33m)\u001b[0m\u001b[1;33m+\u001b[0m\u001b[1;36m1\u001b[0m\u001b[1;33m\u001b[0m\u001b[1;33m\u001b[0m\u001b[0m\n\u001b[1;32m----> 9\u001b[1;33m     \u001b[0mvif\u001b[0m \u001b[1;33m=\u001b[0m \u001b[1;33m[\u001b[0m\u001b[0mvariance_inflation_factor\u001b[0m\u001b[1;33m(\u001b[0m\u001b[0mvalues\u001b[0m\u001b[1;33m,\u001b[0m \u001b[0mi\u001b[0m\u001b[1;33m)\u001b[0m \u001b[1;32mfor\u001b[0m \u001b[0mi\u001b[0m \u001b[1;32min\u001b[0m \u001b[0mrange\u001b[0m\u001b[1;33m(\u001b[0m\u001b[0mnum_columns\u001b[0m\u001b[1;33m)\u001b[0m\u001b[1;33m]\u001b[0m\u001b[1;33m\u001b[0m\u001b[1;33m\u001b[0m\u001b[0m\n\u001b[0m\u001b[0;32m     10\u001b[0m     \u001b[1;32mreturn\u001b[0m \u001b[0mpd\u001b[0m\u001b[1;33m.\u001b[0m\u001b[0mSeries\u001b[0m\u001b[1;33m(\u001b[0m\u001b[0mvif\u001b[0m\u001b[1;33m[\u001b[0m\u001b[1;36m1\u001b[0m\u001b[1;33m:\u001b[0m\u001b[1;33m]\u001b[0m\u001b[1;33m,\u001b[0m \u001b[0mindex\u001b[0m\u001b[1;33m=\u001b[0m\u001b[0mcolumns\u001b[0m\u001b[1;33m)\u001b[0m\u001b[1;33m\u001b[0m\u001b[1;33m\u001b[0m\u001b[0m\n\u001b[0;32m     11\u001b[0m \u001b[1;33m\u001b[0m\u001b[0m\n",
      "\u001b[1;32m<ipython-input-10-2ed9e97e362e>\u001b[0m in \u001b[0;36m<listcomp>\u001b[1;34m(.0)\u001b[0m\n\u001b[0;32m      7\u001b[0m     \u001b[0mvalues\u001b[0m \u001b[1;33m=\u001b[0m \u001b[0msm\u001b[0m\u001b[1;33m.\u001b[0m\u001b[0madd_constant\u001b[0m\u001b[1;33m(\u001b[0m\u001b[0mdf\u001b[0m\u001b[1;33m[\u001b[0m\u001b[0mcolumns\u001b[0m\u001b[1;33m]\u001b[0m\u001b[1;33m)\u001b[0m\u001b[1;33m.\u001b[0m\u001b[0mvalues\u001b[0m\u001b[1;33m\u001b[0m\u001b[1;33m\u001b[0m\u001b[0m\n\u001b[0;32m      8\u001b[0m     \u001b[0mnum_columns\u001b[0m \u001b[1;33m=\u001b[0m \u001b[0mlen\u001b[0m\u001b[1;33m(\u001b[0m\u001b[0mcolumns\u001b[0m\u001b[1;33m)\u001b[0m\u001b[1;33m+\u001b[0m\u001b[1;36m1\u001b[0m\u001b[1;33m\u001b[0m\u001b[1;33m\u001b[0m\u001b[0m\n\u001b[1;32m----> 9\u001b[1;33m     \u001b[0mvif\u001b[0m \u001b[1;33m=\u001b[0m \u001b[1;33m[\u001b[0m\u001b[0mvariance_inflation_factor\u001b[0m\u001b[1;33m(\u001b[0m\u001b[0mvalues\u001b[0m\u001b[1;33m,\u001b[0m \u001b[0mi\u001b[0m\u001b[1;33m)\u001b[0m \u001b[1;32mfor\u001b[0m \u001b[0mi\u001b[0m \u001b[1;32min\u001b[0m \u001b[0mrange\u001b[0m\u001b[1;33m(\u001b[0m\u001b[0mnum_columns\u001b[0m\u001b[1;33m)\u001b[0m\u001b[1;33m]\u001b[0m\u001b[1;33m\u001b[0m\u001b[1;33m\u001b[0m\u001b[0m\n\u001b[0m\u001b[0;32m     10\u001b[0m     \u001b[1;32mreturn\u001b[0m \u001b[0mpd\u001b[0m\u001b[1;33m.\u001b[0m\u001b[0mSeries\u001b[0m\u001b[1;33m(\u001b[0m\u001b[0mvif\u001b[0m\u001b[1;33m[\u001b[0m\u001b[1;36m1\u001b[0m\u001b[1;33m:\u001b[0m\u001b[1;33m]\u001b[0m\u001b[1;33m,\u001b[0m \u001b[0mindex\u001b[0m\u001b[1;33m=\u001b[0m\u001b[0mcolumns\u001b[0m\u001b[1;33m)\u001b[0m\u001b[1;33m\u001b[0m\u001b[1;33m\u001b[0m\u001b[0m\n\u001b[0;32m     11\u001b[0m \u001b[1;33m\u001b[0m\u001b[0m\n",
      "\u001b[1;32mC:\\ProgramData\\Anaconda3\\lib\\site-packages\\statsmodels\\stats\\outliers_influence.py\u001b[0m in \u001b[0;36mvariance_inflation_factor\u001b[1;34m(exog, exog_idx)\u001b[0m\n\u001b[0;32m    190\u001b[0m     \u001b[0mmask\u001b[0m \u001b[1;33m=\u001b[0m \u001b[0mnp\u001b[0m\u001b[1;33m.\u001b[0m\u001b[0marange\u001b[0m\u001b[1;33m(\u001b[0m\u001b[0mk_vars\u001b[0m\u001b[1;33m)\u001b[0m \u001b[1;33m!=\u001b[0m \u001b[0mexog_idx\u001b[0m\u001b[1;33m\u001b[0m\u001b[1;33m\u001b[0m\u001b[0m\n\u001b[0;32m    191\u001b[0m     \u001b[0mx_noti\u001b[0m \u001b[1;33m=\u001b[0m \u001b[0mexog\u001b[0m\u001b[1;33m[\u001b[0m\u001b[1;33m:\u001b[0m\u001b[1;33m,\u001b[0m \u001b[0mmask\u001b[0m\u001b[1;33m]\u001b[0m\u001b[1;33m\u001b[0m\u001b[1;33m\u001b[0m\u001b[0m\n\u001b[1;32m--> 192\u001b[1;33m     \u001b[0mr_squared_i\u001b[0m \u001b[1;33m=\u001b[0m \u001b[0mOLS\u001b[0m\u001b[1;33m(\u001b[0m\u001b[0mx_i\u001b[0m\u001b[1;33m,\u001b[0m \u001b[0mx_noti\u001b[0m\u001b[1;33m)\u001b[0m\u001b[1;33m.\u001b[0m\u001b[0mfit\u001b[0m\u001b[1;33m(\u001b[0m\u001b[1;33m)\u001b[0m\u001b[1;33m.\u001b[0m\u001b[0mrsquared\u001b[0m\u001b[1;33m\u001b[0m\u001b[1;33m\u001b[0m\u001b[0m\n\u001b[0m\u001b[0;32m    193\u001b[0m     \u001b[0mvif\u001b[0m \u001b[1;33m=\u001b[0m \u001b[1;36m1.\u001b[0m \u001b[1;33m/\u001b[0m \u001b[1;33m(\u001b[0m\u001b[1;36m1.\u001b[0m \u001b[1;33m-\u001b[0m \u001b[0mr_squared_i\u001b[0m\u001b[1;33m)\u001b[0m\u001b[1;33m\u001b[0m\u001b[1;33m\u001b[0m\u001b[0m\n\u001b[0;32m    194\u001b[0m     \u001b[1;32mreturn\u001b[0m \u001b[0mvif\u001b[0m\u001b[1;33m\u001b[0m\u001b[1;33m\u001b[0m\u001b[0m\n",
      "\u001b[1;32mC:\\ProgramData\\Anaconda3\\lib\\site-packages\\statsmodels\\regression\\linear_model.py\u001b[0m in \u001b[0;36m__init__\u001b[1;34m(self, endog, exog, missing, hasconst, **kwargs)\u001b[0m\n\u001b[0;32m    870\u001b[0m     def __init__(self, endog, exog=None, missing='none', hasconst=None,\n\u001b[0;32m    871\u001b[0m                  **kwargs):\n\u001b[1;32m--> 872\u001b[1;33m         super(OLS, self).__init__(endog, exog, missing=missing,\n\u001b[0m\u001b[0;32m    873\u001b[0m                                   hasconst=hasconst, **kwargs)\n\u001b[0;32m    874\u001b[0m         \u001b[1;32mif\u001b[0m \u001b[1;34m\"weights\"\u001b[0m \u001b[1;32min\u001b[0m \u001b[0mself\u001b[0m\u001b[1;33m.\u001b[0m\u001b[0m_init_keys\u001b[0m\u001b[1;33m:\u001b[0m\u001b[1;33m\u001b[0m\u001b[1;33m\u001b[0m\u001b[0m\n",
      "\u001b[1;32mC:\\ProgramData\\Anaconda3\\lib\\site-packages\\statsmodels\\regression\\linear_model.py\u001b[0m in \u001b[0;36m__init__\u001b[1;34m(self, endog, exog, weights, missing, hasconst, **kwargs)\u001b[0m\n\u001b[0;32m    701\u001b[0m         \u001b[1;32melse\u001b[0m\u001b[1;33m:\u001b[0m\u001b[1;33m\u001b[0m\u001b[1;33m\u001b[0m\u001b[0m\n\u001b[0;32m    702\u001b[0m             \u001b[0mweights\u001b[0m \u001b[1;33m=\u001b[0m \u001b[0mweights\u001b[0m\u001b[1;33m.\u001b[0m\u001b[0msqueeze\u001b[0m\u001b[1;33m(\u001b[0m\u001b[1;33m)\u001b[0m\u001b[1;33m\u001b[0m\u001b[1;33m\u001b[0m\u001b[0m\n\u001b[1;32m--> 703\u001b[1;33m         super(WLS, self).__init__(endog, exog, missing=missing,\n\u001b[0m\u001b[0;32m    704\u001b[0m                                   weights=weights, hasconst=hasconst, **kwargs)\n\u001b[0;32m    705\u001b[0m         \u001b[0mnobs\u001b[0m \u001b[1;33m=\u001b[0m \u001b[0mself\u001b[0m\u001b[1;33m.\u001b[0m\u001b[0mexog\u001b[0m\u001b[1;33m.\u001b[0m\u001b[0mshape\u001b[0m\u001b[1;33m[\u001b[0m\u001b[1;36m0\u001b[0m\u001b[1;33m]\u001b[0m\u001b[1;33m\u001b[0m\u001b[1;33m\u001b[0m\u001b[0m\n",
      "\u001b[1;32mC:\\ProgramData\\Anaconda3\\lib\\site-packages\\statsmodels\\regression\\linear_model.py\u001b[0m in \u001b[0;36m__init__\u001b[1;34m(self, endog, exog, **kwargs)\u001b[0m\n\u001b[0;32m    188\u001b[0m     \"\"\"\n\u001b[0;32m    189\u001b[0m     \u001b[1;32mdef\u001b[0m \u001b[0m__init__\u001b[0m\u001b[1;33m(\u001b[0m\u001b[0mself\u001b[0m\u001b[1;33m,\u001b[0m \u001b[0mendog\u001b[0m\u001b[1;33m,\u001b[0m \u001b[0mexog\u001b[0m\u001b[1;33m,\u001b[0m \u001b[1;33m**\u001b[0m\u001b[0mkwargs\u001b[0m\u001b[1;33m)\u001b[0m\u001b[1;33m:\u001b[0m\u001b[1;33m\u001b[0m\u001b[1;33m\u001b[0m\u001b[0m\n\u001b[1;32m--> 190\u001b[1;33m         \u001b[0msuper\u001b[0m\u001b[1;33m(\u001b[0m\u001b[0mRegressionModel\u001b[0m\u001b[1;33m,\u001b[0m \u001b[0mself\u001b[0m\u001b[1;33m)\u001b[0m\u001b[1;33m.\u001b[0m\u001b[0m__init__\u001b[0m\u001b[1;33m(\u001b[0m\u001b[0mendog\u001b[0m\u001b[1;33m,\u001b[0m \u001b[0mexog\u001b[0m\u001b[1;33m,\u001b[0m \u001b[1;33m**\u001b[0m\u001b[0mkwargs\u001b[0m\u001b[1;33m)\u001b[0m\u001b[1;33m\u001b[0m\u001b[1;33m\u001b[0m\u001b[0m\n\u001b[0m\u001b[0;32m    191\u001b[0m         \u001b[0mself\u001b[0m\u001b[1;33m.\u001b[0m\u001b[0m_data_attr\u001b[0m\u001b[1;33m.\u001b[0m\u001b[0mextend\u001b[0m\u001b[1;33m(\u001b[0m\u001b[1;33m[\u001b[0m\u001b[1;34m'pinv_wexog'\u001b[0m\u001b[1;33m,\u001b[0m \u001b[1;34m'weights'\u001b[0m\u001b[1;33m]\u001b[0m\u001b[1;33m)\u001b[0m\u001b[1;33m\u001b[0m\u001b[1;33m\u001b[0m\u001b[0m\n\u001b[0;32m    192\u001b[0m \u001b[1;33m\u001b[0m\u001b[0m\n",
      "\u001b[1;32mC:\\ProgramData\\Anaconda3\\lib\\site-packages\\statsmodels\\base\\model.py\u001b[0m in \u001b[0;36m__init__\u001b[1;34m(self, endog, exog, **kwargs)\u001b[0m\n\u001b[0;32m    235\u001b[0m \u001b[1;33m\u001b[0m\u001b[0m\n\u001b[0;32m    236\u001b[0m     \u001b[1;32mdef\u001b[0m \u001b[0m__init__\u001b[0m\u001b[1;33m(\u001b[0m\u001b[0mself\u001b[0m\u001b[1;33m,\u001b[0m \u001b[0mendog\u001b[0m\u001b[1;33m,\u001b[0m \u001b[0mexog\u001b[0m\u001b[1;33m=\u001b[0m\u001b[1;32mNone\u001b[0m\u001b[1;33m,\u001b[0m \u001b[1;33m**\u001b[0m\u001b[0mkwargs\u001b[0m\u001b[1;33m)\u001b[0m\u001b[1;33m:\u001b[0m\u001b[1;33m\u001b[0m\u001b[1;33m\u001b[0m\u001b[0m\n\u001b[1;32m--> 237\u001b[1;33m         \u001b[0msuper\u001b[0m\u001b[1;33m(\u001b[0m\u001b[0mLikelihoodModel\u001b[0m\u001b[1;33m,\u001b[0m \u001b[0mself\u001b[0m\u001b[1;33m)\u001b[0m\u001b[1;33m.\u001b[0m\u001b[0m__init__\u001b[0m\u001b[1;33m(\u001b[0m\u001b[0mendog\u001b[0m\u001b[1;33m,\u001b[0m \u001b[0mexog\u001b[0m\u001b[1;33m,\u001b[0m \u001b[1;33m**\u001b[0m\u001b[0mkwargs\u001b[0m\u001b[1;33m)\u001b[0m\u001b[1;33m\u001b[0m\u001b[1;33m\u001b[0m\u001b[0m\n\u001b[0m\u001b[0;32m    238\u001b[0m         \u001b[0mself\u001b[0m\u001b[1;33m.\u001b[0m\u001b[0minitialize\u001b[0m\u001b[1;33m(\u001b[0m\u001b[1;33m)\u001b[0m\u001b[1;33m\u001b[0m\u001b[1;33m\u001b[0m\u001b[0m\n\u001b[0;32m    239\u001b[0m \u001b[1;33m\u001b[0m\u001b[0m\n",
      "\u001b[1;32mC:\\ProgramData\\Anaconda3\\lib\\site-packages\\statsmodels\\base\\model.py\u001b[0m in \u001b[0;36m__init__\u001b[1;34m(self, endog, exog, **kwargs)\u001b[0m\n\u001b[0;32m     75\u001b[0m         \u001b[0mmissing\u001b[0m \u001b[1;33m=\u001b[0m \u001b[0mkwargs\u001b[0m\u001b[1;33m.\u001b[0m\u001b[0mpop\u001b[0m\u001b[1;33m(\u001b[0m\u001b[1;34m'missing'\u001b[0m\u001b[1;33m,\u001b[0m \u001b[1;34m'none'\u001b[0m\u001b[1;33m)\u001b[0m\u001b[1;33m\u001b[0m\u001b[1;33m\u001b[0m\u001b[0m\n\u001b[0;32m     76\u001b[0m         \u001b[0mhasconst\u001b[0m \u001b[1;33m=\u001b[0m \u001b[0mkwargs\u001b[0m\u001b[1;33m.\u001b[0m\u001b[0mpop\u001b[0m\u001b[1;33m(\u001b[0m\u001b[1;34m'hasconst'\u001b[0m\u001b[1;33m,\u001b[0m \u001b[1;32mNone\u001b[0m\u001b[1;33m)\u001b[0m\u001b[1;33m\u001b[0m\u001b[1;33m\u001b[0m\u001b[0m\n\u001b[1;32m---> 77\u001b[1;33m         self.data = self._handle_data(endog, exog, missing, hasconst,\n\u001b[0m\u001b[0;32m     78\u001b[0m                                       **kwargs)\n\u001b[0;32m     79\u001b[0m         \u001b[0mself\u001b[0m\u001b[1;33m.\u001b[0m\u001b[0mk_constant\u001b[0m \u001b[1;33m=\u001b[0m \u001b[0mself\u001b[0m\u001b[1;33m.\u001b[0m\u001b[0mdata\u001b[0m\u001b[1;33m.\u001b[0m\u001b[0mk_constant\u001b[0m\u001b[1;33m\u001b[0m\u001b[1;33m\u001b[0m\u001b[0m\n",
      "\u001b[1;32mC:\\ProgramData\\Anaconda3\\lib\\site-packages\\statsmodels\\base\\model.py\u001b[0m in \u001b[0;36m_handle_data\u001b[1;34m(self, endog, exog, missing, hasconst, **kwargs)\u001b[0m\n\u001b[0;32m     99\u001b[0m \u001b[1;33m\u001b[0m\u001b[0m\n\u001b[0;32m    100\u001b[0m     \u001b[1;32mdef\u001b[0m \u001b[0m_handle_data\u001b[0m\u001b[1;33m(\u001b[0m\u001b[0mself\u001b[0m\u001b[1;33m,\u001b[0m \u001b[0mendog\u001b[0m\u001b[1;33m,\u001b[0m \u001b[0mexog\u001b[0m\u001b[1;33m,\u001b[0m \u001b[0mmissing\u001b[0m\u001b[1;33m,\u001b[0m \u001b[0mhasconst\u001b[0m\u001b[1;33m,\u001b[0m \u001b[1;33m**\u001b[0m\u001b[0mkwargs\u001b[0m\u001b[1;33m)\u001b[0m\u001b[1;33m:\u001b[0m\u001b[1;33m\u001b[0m\u001b[1;33m\u001b[0m\u001b[0m\n\u001b[1;32m--> 101\u001b[1;33m         \u001b[0mdata\u001b[0m \u001b[1;33m=\u001b[0m \u001b[0mhandle_data\u001b[0m\u001b[1;33m(\u001b[0m\u001b[0mendog\u001b[0m\u001b[1;33m,\u001b[0m \u001b[0mexog\u001b[0m\u001b[1;33m,\u001b[0m \u001b[0mmissing\u001b[0m\u001b[1;33m,\u001b[0m \u001b[0mhasconst\u001b[0m\u001b[1;33m,\u001b[0m \u001b[1;33m**\u001b[0m\u001b[0mkwargs\u001b[0m\u001b[1;33m)\u001b[0m\u001b[1;33m\u001b[0m\u001b[1;33m\u001b[0m\u001b[0m\n\u001b[0m\u001b[0;32m    102\u001b[0m         \u001b[1;31m# kwargs arrays could have changed, easier to just attach here\u001b[0m\u001b[1;33m\u001b[0m\u001b[1;33m\u001b[0m\u001b[1;33m\u001b[0m\u001b[0m\n\u001b[0;32m    103\u001b[0m         \u001b[1;32mfor\u001b[0m \u001b[0mkey\u001b[0m \u001b[1;32min\u001b[0m \u001b[0mkwargs\u001b[0m\u001b[1;33m:\u001b[0m\u001b[1;33m\u001b[0m\u001b[1;33m\u001b[0m\u001b[0m\n",
      "\u001b[1;32mC:\\ProgramData\\Anaconda3\\lib\\site-packages\\statsmodels\\base\\data.py\u001b[0m in \u001b[0;36mhandle_data\u001b[1;34m(endog, exog, missing, hasconst, **kwargs)\u001b[0m\n\u001b[0;32m    670\u001b[0m \u001b[1;33m\u001b[0m\u001b[0m\n\u001b[0;32m    671\u001b[0m     \u001b[0mklass\u001b[0m \u001b[1;33m=\u001b[0m \u001b[0mhandle_data_class_factory\u001b[0m\u001b[1;33m(\u001b[0m\u001b[0mendog\u001b[0m\u001b[1;33m,\u001b[0m \u001b[0mexog\u001b[0m\u001b[1;33m)\u001b[0m\u001b[1;33m\u001b[0m\u001b[1;33m\u001b[0m\u001b[0m\n\u001b[1;32m--> 672\u001b[1;33m     return klass(endog, exog=exog, missing=missing, hasconst=hasconst,\n\u001b[0m\u001b[0;32m    673\u001b[0m                  **kwargs)\n",
      "\u001b[1;32mC:\\ProgramData\\Anaconda3\\lib\\site-packages\\statsmodels\\base\\data.py\u001b[0m in \u001b[0;36m__init__\u001b[1;34m(self, endog, exog, missing, hasconst, **kwargs)\u001b[0m\n\u001b[0;32m     85\u001b[0m         \u001b[0mself\u001b[0m\u001b[1;33m.\u001b[0m\u001b[0mconst_idx\u001b[0m \u001b[1;33m=\u001b[0m \u001b[1;32mNone\u001b[0m\u001b[1;33m\u001b[0m\u001b[1;33m\u001b[0m\u001b[0m\n\u001b[0;32m     86\u001b[0m         \u001b[0mself\u001b[0m\u001b[1;33m.\u001b[0m\u001b[0mk_constant\u001b[0m \u001b[1;33m=\u001b[0m \u001b[1;36m0\u001b[0m\u001b[1;33m\u001b[0m\u001b[1;33m\u001b[0m\u001b[0m\n\u001b[1;32m---> 87\u001b[1;33m         \u001b[0mself\u001b[0m\u001b[1;33m.\u001b[0m\u001b[0m_handle_constant\u001b[0m\u001b[1;33m(\u001b[0m\u001b[0mhasconst\u001b[0m\u001b[1;33m)\u001b[0m\u001b[1;33m\u001b[0m\u001b[1;33m\u001b[0m\u001b[0m\n\u001b[0m\u001b[0;32m     88\u001b[0m         \u001b[0mself\u001b[0m\u001b[1;33m.\u001b[0m\u001b[0m_check_integrity\u001b[0m\u001b[1;33m(\u001b[0m\u001b[1;33m)\u001b[0m\u001b[1;33m\u001b[0m\u001b[1;33m\u001b[0m\u001b[0m\n\u001b[0;32m     89\u001b[0m         \u001b[0mself\u001b[0m\u001b[1;33m.\u001b[0m\u001b[0m_cache\u001b[0m \u001b[1;33m=\u001b[0m \u001b[1;33m{\u001b[0m\u001b[1;33m}\u001b[0m\u001b[1;33m\u001b[0m\u001b[1;33m\u001b[0m\u001b[0m\n",
      "\u001b[1;32mC:\\ProgramData\\Anaconda3\\lib\\site-packages\\statsmodels\\base\\data.py\u001b[0m in \u001b[0;36m_handle_constant\u001b[1;34m(self, hasconst)\u001b[0m\n\u001b[0;32m    131\u001b[0m             \u001b[0mexog_max\u001b[0m \u001b[1;33m=\u001b[0m \u001b[0mnp\u001b[0m\u001b[1;33m.\u001b[0m\u001b[0mmax\u001b[0m\u001b[1;33m(\u001b[0m\u001b[0mself\u001b[0m\u001b[1;33m.\u001b[0m\u001b[0mexog\u001b[0m\u001b[1;33m,\u001b[0m \u001b[0maxis\u001b[0m\u001b[1;33m=\u001b[0m\u001b[1;36m0\u001b[0m\u001b[1;33m)\u001b[0m\u001b[1;33m\u001b[0m\u001b[1;33m\u001b[0m\u001b[0m\n\u001b[0;32m    132\u001b[0m             \u001b[1;32mif\u001b[0m \u001b[1;32mnot\u001b[0m \u001b[0mnp\u001b[0m\u001b[1;33m.\u001b[0m\u001b[0misfinite\u001b[0m\u001b[1;33m(\u001b[0m\u001b[0mexog_max\u001b[0m\u001b[1;33m)\u001b[0m\u001b[1;33m.\u001b[0m\u001b[0mall\u001b[0m\u001b[1;33m(\u001b[0m\u001b[1;33m)\u001b[0m\u001b[1;33m:\u001b[0m\u001b[1;33m\u001b[0m\u001b[1;33m\u001b[0m\u001b[0m\n\u001b[1;32m--> 133\u001b[1;33m                 \u001b[1;32mraise\u001b[0m \u001b[0mMissingDataError\u001b[0m\u001b[1;33m(\u001b[0m\u001b[1;34m'exog contains inf or nans'\u001b[0m\u001b[1;33m)\u001b[0m\u001b[1;33m\u001b[0m\u001b[1;33m\u001b[0m\u001b[0m\n\u001b[0m\u001b[0;32m    134\u001b[0m             \u001b[0mexog_min\u001b[0m \u001b[1;33m=\u001b[0m \u001b[0mnp\u001b[0m\u001b[1;33m.\u001b[0m\u001b[0mmin\u001b[0m\u001b[1;33m(\u001b[0m\u001b[0mself\u001b[0m\u001b[1;33m.\u001b[0m\u001b[0mexog\u001b[0m\u001b[1;33m,\u001b[0m \u001b[0maxis\u001b[0m\u001b[1;33m=\u001b[0m\u001b[1;36m0\u001b[0m\u001b[1;33m)\u001b[0m\u001b[1;33m\u001b[0m\u001b[1;33m\u001b[0m\u001b[0m\n\u001b[0;32m    135\u001b[0m             \u001b[0mconst_idx\u001b[0m \u001b[1;33m=\u001b[0m \u001b[0mnp\u001b[0m\u001b[1;33m.\u001b[0m\u001b[0mwhere\u001b[0m\u001b[1;33m(\u001b[0m\u001b[0mexog_max\u001b[0m \u001b[1;33m==\u001b[0m \u001b[0mexog_min\u001b[0m\u001b[1;33m)\u001b[0m\u001b[1;33m[\u001b[0m\u001b[1;36m0\u001b[0m\u001b[1;33m]\u001b[0m\u001b[1;33m.\u001b[0m\u001b[0msqueeze\u001b[0m\u001b[1;33m(\u001b[0m\u001b[1;33m)\u001b[0m\u001b[1;33m\u001b[0m\u001b[1;33m\u001b[0m\u001b[0m\n",
      "\u001b[1;31mMissingDataError\u001b[0m: exog contains inf or nans"
     ]
    }
   ],
   "source": [
    "# calculate Variance Inflation Factor for each explanatory variable\n",
    "from statsmodels.stats.outliers_influence import variance_inflation_factor\n",
    "import statsmodels.api as sm\n",
    "\n",
    "# The dataframe passed to VIF must include the intercept term. We add it the same way we did before.\n",
    "def VIF(df, columns):\n",
    "    values = sm.add_constant(df[columns]).values\n",
    "    num_columns = len(columns)+1\n",
    "    vif = [variance_inflation_factor(values, i) for i in range(num_columns)]\n",
    "    return pd.Series(vif[1:], index=columns)\n",
    "\n",
    "train['release_month'] = train['release_month'].astype(int)\n",
    "columns = ['artist_followers', 'danceability', 'energy','key','loudness','mode','speechiness','acousticness',\n",
    "          'instrumentalness','liveness','valence','tempo','duration_ms','time_signature','release_month','years_since_release']\n",
    "VIF(train, columns)"
   ]
  },
  {
   "cell_type": "markdown",
   "metadata": {
    "id": "tRF4ihOXbGFb"
   },
   "source": [
    "If we look at the VIF for the features to be included in the model, we can see that all the features have VIF values below 5. We therefore don't need to remove features from the model due to multicollinearity."
   ]
  },
  {
   "cell_type": "code",
   "execution_count": 12,
   "metadata": {
    "colab": {
     "base_uri": "https://localhost:8080/"
    },
    "id": "v7Tua9R3bN9X",
    "outputId": "b238c8e4-4b60-4747-db67-879866205b09"
   },
   "outputs": [
    {
     "name": "stdout",
     "output_type": "stream",
     "text": [
      "                            OLS Regression Results                            \n",
      "==============================================================================\n",
      "Dep. Variable:               Position   R-squared:                       0.033\n",
      "Model:                            OLS   Adj. R-squared:                  0.030\n",
      "Method:                 Least Squares   F-statistic:                     11.76\n",
      "Date:                Sat, 04 Dec 2021   Prob (F-statistic):           1.28e-48\n",
      "Time:                        12:22:14   Log-Likelihood:                -49110.\n",
      "No. Observations:                9003   AIC:                         9.827e+04\n",
      "Df Residuals:                    8976   BIC:                         9.847e+04\n",
      "Df Model:                          26                                         \n",
      "Covariance Type:            nonrobust                                         \n",
      "=======================================================================================\n",
      "                          coef    std err          t      P>|t|      [0.025      0.975]\n",
      "---------------------------------------------------------------------------------------\n",
      "Intercept             113.8789     12.336      9.231      0.000      89.697     138.060\n",
      "release_month[T.10]     3.9477      3.265      1.209      0.227      -2.453      10.348\n",
      "release_month[T.11]    10.3059      3.211      3.209      0.001       4.011      16.601\n",
      "release_month[T.12]     2.8700      3.196      0.898      0.369      -3.395       9.135\n",
      "release_month[T.2]      5.3760      3.601      1.493      0.135      -1.682      12.435\n",
      "release_month[T.3]      8.5245      3.214      2.652      0.008       2.224      14.825\n",
      "release_month[T.4]      0.8922      3.128      0.285      0.776      -5.240       7.024\n",
      "release_month[T.5]     11.8247      3.210      3.684      0.000       5.532      18.117\n",
      "release_month[T.6]      9.3232      3.146      2.964      0.003       3.156      15.490\n",
      "release_month[T.7]      0.4005      3.631      0.110      0.912      -6.717       7.518\n",
      "release_month[T.8]      4.7758      3.185      1.500      0.134      -1.467      11.019\n",
      "release_month[T.9]      3.8812      3.425      1.133      0.257      -2.832      10.595\n",
      "artist_followers    -3.827e-07   3.47e-08    -11.015      0.000   -4.51e-07   -3.15e-07\n",
      "danceability          -32.7678      5.185     -6.320      0.000     -42.931     -22.604\n",
      "energy                 13.9627      6.575      2.123      0.034       1.073      26.852\n",
      "key                     0.3418      0.167      2.053      0.040       0.015       0.668\n",
      "loudness               -1.0497      0.398     -2.639      0.008      -1.830      -0.270\n",
      "mode                    1.5982      1.249      1.280      0.201      -0.850       4.047\n",
      "speechiness            -7.6556      5.457     -1.403      0.161     -18.352       3.040\n",
      "acousticness           -1.4084      3.245     -0.434      0.664      -7.769       4.952\n",
      "instrumentalness      -23.5143     11.994     -1.960      0.050     -47.025      -0.003\n",
      "liveness              -17.7483      5.111     -3.473      0.001     -27.766      -7.730\n",
      "valence                -1.6206      3.376     -0.480      0.631      -8.238       4.997\n",
      "tempo                  -0.0103      0.021     -0.481      0.631      -0.052       0.032\n",
      "duration_ms          2.252e-05   1.42e-05      1.590      0.112   -5.24e-06    5.03e-05\n",
      "time_signature         -1.8859      2.163     -0.872      0.383      -6.126       2.354\n",
      "years_since_release     0.5682      0.109      5.197      0.000       0.354       0.783\n",
      "==============================================================================\n",
      "Omnibus:                     4433.652   Durbin-Watson:                   1.209\n",
      "Prob(Omnibus):                  0.000   Jarque-Bera (JB):              479.816\n",
      "Skew:                           0.041   Prob(JB):                    6.45e-105\n",
      "Kurtosis:                       1.872   Cond. No.                     5.51e+08\n",
      "==============================================================================\n",
      "\n",
      "Notes:\n",
      "[1] Standard Errors assume that the covariance matrix of the errors is correctly specified.\n",
      "[2] The condition number is large, 5.51e+08. This might indicate that there are\n",
      "strong multicollinearity or other numerical problems.\n"
     ]
    }
   ],
   "source": [
    "import statsmodels.formula.api as smf\n",
    "\n",
    "train['release_month'] = train['release_month'].astype(str)\n",
    "ols = smf.ols(formula=\"\"\"Position ~ \n",
    "                        artist_followers +\n",
    "                        danceability +\n",
    "                        energy +\n",
    "                        key +\n",
    "                        loudness +\n",
    "                        mode +\n",
    "                        speechiness +\n",
    "                        acousticness +\n",
    "                        instrumentalness +\n",
    "                        liveness +\n",
    "                        valence +\n",
    "                        tempo +\n",
    "                        duration_ms +\n",
    "                        time_signature +\n",
    "                        release_month +\n",
    "                        years_since_release\"\"\", \n",
    "                 data=train).fit()\n",
    "\n",
    "print(ols.summary())"
   ]
  },
  {
   "cell_type": "code",
   "execution_count": 13,
   "metadata": {
    "colab": {
     "base_uri": "https://localhost:8080/"
    },
    "id": "FmJbCCJNcH5X",
    "outputId": "72ba421b-86e6-4709-e65e-82a5b21653af"
   },
   "outputs": [
    {
     "name": "stdout",
     "output_type": "stream",
     "text": [
      "                            OLS Regression Results                            \n",
      "==============================================================================\n",
      "Dep. Variable:               Position   R-squared:                       0.031\n",
      "Model:                            OLS   Adj. R-squared:                  0.029\n",
      "Method:                 Least Squares   F-statistic:                     17.06\n",
      "Date:                Sat, 04 Dec 2021   Prob (F-statistic):           9.91e-51\n",
      "Time:                        12:22:18   Log-Likelihood:                -49118.\n",
      "No. Observations:                9003   AIC:                         9.827e+04\n",
      "Df Residuals:                    8985   BIC:                         9.840e+04\n",
      "Df Model:                          17                                         \n",
      "Covariance Type:            nonrobust                                         \n",
      "=======================================================================================\n",
      "                          coef    std err          t      P>|t|      [0.025      0.975]\n",
      "---------------------------------------------------------------------------------------\n",
      "Intercept             115.4776      7.172     16.101      0.000     101.419     129.536\n",
      "release_month[T.10]     3.5772      3.240      1.104      0.270      -2.773       9.927\n",
      "release_month[T.11]     9.7914      3.193      3.067      0.002       3.533      16.050\n",
      "release_month[T.12]     3.0988      3.188      0.972      0.331      -3.150       9.348\n",
      "release_month[T.2]      4.9884      3.593      1.389      0.165      -2.054      12.031\n",
      "release_month[T.3]      7.9806      3.191      2.501      0.012       1.726      14.235\n",
      "release_month[T.4]      0.7418      3.123      0.238      0.812      -5.379       6.863\n",
      "release_month[T.5]     11.5217      3.202      3.598      0.000       5.245      17.799\n",
      "release_month[T.6]      9.5499      3.120      3.061      0.002       3.435      15.665\n",
      "release_month[T.7]      0.2451      3.623      0.068      0.946      -6.858       7.348\n",
      "release_month[T.8]      4.4777      3.154      1.420      0.156      -1.706      10.661\n",
      "release_month[T.9]      3.6453      3.408      1.070      0.285      -3.035      10.326\n",
      "artist_followers    -3.826e-07   3.43e-08    -11.148      0.000    -4.5e-07   -3.15e-07\n",
      "danceability          -36.1638      4.467     -8.095      0.000     -44.921     -27.407\n",
      "energy                 12.3321      5.795      2.128      0.033       0.973      23.691\n",
      "loudness               -0.7863      0.383     -2.051      0.040      -1.538      -0.035\n",
      "liveness              -18.0436      5.088     -3.546      0.000     -28.018      -8.069\n",
      "years_since_release     0.5861      0.106      5.516      0.000       0.378       0.794\n",
      "==============================================================================\n",
      "Omnibus:                     4550.215   Durbin-Watson:                   1.204\n",
      "Prob(Omnibus):                  0.000   Jarque-Bera (JB):              482.694\n",
      "Skew:                           0.038   Prob(JB):                    1.53e-105\n",
      "Kurtosis:                       1.868   Cond. No.                     4.04e+08\n",
      "==============================================================================\n",
      "\n",
      "Notes:\n",
      "[1] Standard Errors assume that the covariance matrix of the errors is correctly specified.\n",
      "[2] The condition number is large, 4.04e+08. This might indicate that there are\n",
      "strong multicollinearity or other numerical problems.\n"
     ]
    }
   ],
   "source": [
    "ols2 = smf.ols(formula=\"\"\"Position ~ \n",
    "                        artist_followers +\n",
    "                        danceability +\n",
    "                        energy +\n",
    "                        loudness +\n",
    "                        liveness +\n",
    "                        release_month +\n",
    "                        years_since_release\"\"\", \n",
    "                 data=train).fit()\n",
    "\n",
    "print(ols2.summary())\n",
    "#Removed variables: tempo, valence, acousticness, time_signature, mode, speechiness, duration_ms, instrumentalness, key"
   ]
  },
  {
   "cell_type": "markdown",
   "metadata": {
    "id": "Pq-8QEsgeYrr"
   },
   "source": [
    "Features from the original model that had p-values above 0.05 were removed. Features that were removed includes tempo, valence, acousticness, time_signature, mode, speechiness, duration_ms, instrumentalness, and key. Removing the features only slightly decreased the model's goodness of fit, or its R^2, from 0.033 to 0.031. "
   ]
  },
  {
   "cell_type": "markdown",
   "metadata": {
    "id": "UR7RMipCUz58"
   },
   "source": [
    "##Logistic Regression Model"
   ]
  },
  {
   "cell_type": "code",
   "execution_count": null,
   "metadata": {
    "id": "YOkr7S1Xvj9X"
   },
   "outputs": [],
   "source": [
    "train['inTop100'] = (train['Position']<101).astype(int)\n",
    "test['inTop100'] = (test['Position']<101).astype(int)"
   ]
  },
  {
   "cell_type": "code",
   "execution_count": null,
   "metadata": {
    "id": "RLmMB6DgvUck"
   },
   "outputs": [],
   "source": [
    "train[train.isna().any(axis=1)]\n",
    "#will just remove these rows\n",
    "train = train.drop(train[train.isna().any(axis=1)].index)\n",
    "\n",
    "test[test.isna().any(axis=1)]\n",
    "#will just remove these rows\n",
    "test = test.drop(test[test.isna().any(axis=1)].index)"
   ]
  },
  {
   "cell_type": "code",
   "execution_count": null,
   "metadata": {
    "id": "hI597ujcviBI"
   },
   "outputs": [],
   "source": [
    "#first, dummy encode categorical variables\n",
    "train['release_month'] = train['release_month'].astype(str)\n",
    "train_encode = pd.get_dummies(train, drop_first = True)\n",
    "train_columns = train_encode.drop(\"Position\", axis=1)\n",
    "train_pos = train_encode[\"Position\"]\n",
    "train_pos = (train_pos <= 100)*1"
   ]
  },
  {
   "cell_type": "code",
   "execution_count": null,
   "metadata": {
    "id": "3Xd7QsQDxKyG"
   },
   "outputs": [],
   "source": [
    "test_encode = pd.get_dummies(test, drop_first = True)\n",
    "test_columns = test_encode.drop(\"Position\", axis=1)\n",
    "\n",
    "test_pos = test_encode[\"Position\"]\n",
    "test_pos = (test_pos <= 100)*1"
   ]
  },
  {
   "cell_type": "markdown",
   "metadata": {
    "id": "Bh-huxgAaPjJ"
   },
   "source": [
    "We are now building a logistic regression model to see if we can predict whether a song will end up in the Top 100 charts."
   ]
  },
  {
   "cell_type": "code",
   "execution_count": null,
   "metadata": {
    "colab": {
     "base_uri": "https://localhost:8080/"
    },
    "id": "i8k6bG45Xjsi",
    "outputId": "67f94076-a405-4670-a826-d11651cdc3f8"
   },
   "outputs": [],
   "source": [
    "logreg = smf.logit(formula=\"\"\"inTop100 ~ \n",
    "                        artist_followers +\n",
    "                        danceability +\n",
    "                        key +\n",
    "                        liveness +\n",
    "                        years_since_release\"\"\",\n",
    "                 data=train).fit()\n",
    "\n",
    "print(logreg.summary())\n",
    "#We've removed valence, time signature, release month, energy, speechiness, loudness, mode, acousticness, tempo, instrumentalness, durationn_ms as variables\n",
    "#due to p-values above 0.05"
   ]
  },
  {
   "cell_type": "markdown",
   "metadata": {
    "id": "wq2r--jtZviK"
   },
   "source": [
    "Features from the original model that had p-values above 0.05 were removed. Features that were removed includes alence, time signature, release month, energy, speechiness, loudness, mode, acousticness, tempo, instrumentalness, duration_ms. Removing the features only slightly decreased the model's goodness of fit, or its R^2, from 0.00147 to 0.01334. However, this pseudo R-squ value is very low."
   ]
  },
  {
   "cell_type": "code",
   "execution_count": null,
   "metadata": {
    "id": "QIE2qArfai8K"
   },
   "outputs": [],
   "source": [
    "train['inTop50'] = (train['Position']<51).astype(int)\n",
    "test['inTop50'] = (test['Position']<51).astype(int)"
   ]
  },
  {
   "cell_type": "markdown",
   "metadata": {
    "id": "kc_js0WObm-O"
   },
   "source": [
    "We then tried building another logistic regression model, this time predicting whether a song would reach the top 50 chart instead."
   ]
  },
  {
   "cell_type": "code",
   "execution_count": null,
   "metadata": {
    "colab": {
     "base_uri": "https://localhost:8080/"
    },
    "id": "iBr2Rh6-ao51",
    "outputId": "3c1e1be4-9e82-45f4-edad-c8df5764ec43"
   },
   "outputs": [],
   "source": [
    "logreg2 = smf.logit(formula=\"\"\"inTop50 ~ \n",
    "                        artist_followers +\n",
    "                        danceability +\n",
    "                        key +\n",
    "                        liveness +\n",
    "                        years_since_release\"\"\", \n",
    "                 data=train).fit()\n",
    "\n",
    "print(logreg2.summary())\n",
    "#We've removed tempo, duration_ms, time_signature, speechiness, acousticness, release_month, valence, energy, loudness, mode, instrumentalness as variables\n",
    "#Orginal R^2: 0.0244\n",
    "#New R^2: 0.02342"
   ]
  },
  {
   "cell_type": "markdown",
   "metadata": {
    "id": "z3g7XJYqbwSu"
   },
   "source": [
    "Features from the original model that had p-values above 0.05 were removed. Features that were removed includes alence, time signature, release month, energy, speechiness, loudness, mode, acousticness, tempo, instrumentalness, duration_ms. Removing the features only slightly decreased the model's goodness of fit, or its R^2, from 0.0244 to 0.02342. While the pseudo R-squ is still extremely low, it is higher than that of the first logistic regression model for predicting whether a song would reach the top 100 chart."
   ]
  },
  {
   "cell_type": "markdown",
   "metadata": {
    "id": "5IVmWebWVNgJ"
   },
   "source": [
    "##LDA Model"
   ]
  },
  {
   "cell_type": "markdown",
   "metadata": {
    "id": "AdBrznASjZZP"
   },
   "source": [
    "First, we will create a LDA model to predict whether a song will end up in the Top 50, 100 or 200 chart. "
   ]
  },
  {
   "cell_type": "code",
   "execution_count": null,
   "metadata": {
    "colab": {
     "base_uri": "https://localhost:8080/"
    },
    "id": "6U3VS7ebcHcc",
    "outputId": "6a0fa7b6-1a80-4ff7-ae56-ff7c7504127f"
   },
   "outputs": [],
   "source": [
    "from sklearn.discriminant_analysis import LinearDiscriminantAnalysis\n",
    "from sklearn.metrics import accuracy_score\n",
    "from sklearn.metrics import confusion_matrix\n",
    "\n",
    "lda = LinearDiscriminantAnalysis()\n",
    "\n",
    "#We will reclassify a song based on its current position in dataset.\n",
    "#Songs within the top 50 position will be reclassified as 50\n",
    "#Songs with the 50-100 position will be recclassfied as 100\n",
    "#Songs withi the 100-200 position will be reclassified as 200\n",
    "def reclassifyPosition(result):\n",
    "  if result<=50:\n",
    "    return \"50\"\n",
    "  if result<=100:\n",
    "    return \"100\"\n",
    "  return \"200\"\n",
    "\n",
    "train['inTop'] = train['Position'].apply(reclassifyPosition)\n",
    "test['inTop'] = test['Position'].apply(reclassifyPosition)\n",
    "x_train = train.drop([\"Position\",'inTop50','inTop','inTop100','Month'], axis=1)\n",
    "y_train = train['inTop']\n",
    "x_test = test.drop([\"Position\",'inTop50','inTop','inTop100','Month'], axis=1)\n",
    "y_test = test['inTop']\n",
    "\n",
    "lda.fit(x_train, y_train)\n",
    "y_predLDA = lda.predict(x_test)\n",
    "\n",
    "cmLDA = confusion_matrix(y_test, y_predLDA)\n",
    "print (\"Confusion Matrix: \\n\", cmLDA)\n",
    "print (\"\\nAccuracy:\", accuracy_score(y_test, y_predLDA))\n",
    "print (\"The test set accuracy of the LDA is 0.49689.\")"
   ]
  },
  {
   "cell_type": "markdown",
   "metadata": {
    "id": "MA5VGmIMkXJY"
   },
   "source": [
    "We will next create an LDA model to predict whether a song will solely end up in the Top 50 chart."
   ]
  },
  {
   "cell_type": "code",
   "execution_count": null,
   "metadata": {
    "colab": {
     "base_uri": "https://localhost:8080/"
    },
    "id": "7efCXoi9kisv",
    "outputId": "ea213841-5292-423a-b0d0-0e2de928f687"
   },
   "outputs": [],
   "source": [
    "lda50 = LinearDiscriminantAnalysis()\n",
    "y_train50 = train['inTop50']\n",
    "y_test50 = test['inTop50']\n",
    "\n",
    "lda50.fit(x_train,y_train50)\n",
    "y_predLDA50 = lda50.predict(x_test)\n",
    "\n",
    "cmLDA50 = confusion_matrix(y_test50, y_predLDA50)\n",
    "print (\"Confusion Matrix: \\n\", cmLDA50)\n",
    "print (\"\\nAccuracy:\", accuracy_score(y_test50, y_predLDA50))\n",
    "print (\"The test set accuracy of the LDA is 0.7867.\")"
   ]
  },
  {
   "cell_type": "markdown",
   "metadata": {
    "id": "Tn9xqdlhlIVg"
   },
   "source": [
    "We will then create an LDA model to predict whether a song will end up in the Top 100 chart."
   ]
  },
  {
   "cell_type": "code",
   "execution_count": null,
   "metadata": {
    "colab": {
     "base_uri": "https://localhost:8080/"
    },
    "id": "CVZj4VDclQpb",
    "outputId": "9d4326f6-0947-45c2-f078-854353bcea7b"
   },
   "outputs": [],
   "source": [
    "lda100 = LinearDiscriminantAnalysis()\n",
    "y_train100 = train['inTop100']\n",
    "y_test100 = test['inTop100']\n",
    "\n",
    "lda100.fit(x_train,y_train100)\n",
    "y_predLDA100 = lda100.predict(x_test)\n",
    "\n",
    "cmLDA100 = confusion_matrix(y_test100, y_predLDA100)\n",
    "print (\"Confusion Matrix: \\n\", cmLDA100)\n",
    "print (\"\\nAccuracy:\", accuracy_score(y_test100, y_predLDA100))\n",
    "print (\"The test set accuracy of the LDA is 0.559.\")"
   ]
  },
  {
   "cell_type": "markdown",
   "metadata": {
    "id": "CHlezGzlliw4"
   },
   "source": [
    "Of the three LDA models we've created, the LDA model for predicting whether a sonng will end up in the Top 50 chart has the highest test set accuracy."
   ]
  },
  {
   "cell_type": "markdown",
   "metadata": {
    "id": "zBYB4TG8kU1Q"
   },
   "source": [
    "##Cart Model"
   ]
  },
  {
   "cell_type": "code",
   "execution_count": null,
   "metadata": {
    "id": "dTJhDwrPbLtu"
   },
   "outputs": [],
   "source": [
    "##go through removing excess columns later"
   ]
  },
  {
   "cell_type": "code",
   "execution_count": null,
   "metadata": {
    "id": "zM9pLrWjg1Po"
   },
   "outputs": [],
   "source": [
    "#first, dummy encode categorical variables\n",
    "train['release_month'] = train['release_month'].astype(str)\n",
    "train_encode = pd.get_dummies(train, drop_first = True)\n",
    "train_columns = train_encode.drop(\"Position\", axis=1)\n",
    "train_pos = train_encode[\"Position\"]\n",
    "train_pos = (train_pos <= 100)*1"
   ]
  },
  {
   "cell_type": "code",
   "execution_count": null,
   "metadata": {
    "id": "e9ErALDMhNnU"
   },
   "outputs": [],
   "source": [
    "#remove several rows full of null values\n",
    "train_columns = train_columns.drop(train_columns[train_columns.isna().any(axis=1)].index)\n",
    "test_columns = test_columns.drop(test_columns[test_columns.isna().any(axis=1)].index)"
   ]
  },
  {
   "cell_type": "code",
   "execution_count": null,
   "metadata": {
    "colab": {
     "base_uri": "https://localhost:8080/",
     "height": 414
    },
    "id": "atKYChamgVHb",
    "outputId": "5dd2303f-fb20-4620-f6cd-f313f786a05b"
   },
   "outputs": [],
   "source": [
    "#CART model\n",
    "\n",
    "from sklearn.tree import DecisionTreeClassifier\n",
    "from sklearn.model_selection import GridSearchCV\n",
    "dtr = DecisionTreeClassifier()\n",
    "\n",
    "param_values = {'ccp_alpha': np.linspace(0, 0.10, 201),\n",
    "               'min_samples_leaf': [5],\n",
    "               'random_state': [2]}\n",
    "\n",
    "dtr_cv = GridSearchCV(dtr, param_grid = param_values)\n",
    "dtr_cv.fit(train_columns, train_pos)\n",
    "\n",
    "acc = dtr_cv.cv_results_['mean_test_score'] # what sklearn calls mean_test_score is the holdout set, i.e. the validation set.\n",
    "ccp = dtr_cv.cv_results_['param_ccp_alpha'].data\n",
    "\n",
    "pd.DataFrame({'ccp alpha' : ccp, 'Accuracy': acc}).sort_values(\"Accuracy\", ascending=False)"
   ]
  },
  {
   "cell_type": "code",
   "execution_count": null,
   "metadata": {
    "colab": {
     "base_uri": "https://localhost:8080/",
     "height": 264
    },
    "id": "JQUX6KJHiiHG",
    "outputId": "ece0e78b-05c9-41af-c5da-aa0bd36bec28"
   },
   "outputs": [],
   "source": [
    "import matplotlib.pyplot as plt\n",
    "\n",
    "plt.plot(ccp, acc);"
   ]
  },
  {
   "cell_type": "code",
   "execution_count": null,
   "metadata": {
    "id": "nzB63DmTjGFO"
   },
   "outputs": [],
   "source": [
    "dtc = DecisionTreeClassifier(ccp_alpha = 0.03)\n",
    "dtc.fit(train_columns, train_pos);"
   ]
  },
  {
   "cell_type": "code",
   "execution_count": null,
   "metadata": {
    "colab": {
     "base_uri": "https://localhost:8080/"
    },
    "id": "3GAvT8FIj1aT",
    "outputId": "f30599e5-1d89-4889-d138-86ad2fc5833b"
   },
   "outputs": [],
   "source": [
    "train_columns.columns"
   ]
  },
  {
   "cell_type": "code",
   "execution_count": null,
   "metadata": {
    "colab": {
     "base_uri": "https://localhost:8080/"
    },
    "id": "HGFbr7bEkasC",
    "outputId": "7550b19c-2821-4944-9b3b-185e9dfaf382"
   },
   "outputs": [],
   "source": [
    "test_columns.columns"
   ]
  },
  {
   "cell_type": "code",
   "execution_count": null,
   "metadata": {
    "colab": {
     "base_uri": "https://localhost:8080/"
    },
    "id": "4OuOV0w2jOmS",
    "outputId": "ccd19d7a-682a-4c50-9e23-7c4bf2b8066f"
   },
   "outputs": [],
   "source": [
    "test_encode = pd.get_dummies(test, drop_first = True)\n",
    "test_columns = test_encode.drop(\"Position\", axis=1)\n",
    "\n",
    "test_pos = test_encode[\"Position\"]\n",
    "test_pos = (test_pos <= 100)*1\n",
    "\n",
    "cart_predict = dtc.predict(test_columns)\n",
    "cart_accuracy = sum(cart_predict == test_pos) / len(test_pos)\n",
    "cart_accuracy"
   ]
  },
  {
   "cell_type": "markdown",
   "metadata": {
    "id": "UyDVkUORPdvA"
   },
   "source": [
    "##Bagging"
   ]
  },
  {
   "cell_type": "code",
   "execution_count": null,
   "metadata": {
    "id": "BSnX4GYLjxaC"
   },
   "outputs": [],
   "source": [
    "#bagging\n",
    "from sklearn.ensemble import RandomForestClassifier\n",
    "\n",
    "bag = RandomForestClassifier(max_features=len(train_columns.columns)).fit(train_columns, train_pos)"
   ]
  },
  {
   "cell_type": "code",
   "execution_count": null,
   "metadata": {
    "colab": {
     "base_uri": "https://localhost:8080/"
    },
    "id": "Hg7FmYX8l5e1",
    "outputId": "1f40c98b-6c9b-4a24-ce5d-c91cb30f7482"
   },
   "outputs": [],
   "source": [
    "bag_predict = bag.predict(test_columns)\n",
    "bag_accuracy = sum(bag_predict == test_pos) / len(test_pos)\n",
    "bag_accuracy"
   ]
  },
  {
   "cell_type": "code",
   "execution_count": null,
   "metadata": {
    "colab": {
     "base_uri": "https://localhost:8080/",
     "height": 355
    },
    "id": "iH0ojwMsnNYe",
    "outputId": "5222a47b-e915-40fa-af7e-0726bff2f286"
   },
   "outputs": [],
   "source": [
    "rf = RandomForestClassifier()\n",
    "\n",
    "param_values = {'max_features': np.arange(1,len(train_columns.columns)+1,1),\n",
    "               'random_state': [23]}\n",
    "\n",
    "rf_cv = GridSearchCV(rf, param_grid = param_values)\n",
    "rf_cv.fit(train_columns, train_pos)\n",
    "\n",
    "acc_rf = rf_cv.cv_results_['mean_test_score'] # what sklearn calls mean_test_score is the holdout set, i.e. the validation set.\n",
    "mf_rf = rf_cv.cv_results_['param_max_features'].data\n",
    "\n",
    "pd.DataFrame({'Max Features' : mf_rf, 'Validation Accuracy': acc_rf}).head(10).sort_values(\"Validation Accuracy\", ascending=False)"
   ]
  },
  {
   "cell_type": "code",
   "execution_count": null,
   "metadata": {
    "colab": {
     "base_uri": "https://localhost:8080/",
     "height": 264
    },
    "id": "TmRrXP1_nXEw",
    "outputId": "4be04ca9-21eb-4da6-9030-063b8f943a3e"
   },
   "outputs": [],
   "source": [
    "plt.plot(mf_rf, acc_rf);"
   ]
  },
  {
   "cell_type": "code",
   "execution_count": null,
   "metadata": {
    "id": "1vguzd1Znc8l"
   },
   "outputs": [],
   "source": [
    "rf = rf_cv.best_estimator_\n",
    "rf.fit(train_columns, train_pos);"
   ]
  },
  {
   "cell_type": "code",
   "execution_count": null,
   "metadata": {
    "colab": {
     "base_uri": "https://localhost:8080/"
    },
    "id": "w2hMeRKIngUg",
    "outputId": "e91f409d-17cc-4d61-979b-5674739a5c38"
   },
   "outputs": [],
   "source": [
    "rf_predict = rf_cv.best_estimator_.predict(test_columns)\n",
    "rf_accuracy = sum(rf_predict == test_pos) / len(test_pos)\n",
    "print(\"The accuracy of the Random Forest model on the test is\", rf_accuracy)"
   ]
  },
  {
   "cell_type": "markdown",
   "metadata": {
    "id": "7TSOs4iD9g5q"
   },
   "source": [
    "Compare the Performance of Models:\n",
    "\n"
   ]
  },
  {
   "cell_type": "code",
   "execution_count": null,
   "metadata": {
    "id": "D9vQ5cF9-yWX"
   },
   "outputs": [],
   "source": [
    "##NEED TO RENAME FUNCTIONS/VARIABLES IN THIS SECTION"
   ]
  },
  {
   "cell_type": "code",
   "execution_count": null,
   "metadata": {
    "id": "9yWjZvck-C8y"
   },
   "outputs": [],
   "source": [
    "#metrics to be used\n",
    "from sklearn.metrics import confusion_matrix\n",
    "def fpr(y_true, y_pred):\n",
    "    tn, fp, _, _ = confusion_matrix(y_true, y_pred).ravel()\n",
    "    return fp / (fp + tn)\n",
    "\n",
    "def acc_calc(y_true, y_pred):\n",
    "    return sum(y_pred == y_true) / len(y_true)\n",
    "\n",
    "def tpr(y_true, y_pred):\n",
    "    _, _, fn, tp = confusion_matrix(y_true, y_pred).ravel()\n",
    "    return tp / (tp + fn)"
   ]
  },
  {
   "cell_type": "code",
   "execution_count": null,
   "metadata": {
    "id": "NvOqlHrG-GkE"
   },
   "outputs": [],
   "source": [
    "def compute_metrics(y_true,y_pred, model_name):\n",
    "    \"\"\"Computes the accuracy, true positive rate, and false positive rate for a given model\n",
    "    y_true: a numpy array with the true y-values\n",
    "    y_pred: a numpy array with te false y-values\n",
    "    model_name: a string with the name of the model (just used for printing results)\n",
    "    returns values in the order acc, tpr, fpr\n",
    "    \"\"\"\n",
    "    acc1 = acc_calc(y_true, y_pred)\n",
    "    tpr2 = tpr(y_true,y_pred)\n",
    "    fpr2 = fpr(y_true,y_pred)\n",
    "    \n",
    "    print(f\"The accuracy of the {model_name} is {acc1}\")\n",
    "    print(f\"The true positive rate of the {model_name} is {tpr2}\")\n",
    "    print(f\"The false positive rate of the {model_name} is {fpr2}\")\n",
    "    return acc1, tpr2, fpr2"
   ]
  },
  {
   "cell_type": "code",
   "execution_count": null,
   "metadata": {
    "id": "ud1XXE_l-NoD"
   },
   "outputs": [],
   "source": [
    "def bootstrap(model_list, test_data, true_y, metrics, sample = 500):\n",
    "    \"\"\"Computes the bootstrap of a list of metrics for a list of models\n",
    "    model_list: list of models to use\n",
    "    test_data: dataframe of testing columns - must not include response variable!\n",
    "    true_y: Series of true response variable values\n",
    "    metrics: list of metrics to be computed. Metrics must be functions that each take an input of (y_actual, y_predicted)\n",
    "    sample: number of bootstrap samples to be computed\n",
    "    \"\"\"\n",
    "    output_array = np.zeros((len(metrics),len(model_list), sample))\n",
    "    for i in range(sample):\n",
    "        \n",
    "        #create the bootstrapped data:\n",
    "        index = np.random.choice(test_data.index, len(test_data.index), replace=True)\n",
    "        data = test_data.loc[index]\n",
    "        y = true_y.loc[index]\n",
    "        \n",
    "        #fit the data to each model:\n",
    "        for j in range(len(model_list)):\n",
    "            predictions = model_list[j].predict(data)\n",
    "            \n",
    "            for k in range(len(metrics)):\n",
    "                output_array[k,j,i] = metrics[k](y, predictions)\n",
    "        \n",
    "    return output_array"
   ]
  },
  {
   "cell_type": "code",
   "execution_count": 11,
   "metadata": {
    "id": "LbOM29_f-dod"
   },
   "outputs": [],
   "source": [
    "def ci(data, param_est, cl = 0.95):\n",
    "    lower = param_est - np.quantile(data, 1-(1-cl)/2)\n",
    "    upper = param_est - np.quantile(data, (1-cl)/2)\n",
    "    return [lower, upper]"
   ]
  },
  {
   "cell_type": "code",
   "execution_count": null,
   "metadata": {
    "id": "TkOQnlYl-TUy"
   },
   "outputs": [],
   "source": [
    "##CANT add logistic regression to comparison until determine decision rule!\n",
    "param_est = [acc_calc(test_pos, y_predLDA),\n",
    "             acc_calc(test_pos, cart_predict),\n",
    "             acc_calc(test_pos, bag_predict),\n",
    "             acc_calc(test_pos, rf_predict)]\n",
    "\n",
    "model_names = [\"LDA\", \"CART\", \"Bagging\", \"Random Forest\"]"
   ]
  },
  {
   "cell_type": "code",
   "execution_count": null,
   "metadata": {
    "colab": {
     "base_uri": "https://localhost:8080/",
     "height": 567
    },
    "id": "_nD4ejV_AWlW",
    "outputId": "215ae2c6-4d0a-47f1-82bf-b7bb23f52172"
   },
   "outputs": [
    {
     "name": "stderr",
     "output_type": "stream",
     "text": [
      "/usr/local/lib/python3.7/dist-packages/sklearn/base.py:488: FutureWarning: The feature names should match those that were passed during fit. Starting version 1.2, an error will be raised.\n",
      "Feature names unseen at fit time:\n",
      "- Month_Aug\n",
      "- Month_Dec\n",
      "- Month_Feb\n",
      "- Month_Jan\n",
      "- Month_Jul\n",
      "- ...\n",
      "Feature names seen at fit time, yet now missing:\n",
      "- release_month\n",
      "\n",
      "  warnings.warn(message, FutureWarning)\n"
     ]
    },
    {
     "ename": "ValueError",
     "evalue": "ignored",
     "output_type": "error",
     "traceback": [
      "\u001b[0;31m---------------------------------------------------------------------------\u001b[0m",
      "\u001b[0;31mValueError\u001b[0m                                Traceback (most recent call last)",
      "\u001b[0;32m<ipython-input-44-767c76c221df>\u001b[0m in \u001b[0;36m<module>\u001b[0;34m()\u001b[0m\n\u001b[1;32m      1\u001b[0m \u001b[0mmodel_list\u001b[0m \u001b[0;34m=\u001b[0m \u001b[0;34m[\u001b[0m\u001b[0mlda100\u001b[0m\u001b[0;34m,\u001b[0m \u001b[0mdtc\u001b[0m\u001b[0;34m,\u001b[0m \u001b[0mbag\u001b[0m\u001b[0;34m,\u001b[0m \u001b[0mrf\u001b[0m\u001b[0;34m]\u001b[0m\u001b[0;34m\u001b[0m\u001b[0;34m\u001b[0m\u001b[0m\n\u001b[0;32m----> 2\u001b[0;31m \u001b[0macc_values\u001b[0m \u001b[0;34m=\u001b[0m \u001b[0mbootstrap\u001b[0m\u001b[0;34m(\u001b[0m\u001b[0mmodel_list\u001b[0m\u001b[0;34m,\u001b[0m \u001b[0mtest_columns\u001b[0m\u001b[0;34m,\u001b[0m \u001b[0mtest_pos\u001b[0m\u001b[0;34m,\u001b[0m \u001b[0macc\u001b[0m\u001b[0;34m)\u001b[0m\u001b[0;34m\u001b[0m\u001b[0;34m\u001b[0m\u001b[0m\n\u001b[0m",
      "\u001b[0;32m<ipython-input-41-7619defcff04>\u001b[0m in \u001b[0;36mbootstrap\u001b[0;34m(model_list, test_data, true_y, metrics, sample)\u001b[0m\n\u001b[1;32m     17\u001b[0m         \u001b[0;31m#fit the data to each model:\u001b[0m\u001b[0;34m\u001b[0m\u001b[0;34m\u001b[0m\u001b[0;34m\u001b[0m\u001b[0m\n\u001b[1;32m     18\u001b[0m         \u001b[0;32mfor\u001b[0m \u001b[0mj\u001b[0m \u001b[0;32min\u001b[0m \u001b[0mrange\u001b[0m\u001b[0;34m(\u001b[0m\u001b[0mlen\u001b[0m\u001b[0;34m(\u001b[0m\u001b[0mmodel_list\u001b[0m\u001b[0;34m)\u001b[0m\u001b[0;34m)\u001b[0m\u001b[0;34m:\u001b[0m\u001b[0;34m\u001b[0m\u001b[0;34m\u001b[0m\u001b[0m\n\u001b[0;32m---> 19\u001b[0;31m             \u001b[0mpredictions\u001b[0m \u001b[0;34m=\u001b[0m \u001b[0mmodel_list\u001b[0m\u001b[0;34m[\u001b[0m\u001b[0mj\u001b[0m\u001b[0;34m]\u001b[0m\u001b[0;34m.\u001b[0m\u001b[0mpredict\u001b[0m\u001b[0;34m(\u001b[0m\u001b[0mdata\u001b[0m\u001b[0;34m)\u001b[0m\u001b[0;34m\u001b[0m\u001b[0;34m\u001b[0m\u001b[0m\n\u001b[0m\u001b[1;32m     20\u001b[0m \u001b[0;34m\u001b[0m\u001b[0m\n\u001b[1;32m     21\u001b[0m             \u001b[0;32mfor\u001b[0m \u001b[0mk\u001b[0m \u001b[0;32min\u001b[0m \u001b[0mrange\u001b[0m\u001b[0;34m(\u001b[0m\u001b[0mlen\u001b[0m\u001b[0;34m(\u001b[0m\u001b[0mmetrics\u001b[0m\u001b[0;34m)\u001b[0m\u001b[0;34m)\u001b[0m\u001b[0;34m:\u001b[0m\u001b[0;34m\u001b[0m\u001b[0;34m\u001b[0m\u001b[0m\n",
      "\u001b[0;32m/usr/local/lib/python3.7/dist-packages/sklearn/linear_model/_base.py\u001b[0m in \u001b[0;36mpredict\u001b[0;34m(self, X)\u001b[0m\n\u001b[1;32m    423\u001b[0m             \u001b[0mPredicted\u001b[0m \u001b[0;32mclass\u001b[0m \u001b[0mlabel\u001b[0m \u001b[0mper\u001b[0m \u001b[0msample\u001b[0m\u001b[0;34m.\u001b[0m\u001b[0;34m\u001b[0m\u001b[0;34m\u001b[0m\u001b[0m\n\u001b[1;32m    424\u001b[0m         \"\"\"\n\u001b[0;32m--> 425\u001b[0;31m         \u001b[0mscores\u001b[0m \u001b[0;34m=\u001b[0m \u001b[0mself\u001b[0m\u001b[0;34m.\u001b[0m\u001b[0mdecision_function\u001b[0m\u001b[0;34m(\u001b[0m\u001b[0mX\u001b[0m\u001b[0;34m)\u001b[0m\u001b[0;34m\u001b[0m\u001b[0;34m\u001b[0m\u001b[0m\n\u001b[0m\u001b[1;32m    426\u001b[0m         \u001b[0;32mif\u001b[0m \u001b[0mlen\u001b[0m\u001b[0;34m(\u001b[0m\u001b[0mscores\u001b[0m\u001b[0;34m.\u001b[0m\u001b[0mshape\u001b[0m\u001b[0;34m)\u001b[0m \u001b[0;34m==\u001b[0m \u001b[0;36m1\u001b[0m\u001b[0;34m:\u001b[0m\u001b[0;34m\u001b[0m\u001b[0;34m\u001b[0m\u001b[0m\n\u001b[1;32m    427\u001b[0m             \u001b[0mindices\u001b[0m \u001b[0;34m=\u001b[0m \u001b[0;34m(\u001b[0m\u001b[0mscores\u001b[0m \u001b[0;34m>\u001b[0m \u001b[0;36m0\u001b[0m\u001b[0;34m)\u001b[0m\u001b[0;34m.\u001b[0m\u001b[0mastype\u001b[0m\u001b[0;34m(\u001b[0m\u001b[0mint\u001b[0m\u001b[0;34m)\u001b[0m\u001b[0;34m\u001b[0m\u001b[0;34m\u001b[0m\u001b[0m\n",
      "\u001b[0;32m/usr/local/lib/python3.7/dist-packages/sklearn/discriminant_analysis.py\u001b[0m in \u001b[0;36mdecision_function\u001b[0;34m(self, X)\u001b[0m\n\u001b[1;32m    704\u001b[0m         \"\"\"\n\u001b[1;32m    705\u001b[0m         \u001b[0;31m# Only override for the doc\u001b[0m\u001b[0;34m\u001b[0m\u001b[0;34m\u001b[0m\u001b[0;34m\u001b[0m\u001b[0m\n\u001b[0;32m--> 706\u001b[0;31m         \u001b[0;32mreturn\u001b[0m \u001b[0msuper\u001b[0m\u001b[0;34m(\u001b[0m\u001b[0;34m)\u001b[0m\u001b[0;34m.\u001b[0m\u001b[0mdecision_function\u001b[0m\u001b[0;34m(\u001b[0m\u001b[0mX\u001b[0m\u001b[0;34m)\u001b[0m\u001b[0;34m\u001b[0m\u001b[0;34m\u001b[0m\u001b[0m\n\u001b[0m\u001b[1;32m    707\u001b[0m \u001b[0;34m\u001b[0m\u001b[0m\n\u001b[1;32m    708\u001b[0m \u001b[0;34m\u001b[0m\u001b[0m\n",
      "\u001b[0;32m/usr/local/lib/python3.7/dist-packages/sklearn/linear_model/_base.py\u001b[0m in \u001b[0;36mdecision_function\u001b[0;34m(self, X)\u001b[0m\n\u001b[1;32m    405\u001b[0m         \u001b[0mcheck_is_fitted\u001b[0m\u001b[0;34m(\u001b[0m\u001b[0mself\u001b[0m\u001b[0;34m)\u001b[0m\u001b[0;34m\u001b[0m\u001b[0;34m\u001b[0m\u001b[0m\n\u001b[1;32m    406\u001b[0m \u001b[0;34m\u001b[0m\u001b[0m\n\u001b[0;32m--> 407\u001b[0;31m         \u001b[0mX\u001b[0m \u001b[0;34m=\u001b[0m \u001b[0mself\u001b[0m\u001b[0;34m.\u001b[0m\u001b[0m_validate_data\u001b[0m\u001b[0;34m(\u001b[0m\u001b[0mX\u001b[0m\u001b[0;34m,\u001b[0m \u001b[0maccept_sparse\u001b[0m\u001b[0;34m=\u001b[0m\u001b[0;34m\"csr\"\u001b[0m\u001b[0;34m,\u001b[0m \u001b[0mreset\u001b[0m\u001b[0;34m=\u001b[0m\u001b[0;32mFalse\u001b[0m\u001b[0;34m)\u001b[0m\u001b[0;34m\u001b[0m\u001b[0;34m\u001b[0m\u001b[0m\n\u001b[0m\u001b[1;32m    408\u001b[0m         \u001b[0mscores\u001b[0m \u001b[0;34m=\u001b[0m \u001b[0msafe_sparse_dot\u001b[0m\u001b[0;34m(\u001b[0m\u001b[0mX\u001b[0m\u001b[0;34m,\u001b[0m \u001b[0mself\u001b[0m\u001b[0;34m.\u001b[0m\u001b[0mcoef_\u001b[0m\u001b[0;34m.\u001b[0m\u001b[0mT\u001b[0m\u001b[0;34m,\u001b[0m \u001b[0mdense_output\u001b[0m\u001b[0;34m=\u001b[0m\u001b[0;32mTrue\u001b[0m\u001b[0;34m)\u001b[0m \u001b[0;34m+\u001b[0m \u001b[0mself\u001b[0m\u001b[0;34m.\u001b[0m\u001b[0mintercept_\u001b[0m\u001b[0;34m\u001b[0m\u001b[0;34m\u001b[0m\u001b[0m\n\u001b[1;32m    409\u001b[0m         \u001b[0;32mreturn\u001b[0m \u001b[0mscores\u001b[0m\u001b[0;34m.\u001b[0m\u001b[0mravel\u001b[0m\u001b[0;34m(\u001b[0m\u001b[0;34m)\u001b[0m \u001b[0;32mif\u001b[0m \u001b[0mscores\u001b[0m\u001b[0;34m.\u001b[0m\u001b[0mshape\u001b[0m\u001b[0;34m[\u001b[0m\u001b[0;36m1\u001b[0m\u001b[0;34m]\u001b[0m \u001b[0;34m==\u001b[0m \u001b[0;36m1\u001b[0m \u001b[0;32melse\u001b[0m \u001b[0mscores\u001b[0m\u001b[0;34m\u001b[0m\u001b[0;34m\u001b[0m\u001b[0m\n",
      "\u001b[0;32m/usr/local/lib/python3.7/dist-packages/sklearn/base.py\u001b[0m in \u001b[0;36m_validate_data\u001b[0;34m(self, X, y, reset, validate_separately, **check_params)\u001b[0m\n\u001b[1;32m    578\u001b[0m \u001b[0;34m\u001b[0m\u001b[0m\n\u001b[1;32m    579\u001b[0m         \u001b[0;32mif\u001b[0m \u001b[0;32mnot\u001b[0m \u001b[0mno_val_X\u001b[0m \u001b[0;32mand\u001b[0m \u001b[0mcheck_params\u001b[0m\u001b[0;34m.\u001b[0m\u001b[0mget\u001b[0m\u001b[0;34m(\u001b[0m\u001b[0;34m\"ensure_2d\"\u001b[0m\u001b[0;34m,\u001b[0m \u001b[0;32mTrue\u001b[0m\u001b[0;34m)\u001b[0m\u001b[0;34m:\u001b[0m\u001b[0;34m\u001b[0m\u001b[0;34m\u001b[0m\u001b[0m\n\u001b[0;32m--> 580\u001b[0;31m             \u001b[0mself\u001b[0m\u001b[0;34m.\u001b[0m\u001b[0m_check_n_features\u001b[0m\u001b[0;34m(\u001b[0m\u001b[0mX\u001b[0m\u001b[0;34m,\u001b[0m \u001b[0mreset\u001b[0m\u001b[0;34m=\u001b[0m\u001b[0mreset\u001b[0m\u001b[0;34m)\u001b[0m\u001b[0;34m\u001b[0m\u001b[0;34m\u001b[0m\u001b[0m\n\u001b[0m\u001b[1;32m    581\u001b[0m \u001b[0;34m\u001b[0m\u001b[0m\n\u001b[1;32m    582\u001b[0m         \u001b[0;32mreturn\u001b[0m \u001b[0mout\u001b[0m\u001b[0;34m\u001b[0m\u001b[0;34m\u001b[0m\u001b[0m\n",
      "\u001b[0;32m/usr/local/lib/python3.7/dist-packages/sklearn/base.py\u001b[0m in \u001b[0;36m_check_n_features\u001b[0;34m(self, X, reset)\u001b[0m\n\u001b[1;32m    394\u001b[0m         \u001b[0;32mif\u001b[0m \u001b[0mn_features\u001b[0m \u001b[0;34m!=\u001b[0m \u001b[0mself\u001b[0m\u001b[0;34m.\u001b[0m\u001b[0mn_features_in_\u001b[0m\u001b[0;34m:\u001b[0m\u001b[0;34m\u001b[0m\u001b[0;34m\u001b[0m\u001b[0m\n\u001b[1;32m    395\u001b[0m             raise ValueError(\n\u001b[0;32m--> 396\u001b[0;31m                 \u001b[0;34mf\"X has {n_features} features, but {self.__class__.__name__} \"\u001b[0m\u001b[0;34m\u001b[0m\u001b[0;34m\u001b[0m\u001b[0m\n\u001b[0m\u001b[1;32m    397\u001b[0m                 \u001b[0;34mf\"is expecting {self.n_features_in_} features as input.\"\u001b[0m\u001b[0;34m\u001b[0m\u001b[0;34m\u001b[0m\u001b[0m\n\u001b[1;32m    398\u001b[0m             )\n",
      "\u001b[0;31mValueError\u001b[0m: X has 42 features, but LinearDiscriminantAnalysis is expecting 17 features as input."
     ]
    }
   ],
   "source": [
    "model_list = [lda100, dtc, bag, rf]\n",
    "acc_values = bootstrap(model_list, test_columns, test_pos, acc)"
   ]
  },
  {
   "cell_type": "code",
   "execution_count": 15,
   "metadata": {
    "id": "46SGq9JW-jDL"
   },
   "outputs": [
    {
     "ename": "NameError",
     "evalue": "name 'lda100' is not defined",
     "output_type": "error",
     "traceback": [
      "\u001b[1;31m---------------------------------------------------------------------------\u001b[0m",
      "\u001b[1;31mNameError\u001b[0m                                 Traceback (most recent call last)",
      "\u001b[1;32m<ipython-input-15-f33c2f96bfd8>\u001b[0m in \u001b[0;36m<module>\u001b[1;34m\u001b[0m\n\u001b[0;32m      3\u001b[0m \u001b[0mlower\u001b[0m \u001b[1;33m=\u001b[0m \u001b[1;33m[\u001b[0m\u001b[1;33m]\u001b[0m\u001b[1;33m\u001b[0m\u001b[1;33m\u001b[0m\u001b[0m\n\u001b[0;32m      4\u001b[0m \u001b[0mupper\u001b[0m \u001b[1;33m=\u001b[0m \u001b[1;33m[\u001b[0m\u001b[1;33m]\u001b[0m\u001b[1;33m\u001b[0m\u001b[1;33m\u001b[0m\u001b[0m\n\u001b[1;32m----> 5\u001b[1;33m \u001b[0mmodel_list\u001b[0m \u001b[1;33m=\u001b[0m \u001b[1;33m[\u001b[0m\u001b[0mlda100\u001b[0m\u001b[1;33m,\u001b[0m \u001b[0mdtc\u001b[0m\u001b[1;33m,\u001b[0m \u001b[0mbag\u001b[0m\u001b[1;33m,\u001b[0m \u001b[0mrf\u001b[0m\u001b[1;33m]\u001b[0m\u001b[1;33m\u001b[0m\u001b[1;33m\u001b[0m\u001b[0m\n\u001b[0m\u001b[0;32m      6\u001b[0m \u001b[0macc_values_copy\u001b[0m \u001b[1;33m=\u001b[0m \u001b[0macc_values\u001b[0m\u001b[1;33m.\u001b[0m\u001b[0mcopy\u001b[0m\u001b[1;33m(\u001b[0m\u001b[1;33m)\u001b[0m \u001b[1;31m#index into values properly\u001b[0m\u001b[1;33m\u001b[0m\u001b[1;33m\u001b[0m\u001b[0m\n\u001b[0;32m      7\u001b[0m \u001b[1;33m\u001b[0m\u001b[0m\n",
      "\u001b[1;31mNameError\u001b[0m: name 'lda100' is not defined"
     ]
    }
   ],
   "source": [
    "model1_list = []\n",
    "model2_list = []\n",
    "lower = []\n",
    "upper = []\n",
    "model_list = [lda100, dtc, bag, rf]\n",
    "acc_values_copy = acc_values.copy() #index into values properly\n",
    "\n",
    "#now compare each set of models\n",
    "while len(model_list) > 0:\n",
    "    #pulls the information about the first model and then deletes it from list to avoid comparing model to itself\n",
    "    model1 = model_list.pop(0)\n",
    "    param1 = param_est.pop(0)\n",
    "    data1 = acc_values_copy[0]\n",
    "    acc_values_copy = np.delete(acc_values_copy,0,axis=0)\n",
    "    \n",
    "    for i in range(len(model_list)):\n",
    "        \n",
    "        \n",
    "        if model1 != model_list[i]:\n",
    "            model1_list.append(model1)\n",
    "            model2_list.append(model_list[i])\n",
    "            \n",
    "            #now calculate the confidence interval\n",
    "            temp = data1 - acc_values_copy[i]\n",
    "            temp_ci = ci(np.array(temp) - (param1 - param_est[i]), param1 - param_est[i])\n",
    "            \n",
    "            lower.append(temp_ci[0])\n",
    "            upper.append(temp_ci[1])"
   ]
  }
 ],
 "metadata": {
  "colab": {
   "collapsed_sections": [],
   "name": "142_Project.ipynb",
   "provenance": []
  },
  "kernelspec": {
   "display_name": "Python 3",
   "language": "python",
   "name": "python3"
  },
  "language_info": {
   "codemirror_mode": {
    "name": "ipython",
    "version": 3
   },
   "file_extension": ".py",
   "mimetype": "text/x-python",
   "name": "python",
   "nbconvert_exporter": "python",
   "pygments_lexer": "ipython3",
   "version": "3.8.5"
  }
 },
 "nbformat": 4,
 "nbformat_minor": 1
}

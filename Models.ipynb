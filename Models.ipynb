{
 "cells": [
  {
   "cell_type": "code",
   "execution_count": 1,
   "metadata": {},
   "outputs": [],
   "source": [
    "import numpy as np\n",
    "import pandas as pd\n",
    "import matplotlib.pyplot as plt"
   ]
  },
  {
   "cell_type": "markdown",
   "metadata": {},
   "source": [
    "# Data Processing"
   ]
  },
  {
   "cell_type": "code",
   "execution_count": 2,
   "metadata": {},
   "outputs": [
    {
     "data": {
      "text/html": [
       "<div>\n",
       "<style scoped>\n",
       "    .dataframe tbody tr th:only-of-type {\n",
       "        vertical-align: middle;\n",
       "    }\n",
       "\n",
       "    .dataframe tbody tr th {\n",
       "        vertical-align: top;\n",
       "    }\n",
       "\n",
       "    .dataframe thead th {\n",
       "        text-align: right;\n",
       "    }\n",
       "</style>\n",
       "<table border=\"1\" class=\"dataframe\">\n",
       "  <thead>\n",
       "    <tr style=\"text-align: right;\">\n",
       "      <th></th>\n",
       "      <th>Unnamed: 0</th>\n",
       "      <th>artist_name</th>\n",
       "      <th>track_name</th>\n",
       "      <th>track_id</th>\n",
       "      <th>popularity</th>\n",
       "      <th>release_date</th>\n",
       "      <th>artist_followers</th>\n",
       "      <th>Position</th>\n",
       "      <th>Track Name</th>\n",
       "      <th>Artist</th>\n",
       "      <th>...</th>\n",
       "      <th>liveness</th>\n",
       "      <th>valence</th>\n",
       "      <th>tempo</th>\n",
       "      <th>type</th>\n",
       "      <th>id</th>\n",
       "      <th>uri</th>\n",
       "      <th>track_href</th>\n",
       "      <th>analysis_url</th>\n",
       "      <th>duration_ms</th>\n",
       "      <th>time_signature</th>\n",
       "    </tr>\n",
       "  </thead>\n",
       "  <tbody>\n",
       "    <tr>\n",
       "      <th>0</th>\n",
       "      <td>0</td>\n",
       "      <td>Migos</td>\n",
       "      <td>Bad and Boujee (feat. Lil Uzi Vert)</td>\n",
       "      <td>4Km5HrUvYTaSUfiSGPJeQR</td>\n",
       "      <td>74</td>\n",
       "      <td>2017-01-27</td>\n",
       "      <td>11884750</td>\n",
       "      <td>1</td>\n",
       "      <td>Bad and Boujee (feat. Lil Uzi Vert)</td>\n",
       "      <td>Migos</td>\n",
       "      <td>...</td>\n",
       "      <td>0.123</td>\n",
       "      <td>0.175</td>\n",
       "      <td>127.076</td>\n",
       "      <td>audio_features</td>\n",
       "      <td>4Km5HrUvYTaSUfiSGPJeQR</td>\n",
       "      <td>spotify:track:4Km5HrUvYTaSUfiSGPJeQR</td>\n",
       "      <td>https://api.spotify.com/v1/tracks/4Km5HrUvYTaS...</td>\n",
       "      <td>https://api.spotify.com/v1/audio-analysis/4Km5...</td>\n",
       "      <td>343150.0</td>\n",
       "      <td>4.0</td>\n",
       "    </tr>\n",
       "  </tbody>\n",
       "</table>\n",
       "<p>1 rows × 32 columns</p>\n",
       "</div>"
      ],
      "text/plain": [
       "   Unnamed: 0 artist_name                           track_name  \\\n",
       "0           0       Migos  Bad and Boujee (feat. Lil Uzi Vert)   \n",
       "\n",
       "                 track_id  popularity release_date  artist_followers  \\\n",
       "0  4Km5HrUvYTaSUfiSGPJeQR          74   2017-01-27          11884750   \n",
       "\n",
       "   Position                           Track Name Artist  ...  liveness  \\\n",
       "0         1  Bad and Boujee (feat. Lil Uzi Vert)  Migos  ...     0.123   \n",
       "\n",
       "  valence    tempo            type                      id  \\\n",
       "0   0.175  127.076  audio_features  4Km5HrUvYTaSUfiSGPJeQR   \n",
       "\n",
       "                                    uri  \\\n",
       "0  spotify:track:4Km5HrUvYTaSUfiSGPJeQR   \n",
       "\n",
       "                                          track_href  \\\n",
       "0  https://api.spotify.com/v1/tracks/4Km5HrUvYTaS...   \n",
       "\n",
       "                                        analysis_url  duration_ms  \\\n",
       "0  https://api.spotify.com/v1/audio-analysis/4Km5...     343150.0   \n",
       "\n",
       "   time_signature  \n",
       "0             4.0  \n",
       "\n",
       "[1 rows x 32 columns]"
      ]
     },
     "execution_count": 2,
     "metadata": {},
     "output_type": "execute_result"
    }
   ],
   "source": [
    "data = pd.read_csv(\"https://raw.githubusercontent.com/mayaasprouse/142_Project/main/Spotify_data.csv\")\n",
    "data.head(1)"
   ]
  },
  {
   "cell_type": "code",
   "execution_count": 3,
   "metadata": {},
   "outputs": [
    {
     "data": {
      "text/html": [
       "<div>\n",
       "<style scoped>\n",
       "    .dataframe tbody tr th:only-of-type {\n",
       "        vertical-align: middle;\n",
       "    }\n",
       "\n",
       "    .dataframe tbody tr th {\n",
       "        vertical-align: top;\n",
       "    }\n",
       "\n",
       "    .dataframe thead th {\n",
       "        text-align: right;\n",
       "    }\n",
       "</style>\n",
       "<table border=\"1\" class=\"dataframe\">\n",
       "  <thead>\n",
       "    <tr style=\"text-align: right;\">\n",
       "      <th></th>\n",
       "      <th>release_date</th>\n",
       "      <th>artist_followers</th>\n",
       "      <th>Position</th>\n",
       "      <th>Month</th>\n",
       "      <th>Year</th>\n",
       "      <th>danceability</th>\n",
       "      <th>energy</th>\n",
       "      <th>key</th>\n",
       "      <th>loudness</th>\n",
       "      <th>mode</th>\n",
       "      <th>speechiness</th>\n",
       "      <th>acousticness</th>\n",
       "      <th>instrumentalness</th>\n",
       "      <th>liveness</th>\n",
       "      <th>valence</th>\n",
       "      <th>tempo</th>\n",
       "      <th>duration_ms</th>\n",
       "      <th>time_signature</th>\n",
       "    </tr>\n",
       "  </thead>\n",
       "  <tbody>\n",
       "    <tr>\n",
       "      <th>0</th>\n",
       "      <td>2017-01-27</td>\n",
       "      <td>11884750</td>\n",
       "      <td>1</td>\n",
       "      <td>Jan</td>\n",
       "      <td>2017</td>\n",
       "      <td>0.927</td>\n",
       "      <td>0.665</td>\n",
       "      <td>11.0</td>\n",
       "      <td>-5.313</td>\n",
       "      <td>1.0</td>\n",
       "      <td>0.244</td>\n",
       "      <td>0.061</td>\n",
       "      <td>0.0</td>\n",
       "      <td>0.123</td>\n",
       "      <td>0.175</td>\n",
       "      <td>127.076</td>\n",
       "      <td>343150.0</td>\n",
       "      <td>4.0</td>\n",
       "    </tr>\n",
       "    <tr>\n",
       "      <th>1</th>\n",
       "      <td>2017-01-27</td>\n",
       "      <td>11884750</td>\n",
       "      <td>1</td>\n",
       "      <td>Feb</td>\n",
       "      <td>2017</td>\n",
       "      <td>0.927</td>\n",
       "      <td>0.665</td>\n",
       "      <td>11.0</td>\n",
       "      <td>-5.313</td>\n",
       "      <td>1.0</td>\n",
       "      <td>0.244</td>\n",
       "      <td>0.061</td>\n",
       "      <td>0.0</td>\n",
       "      <td>0.123</td>\n",
       "      <td>0.175</td>\n",
       "      <td>127.076</td>\n",
       "      <td>343150.0</td>\n",
       "      <td>4.0</td>\n",
       "    </tr>\n",
       "    <tr>\n",
       "      <th>2</th>\n",
       "      <td>2017-01-27</td>\n",
       "      <td>11884750</td>\n",
       "      <td>4</td>\n",
       "      <td>March</td>\n",
       "      <td>2017</td>\n",
       "      <td>0.927</td>\n",
       "      <td>0.665</td>\n",
       "      <td>11.0</td>\n",
       "      <td>-5.313</td>\n",
       "      <td>1.0</td>\n",
       "      <td>0.244</td>\n",
       "      <td>0.061</td>\n",
       "      <td>0.0</td>\n",
       "      <td>0.123</td>\n",
       "      <td>0.175</td>\n",
       "      <td>127.076</td>\n",
       "      <td>343150.0</td>\n",
       "      <td>4.0</td>\n",
       "    </tr>\n",
       "    <tr>\n",
       "      <th>3</th>\n",
       "      <td>2017-01-27</td>\n",
       "      <td>11884750</td>\n",
       "      <td>16</td>\n",
       "      <td>April</td>\n",
       "      <td>2017</td>\n",
       "      <td>0.927</td>\n",
       "      <td>0.665</td>\n",
       "      <td>11.0</td>\n",
       "      <td>-5.313</td>\n",
       "      <td>1.0</td>\n",
       "      <td>0.244</td>\n",
       "      <td>0.061</td>\n",
       "      <td>0.0</td>\n",
       "      <td>0.123</td>\n",
       "      <td>0.175</td>\n",
       "      <td>127.076</td>\n",
       "      <td>343150.0</td>\n",
       "      <td>4.0</td>\n",
       "    </tr>\n",
       "    <tr>\n",
       "      <th>4</th>\n",
       "      <td>2017-01-27</td>\n",
       "      <td>11884750</td>\n",
       "      <td>34</td>\n",
       "      <td>May</td>\n",
       "      <td>2017</td>\n",
       "      <td>0.927</td>\n",
       "      <td>0.665</td>\n",
       "      <td>11.0</td>\n",
       "      <td>-5.313</td>\n",
       "      <td>1.0</td>\n",
       "      <td>0.244</td>\n",
       "      <td>0.061</td>\n",
       "      <td>0.0</td>\n",
       "      <td>0.123</td>\n",
       "      <td>0.175</td>\n",
       "      <td>127.076</td>\n",
       "      <td>343150.0</td>\n",
       "      <td>4.0</td>\n",
       "    </tr>\n",
       "  </tbody>\n",
       "</table>\n",
       "</div>"
      ],
      "text/plain": [
       "  release_date  artist_followers  Position  Month  Year  danceability  energy  \\\n",
       "0   2017-01-27          11884750         1    Jan  2017         0.927   0.665   \n",
       "1   2017-01-27          11884750         1    Feb  2017         0.927   0.665   \n",
       "2   2017-01-27          11884750         4  March  2017         0.927   0.665   \n",
       "3   2017-01-27          11884750        16  April  2017         0.927   0.665   \n",
       "4   2017-01-27          11884750        34    May  2017         0.927   0.665   \n",
       "\n",
       "    key  loudness  mode  speechiness  acousticness  instrumentalness  \\\n",
       "0  11.0    -5.313   1.0        0.244         0.061               0.0   \n",
       "1  11.0    -5.313   1.0        0.244         0.061               0.0   \n",
       "2  11.0    -5.313   1.0        0.244         0.061               0.0   \n",
       "3  11.0    -5.313   1.0        0.244         0.061               0.0   \n",
       "4  11.0    -5.313   1.0        0.244         0.061               0.0   \n",
       "\n",
       "   liveness  valence    tempo  duration_ms  time_signature  \n",
       "0     0.123    0.175  127.076     343150.0             4.0  \n",
       "1     0.123    0.175  127.076     343150.0             4.0  \n",
       "2     0.123    0.175  127.076     343150.0             4.0  \n",
       "3     0.123    0.175  127.076     343150.0             4.0  \n",
       "4     0.123    0.175  127.076     343150.0             4.0  "
      ]
     },
     "execution_count": 3,
     "metadata": {},
     "output_type": "execute_result"
    }
   ],
   "source": [
    "#might also want to drop artist followers as number of followers only \n",
    "# extracted at day of data pull, not at date of position record`b\n",
    "data = data.drop([\"Unnamed: 0\",\n",
    "           \"artist_name\",\n",
    "           \"track_id\", \n",
    "           \"popularity\", \n",
    "           \"track_name\", \n",
    "           \"Track Name\", \n",
    "           \"Artist\", \n",
    "           \"Streams\", \n",
    "           \"URL\", \n",
    "           \"type\", \n",
    "           \"id\", \n",
    "           \"uri\", \n",
    "           \"track_href\", \n",
    "           \"analysis_url\"], axis=1)\n",
    "data.head()"
   ]
  },
  {
   "cell_type": "markdown",
   "metadata": {},
   "source": [
    "## Time Series Extraction"
   ]
  },
  {
   "cell_type": "code",
   "execution_count": 4,
   "metadata": {},
   "outputs": [
    {
     "data": {
      "text/html": [
       "<div>\n",
       "<style scoped>\n",
       "    .dataframe tbody tr th:only-of-type {\n",
       "        vertical-align: middle;\n",
       "    }\n",
       "\n",
       "    .dataframe tbody tr th {\n",
       "        vertical-align: top;\n",
       "    }\n",
       "\n",
       "    .dataframe thead th {\n",
       "        text-align: right;\n",
       "    }\n",
       "</style>\n",
       "<table border=\"1\" class=\"dataframe\">\n",
       "  <thead>\n",
       "    <tr style=\"text-align: right;\">\n",
       "      <th></th>\n",
       "      <th>release_date</th>\n",
       "      <th>artist_followers</th>\n",
       "      <th>Position</th>\n",
       "      <th>Month</th>\n",
       "      <th>Year</th>\n",
       "      <th>danceability</th>\n",
       "      <th>energy</th>\n",
       "      <th>key</th>\n",
       "      <th>loudness</th>\n",
       "      <th>mode</th>\n",
       "      <th>...</th>\n",
       "      <th>acousticness</th>\n",
       "      <th>instrumentalness</th>\n",
       "      <th>liveness</th>\n",
       "      <th>valence</th>\n",
       "      <th>tempo</th>\n",
       "      <th>duration_ms</th>\n",
       "      <th>time_signature</th>\n",
       "      <th>release_month</th>\n",
       "      <th>release_year</th>\n",
       "      <th>years_since_release</th>\n",
       "    </tr>\n",
       "  </thead>\n",
       "  <tbody>\n",
       "    <tr>\n",
       "      <th>0</th>\n",
       "      <td>2017-01-27</td>\n",
       "      <td>11884750</td>\n",
       "      <td>1</td>\n",
       "      <td>Jan</td>\n",
       "      <td>2017</td>\n",
       "      <td>0.927</td>\n",
       "      <td>0.665</td>\n",
       "      <td>11.0</td>\n",
       "      <td>-5.313</td>\n",
       "      <td>1.0</td>\n",
       "      <td>...</td>\n",
       "      <td>0.061</td>\n",
       "      <td>0.0</td>\n",
       "      <td>0.123</td>\n",
       "      <td>0.175</td>\n",
       "      <td>127.076</td>\n",
       "      <td>343150.0</td>\n",
       "      <td>4.0</td>\n",
       "      <td>1</td>\n",
       "      <td>2017</td>\n",
       "      <td>4</td>\n",
       "    </tr>\n",
       "    <tr>\n",
       "      <th>1</th>\n",
       "      <td>2017-01-27</td>\n",
       "      <td>11884750</td>\n",
       "      <td>1</td>\n",
       "      <td>Feb</td>\n",
       "      <td>2017</td>\n",
       "      <td>0.927</td>\n",
       "      <td>0.665</td>\n",
       "      <td>11.0</td>\n",
       "      <td>-5.313</td>\n",
       "      <td>1.0</td>\n",
       "      <td>...</td>\n",
       "      <td>0.061</td>\n",
       "      <td>0.0</td>\n",
       "      <td>0.123</td>\n",
       "      <td>0.175</td>\n",
       "      <td>127.076</td>\n",
       "      <td>343150.0</td>\n",
       "      <td>4.0</td>\n",
       "      <td>1</td>\n",
       "      <td>2017</td>\n",
       "      <td>4</td>\n",
       "    </tr>\n",
       "    <tr>\n",
       "      <th>2</th>\n",
       "      <td>2017-01-27</td>\n",
       "      <td>11884750</td>\n",
       "      <td>4</td>\n",
       "      <td>March</td>\n",
       "      <td>2017</td>\n",
       "      <td>0.927</td>\n",
       "      <td>0.665</td>\n",
       "      <td>11.0</td>\n",
       "      <td>-5.313</td>\n",
       "      <td>1.0</td>\n",
       "      <td>...</td>\n",
       "      <td>0.061</td>\n",
       "      <td>0.0</td>\n",
       "      <td>0.123</td>\n",
       "      <td>0.175</td>\n",
       "      <td>127.076</td>\n",
       "      <td>343150.0</td>\n",
       "      <td>4.0</td>\n",
       "      <td>1</td>\n",
       "      <td>2017</td>\n",
       "      <td>4</td>\n",
       "    </tr>\n",
       "    <tr>\n",
       "      <th>3</th>\n",
       "      <td>2017-01-27</td>\n",
       "      <td>11884750</td>\n",
       "      <td>16</td>\n",
       "      <td>April</td>\n",
       "      <td>2017</td>\n",
       "      <td>0.927</td>\n",
       "      <td>0.665</td>\n",
       "      <td>11.0</td>\n",
       "      <td>-5.313</td>\n",
       "      <td>1.0</td>\n",
       "      <td>...</td>\n",
       "      <td>0.061</td>\n",
       "      <td>0.0</td>\n",
       "      <td>0.123</td>\n",
       "      <td>0.175</td>\n",
       "      <td>127.076</td>\n",
       "      <td>343150.0</td>\n",
       "      <td>4.0</td>\n",
       "      <td>1</td>\n",
       "      <td>2017</td>\n",
       "      <td>4</td>\n",
       "    </tr>\n",
       "    <tr>\n",
       "      <th>4</th>\n",
       "      <td>2017-01-27</td>\n",
       "      <td>11884750</td>\n",
       "      <td>34</td>\n",
       "      <td>May</td>\n",
       "      <td>2017</td>\n",
       "      <td>0.927</td>\n",
       "      <td>0.665</td>\n",
       "      <td>11.0</td>\n",
       "      <td>-5.313</td>\n",
       "      <td>1.0</td>\n",
       "      <td>...</td>\n",
       "      <td>0.061</td>\n",
       "      <td>0.0</td>\n",
       "      <td>0.123</td>\n",
       "      <td>0.175</td>\n",
       "      <td>127.076</td>\n",
       "      <td>343150.0</td>\n",
       "      <td>4.0</td>\n",
       "      <td>1</td>\n",
       "      <td>2017</td>\n",
       "      <td>4</td>\n",
       "    </tr>\n",
       "  </tbody>\n",
       "</table>\n",
       "<p>5 rows × 21 columns</p>\n",
       "</div>"
      ],
      "text/plain": [
       "  release_date  artist_followers  Position  Month  Year  danceability  energy  \\\n",
       "0   2017-01-27          11884750         1    Jan  2017         0.927   0.665   \n",
       "1   2017-01-27          11884750         1    Feb  2017         0.927   0.665   \n",
       "2   2017-01-27          11884750         4  March  2017         0.927   0.665   \n",
       "3   2017-01-27          11884750        16  April  2017         0.927   0.665   \n",
       "4   2017-01-27          11884750        34    May  2017         0.927   0.665   \n",
       "\n",
       "    key  loudness  mode  ...  acousticness  instrumentalness  liveness  \\\n",
       "0  11.0    -5.313   1.0  ...         0.061               0.0     0.123   \n",
       "1  11.0    -5.313   1.0  ...         0.061               0.0     0.123   \n",
       "2  11.0    -5.313   1.0  ...         0.061               0.0     0.123   \n",
       "3  11.0    -5.313   1.0  ...         0.061               0.0     0.123   \n",
       "4  11.0    -5.313   1.0  ...         0.061               0.0     0.123   \n",
       "\n",
       "   valence    tempo  duration_ms  time_signature  release_month  release_year  \\\n",
       "0    0.175  127.076     343150.0             4.0              1          2017   \n",
       "1    0.175  127.076     343150.0             4.0              1          2017   \n",
       "2    0.175  127.076     343150.0             4.0              1          2017   \n",
       "3    0.175  127.076     343150.0             4.0              1          2017   \n",
       "4    0.175  127.076     343150.0             4.0              1          2017   \n",
       "\n",
       "   years_since_release  \n",
       "0                    4  \n",
       "1                    4  \n",
       "2                    4  \n",
       "3                    4  \n",
       "4                    4  \n",
       "\n",
       "[5 rows x 21 columns]"
      ]
     },
     "execution_count": 4,
     "metadata": {},
     "output_type": "execute_result"
    }
   ],
   "source": [
    "#make years since release a variable\n",
    "data['release_month'] = pd.to_datetime(data[\"release_date\"]).dt.month\n",
    "data['release_year'] = pd.to_datetime(data[\"release_date\"]).dt.year\n",
    "data[\"years_since_release\"] = 2021 - data[\"release_year\"]\n",
    "data.head()"
   ]
  },
  {
   "cell_type": "code",
   "execution_count": 5,
   "metadata": {},
   "outputs": [],
   "source": [
    "#Turn release month and release year back to string\n",
    "data[\"release_month\"] = data[\"release_month\"].apply(str)\n",
    "data[\"release_year\"] = data[\"release_year\"].apply(str)"
   ]
  },
  {
   "cell_type": "code",
   "execution_count": 6,
   "metadata": {},
   "outputs": [
    {
     "data": {
      "text/html": [
       "<div>\n",
       "<style scoped>\n",
       "    .dataframe tbody tr th:only-of-type {\n",
       "        vertical-align: middle;\n",
       "    }\n",
       "\n",
       "    .dataframe tbody tr th {\n",
       "        vertical-align: top;\n",
       "    }\n",
       "\n",
       "    .dataframe thead th {\n",
       "        text-align: right;\n",
       "    }\n",
       "</style>\n",
       "<table border=\"1\" class=\"dataframe\">\n",
       "  <thead>\n",
       "    <tr style=\"text-align: right;\">\n",
       "      <th></th>\n",
       "      <th>release_date</th>\n",
       "      <th>artist_followers</th>\n",
       "      <th>Position</th>\n",
       "      <th>Month</th>\n",
       "      <th>Year</th>\n",
       "      <th>danceability</th>\n",
       "      <th>energy</th>\n",
       "      <th>key</th>\n",
       "      <th>loudness</th>\n",
       "      <th>mode</th>\n",
       "      <th>...</th>\n",
       "      <th>instrumentalness</th>\n",
       "      <th>liveness</th>\n",
       "      <th>valence</th>\n",
       "      <th>tempo</th>\n",
       "      <th>duration_ms</th>\n",
       "      <th>time_signature</th>\n",
       "      <th>release_month</th>\n",
       "      <th>release_year</th>\n",
       "      <th>years_since_release</th>\n",
       "      <th>Month_num</th>\n",
       "    </tr>\n",
       "  </thead>\n",
       "  <tbody>\n",
       "    <tr>\n",
       "      <th>0</th>\n",
       "      <td>2017-01-27</td>\n",
       "      <td>11884750</td>\n",
       "      <td>1</td>\n",
       "      <td>Jan</td>\n",
       "      <td>2017</td>\n",
       "      <td>0.927</td>\n",
       "      <td>0.665</td>\n",
       "      <td>11.0</td>\n",
       "      <td>-5.313</td>\n",
       "      <td>1.0</td>\n",
       "      <td>...</td>\n",
       "      <td>0.0</td>\n",
       "      <td>0.123</td>\n",
       "      <td>0.175</td>\n",
       "      <td>127.076</td>\n",
       "      <td>343150.0</td>\n",
       "      <td>4.0</td>\n",
       "      <td>1</td>\n",
       "      <td>2017</td>\n",
       "      <td>4</td>\n",
       "      <td>1</td>\n",
       "    </tr>\n",
       "    <tr>\n",
       "      <th>1</th>\n",
       "      <td>2017-01-27</td>\n",
       "      <td>11884750</td>\n",
       "      <td>1</td>\n",
       "      <td>Feb</td>\n",
       "      <td>2017</td>\n",
       "      <td>0.927</td>\n",
       "      <td>0.665</td>\n",
       "      <td>11.0</td>\n",
       "      <td>-5.313</td>\n",
       "      <td>1.0</td>\n",
       "      <td>...</td>\n",
       "      <td>0.0</td>\n",
       "      <td>0.123</td>\n",
       "      <td>0.175</td>\n",
       "      <td>127.076</td>\n",
       "      <td>343150.0</td>\n",
       "      <td>4.0</td>\n",
       "      <td>1</td>\n",
       "      <td>2017</td>\n",
       "      <td>4</td>\n",
       "      <td>2</td>\n",
       "    </tr>\n",
       "    <tr>\n",
       "      <th>2</th>\n",
       "      <td>2017-01-27</td>\n",
       "      <td>11884750</td>\n",
       "      <td>4</td>\n",
       "      <td>Mar</td>\n",
       "      <td>2017</td>\n",
       "      <td>0.927</td>\n",
       "      <td>0.665</td>\n",
       "      <td>11.0</td>\n",
       "      <td>-5.313</td>\n",
       "      <td>1.0</td>\n",
       "      <td>...</td>\n",
       "      <td>0.0</td>\n",
       "      <td>0.123</td>\n",
       "      <td>0.175</td>\n",
       "      <td>127.076</td>\n",
       "      <td>343150.0</td>\n",
       "      <td>4.0</td>\n",
       "      <td>1</td>\n",
       "      <td>2017</td>\n",
       "      <td>4</td>\n",
       "      <td>3</td>\n",
       "    </tr>\n",
       "    <tr>\n",
       "      <th>3</th>\n",
       "      <td>2017-01-27</td>\n",
       "      <td>11884750</td>\n",
       "      <td>16</td>\n",
       "      <td>Apr</td>\n",
       "      <td>2017</td>\n",
       "      <td>0.927</td>\n",
       "      <td>0.665</td>\n",
       "      <td>11.0</td>\n",
       "      <td>-5.313</td>\n",
       "      <td>1.0</td>\n",
       "      <td>...</td>\n",
       "      <td>0.0</td>\n",
       "      <td>0.123</td>\n",
       "      <td>0.175</td>\n",
       "      <td>127.076</td>\n",
       "      <td>343150.0</td>\n",
       "      <td>4.0</td>\n",
       "      <td>1</td>\n",
       "      <td>2017</td>\n",
       "      <td>4</td>\n",
       "      <td>4</td>\n",
       "    </tr>\n",
       "    <tr>\n",
       "      <th>4</th>\n",
       "      <td>2017-01-27</td>\n",
       "      <td>11884750</td>\n",
       "      <td>34</td>\n",
       "      <td>May</td>\n",
       "      <td>2017</td>\n",
       "      <td>0.927</td>\n",
       "      <td>0.665</td>\n",
       "      <td>11.0</td>\n",
       "      <td>-5.313</td>\n",
       "      <td>1.0</td>\n",
       "      <td>...</td>\n",
       "      <td>0.0</td>\n",
       "      <td>0.123</td>\n",
       "      <td>0.175</td>\n",
       "      <td>127.076</td>\n",
       "      <td>343150.0</td>\n",
       "      <td>4.0</td>\n",
       "      <td>1</td>\n",
       "      <td>2017</td>\n",
       "      <td>4</td>\n",
       "      <td>5</td>\n",
       "    </tr>\n",
       "  </tbody>\n",
       "</table>\n",
       "<p>5 rows × 22 columns</p>\n",
       "</div>"
      ],
      "text/plain": [
       "  release_date  artist_followers  Position Month  Year  danceability  energy  \\\n",
       "0   2017-01-27          11884750         1   Jan  2017         0.927   0.665   \n",
       "1   2017-01-27          11884750         1   Feb  2017         0.927   0.665   \n",
       "2   2017-01-27          11884750         4   Mar  2017         0.927   0.665   \n",
       "3   2017-01-27          11884750        16   Apr  2017         0.927   0.665   \n",
       "4   2017-01-27          11884750        34   May  2017         0.927   0.665   \n",
       "\n",
       "    key  loudness  mode  ...  instrumentalness  liveness  valence    tempo  \\\n",
       "0  11.0    -5.313   1.0  ...               0.0     0.123    0.175  127.076   \n",
       "1  11.0    -5.313   1.0  ...               0.0     0.123    0.175  127.076   \n",
       "2  11.0    -5.313   1.0  ...               0.0     0.123    0.175  127.076   \n",
       "3  11.0    -5.313   1.0  ...               0.0     0.123    0.175  127.076   \n",
       "4  11.0    -5.313   1.0  ...               0.0     0.123    0.175  127.076   \n",
       "\n",
       "   duration_ms  time_signature  release_month  release_year  \\\n",
       "0     343150.0             4.0              1          2017   \n",
       "1     343150.0             4.0              1          2017   \n",
       "2     343150.0             4.0              1          2017   \n",
       "3     343150.0             4.0              1          2017   \n",
       "4     343150.0             4.0              1          2017   \n",
       "\n",
       "  years_since_release Month_num  \n",
       "0                   4         1  \n",
       "1                   4         2  \n",
       "2                   4         3  \n",
       "3                   4         4  \n",
       "4                   4         5  \n",
       "\n",
       "[5 rows x 22 columns]"
      ]
     },
     "execution_count": 6,
     "metadata": {},
     "output_type": "execute_result"
    }
   ],
   "source": [
    "#convert the month of release into a date time object\n",
    "import datetime\n",
    "data[\"Month\"] = data[\"Month\"].str.replace(\"March\", \"Mar\")\n",
    "data[\"Month\"] = data[\"Month\"].str.replace(\"April\", \"Apr\")\n",
    "data[\"Month\"] = data[\"Month\"].str.replace(\"June\", \"Jun\")\n",
    "data[\"Month\"] = data[\"Month\"].str.replace(\"July\", \"Jul\")\n",
    "data[\"Month\"].unique()\n",
    "data[\"Month_num\"] = data[\"Month\"].apply(lambda x: datetime.datetime.strptime(x, \"%b\")).dt.month\n",
    "data.head()"
   ]
  },
  {
   "cell_type": "code",
   "execution_count": 7,
   "metadata": {},
   "outputs": [],
   "source": [
    "#sort values by date of observation to separate test and training sets\n",
    "sorted_data = data.sort_values([\"Year\", \"Month_num\"], ascending=False)\n",
    "sorted_data = sorted_data.drop(\"Month_num\", axis=1)"
   ]
  },
  {
   "cell_type": "code",
   "execution_count": 8,
   "metadata": {},
   "outputs": [
    {
     "data": {
      "text/plain": [
       "release_date           False\n",
       "artist_followers       False\n",
       "Position               False\n",
       "Month                  False\n",
       "Year                   False\n",
       "danceability            True\n",
       "energy                  True\n",
       "key                     True\n",
       "loudness                True\n",
       "mode                    True\n",
       "speechiness             True\n",
       "acousticness            True\n",
       "instrumentalness        True\n",
       "liveness                True\n",
       "valence                 True\n",
       "tempo                   True\n",
       "duration_ms             True\n",
       "time_signature          True\n",
       "release_month          False\n",
       "release_year           False\n",
       "years_since_release    False\n",
       "dtype: bool"
      ]
     },
     "execution_count": 8,
     "metadata": {},
     "output_type": "execute_result"
    }
   ],
   "source": [
    "#look for null values \n",
    "sorted_data.isna().any()"
   ]
  },
  {
   "cell_type": "code",
   "execution_count": 9,
   "metadata": {},
   "outputs": [
    {
     "data": {
      "text/html": [
       "<div>\n",
       "<style scoped>\n",
       "    .dataframe tbody tr th:only-of-type {\n",
       "        vertical-align: middle;\n",
       "    }\n",
       "\n",
       "    .dataframe tbody tr th {\n",
       "        vertical-align: top;\n",
       "    }\n",
       "\n",
       "    .dataframe thead th {\n",
       "        text-align: right;\n",
       "    }\n",
       "</style>\n",
       "<table border=\"1\" class=\"dataframe\">\n",
       "  <thead>\n",
       "    <tr style=\"text-align: right;\">\n",
       "      <th></th>\n",
       "      <th>release_date</th>\n",
       "      <th>artist_followers</th>\n",
       "      <th>Position</th>\n",
       "      <th>Month</th>\n",
       "      <th>Year</th>\n",
       "      <th>danceability</th>\n",
       "      <th>energy</th>\n",
       "      <th>key</th>\n",
       "      <th>loudness</th>\n",
       "      <th>mode</th>\n",
       "      <th>...</th>\n",
       "      <th>acousticness</th>\n",
       "      <th>instrumentalness</th>\n",
       "      <th>liveness</th>\n",
       "      <th>valence</th>\n",
       "      <th>tempo</th>\n",
       "      <th>duration_ms</th>\n",
       "      <th>time_signature</th>\n",
       "      <th>release_month</th>\n",
       "      <th>release_year</th>\n",
       "      <th>years_since_release</th>\n",
       "    </tr>\n",
       "  </thead>\n",
       "  <tbody>\n",
       "    <tr>\n",
       "      <th>4262</th>\n",
       "      <td>2021-11-10</td>\n",
       "      <td>35134140</td>\n",
       "      <td>195</td>\n",
       "      <td>May</td>\n",
       "      <td>2019</td>\n",
       "      <td>NaN</td>\n",
       "      <td>NaN</td>\n",
       "      <td>NaN</td>\n",
       "      <td>NaN</td>\n",
       "      <td>NaN</td>\n",
       "      <td>...</td>\n",
       "      <td>NaN</td>\n",
       "      <td>NaN</td>\n",
       "      <td>NaN</td>\n",
       "      <td>NaN</td>\n",
       "      <td>NaN</td>\n",
       "      <td>NaN</td>\n",
       "      <td>NaN</td>\n",
       "      <td>11</td>\n",
       "      <td>2021</td>\n",
       "      <td>0</td>\n",
       "    </tr>\n",
       "    <tr>\n",
       "      <th>4261</th>\n",
       "      <td>2021-11-10</td>\n",
       "      <td>35134140</td>\n",
       "      <td>181</td>\n",
       "      <td>Apr</td>\n",
       "      <td>2019</td>\n",
       "      <td>NaN</td>\n",
       "      <td>NaN</td>\n",
       "      <td>NaN</td>\n",
       "      <td>NaN</td>\n",
       "      <td>NaN</td>\n",
       "      <td>...</td>\n",
       "      <td>NaN</td>\n",
       "      <td>NaN</td>\n",
       "      <td>NaN</td>\n",
       "      <td>NaN</td>\n",
       "      <td>NaN</td>\n",
       "      <td>NaN</td>\n",
       "      <td>NaN</td>\n",
       "      <td>11</td>\n",
       "      <td>2021</td>\n",
       "      <td>0</td>\n",
       "    </tr>\n",
       "    <tr>\n",
       "      <th>4260</th>\n",
       "      <td>2021-11-10</td>\n",
       "      <td>35134140</td>\n",
       "      <td>150</td>\n",
       "      <td>Jun</td>\n",
       "      <td>2018</td>\n",
       "      <td>NaN</td>\n",
       "      <td>NaN</td>\n",
       "      <td>NaN</td>\n",
       "      <td>NaN</td>\n",
       "      <td>NaN</td>\n",
       "      <td>...</td>\n",
       "      <td>NaN</td>\n",
       "      <td>NaN</td>\n",
       "      <td>NaN</td>\n",
       "      <td>NaN</td>\n",
       "      <td>NaN</td>\n",
       "      <td>NaN</td>\n",
       "      <td>NaN</td>\n",
       "      <td>11</td>\n",
       "      <td>2021</td>\n",
       "      <td>0</td>\n",
       "    </tr>\n",
       "    <tr>\n",
       "      <th>4259</th>\n",
       "      <td>2021-11-10</td>\n",
       "      <td>35134140</td>\n",
       "      <td>46</td>\n",
       "      <td>Apr</td>\n",
       "      <td>2018</td>\n",
       "      <td>NaN</td>\n",
       "      <td>NaN</td>\n",
       "      <td>NaN</td>\n",
       "      <td>NaN</td>\n",
       "      <td>NaN</td>\n",
       "      <td>...</td>\n",
       "      <td>NaN</td>\n",
       "      <td>NaN</td>\n",
       "      <td>NaN</td>\n",
       "      <td>NaN</td>\n",
       "      <td>NaN</td>\n",
       "      <td>NaN</td>\n",
       "      <td>NaN</td>\n",
       "      <td>11</td>\n",
       "      <td>2021</td>\n",
       "      <td>0</td>\n",
       "    </tr>\n",
       "  </tbody>\n",
       "</table>\n",
       "<p>4 rows × 21 columns</p>\n",
       "</div>"
      ],
      "text/plain": [
       "     release_date  artist_followers  Position Month  Year  danceability  \\\n",
       "4262   2021-11-10          35134140       195   May  2019           NaN   \n",
       "4261   2021-11-10          35134140       181   Apr  2019           NaN   \n",
       "4260   2021-11-10          35134140       150   Jun  2018           NaN   \n",
       "4259   2021-11-10          35134140        46   Apr  2018           NaN   \n",
       "\n",
       "      energy  key  loudness  mode  ...  acousticness  instrumentalness  \\\n",
       "4262     NaN  NaN       NaN   NaN  ...           NaN               NaN   \n",
       "4261     NaN  NaN       NaN   NaN  ...           NaN               NaN   \n",
       "4260     NaN  NaN       NaN   NaN  ...           NaN               NaN   \n",
       "4259     NaN  NaN       NaN   NaN  ...           NaN               NaN   \n",
       "\n",
       "      liveness  valence  tempo  duration_ms  time_signature  release_month  \\\n",
       "4262       NaN      NaN    NaN          NaN             NaN             11   \n",
       "4261       NaN      NaN    NaN          NaN             NaN             11   \n",
       "4260       NaN      NaN    NaN          NaN             NaN             11   \n",
       "4259       NaN      NaN    NaN          NaN             NaN             11   \n",
       "\n",
       "     release_year years_since_release  \n",
       "4262         2021                   0  \n",
       "4261         2021                   0  \n",
       "4260         2021                   0  \n",
       "4259         2021                   0  \n",
       "\n",
       "[4 rows x 21 columns]"
      ]
     },
     "execution_count": 9,
     "metadata": {},
     "output_type": "execute_result"
    }
   ],
   "source": [
    "#look at what the null values are\n",
    "sorted_data[sorted_data['energy'].isna()]"
   ]
  },
  {
   "cell_type": "code",
   "execution_count": 10,
   "metadata": {},
   "outputs": [],
   "source": [
    "#all null values seem to be the same song, and only 4 rows - just remove\n",
    "sorted_data = sorted_data.drop(sorted_data[sorted_data['energy'].isna()].index)"
   ]
  },
  {
   "cell_type": "code",
   "execution_count": 11,
   "metadata": {},
   "outputs": [
    {
     "data": {
      "text/plain": [
       "release_date           False\n",
       "artist_followers       False\n",
       "Position               False\n",
       "Month                  False\n",
       "Year                   False\n",
       "danceability           False\n",
       "energy                 False\n",
       "key                    False\n",
       "loudness               False\n",
       "mode                   False\n",
       "speechiness            False\n",
       "acousticness           False\n",
       "instrumentalness       False\n",
       "liveness               False\n",
       "valence                False\n",
       "tempo                  False\n",
       "duration_ms            False\n",
       "time_signature         False\n",
       "release_month          False\n",
       "release_year           False\n",
       "years_since_release    False\n",
       "dtype: bool"
      ]
     },
     "execution_count": 11,
     "metadata": {},
     "output_type": "execute_result"
    }
   ],
   "source": [
    "sorted_data.isna().any()"
   ]
  },
  {
   "cell_type": "code",
   "execution_count": 12,
   "metadata": {},
   "outputs": [],
   "source": [
    "#reset index\n",
    "sorted_data = sorted_data.reset_index().drop(\"index\", axis=1)"
   ]
  },
  {
   "cell_type": "code",
   "execution_count": 13,
   "metadata": {},
   "outputs": [],
   "source": [
    "#delete if not using artist name as feature\n",
    "#sorted_data = sorted_data.drop([\"release_date\", \"release_year\"], axis=1)\n",
    "#encoded = pd.get_dummies(sorted_data, drop_first=True)\n",
    "#test = encoded[0:2252]\n",
    "#train = encoded[2252:]"
   ]
  },
  {
   "cell_type": "code",
   "execution_count": 14,
   "metadata": {},
   "outputs": [],
   "source": [
    "#test-train split\n",
    "#sort the data by release_date, and then keep 20% most recent aside to be test set\n",
    "test = sorted_data[0:2252]\n",
    "train = sorted_data[2252:]\n",
    "test = test.drop([\"release_date\", \"release_year\"], axis=1)\n",
    "train = train.drop([\"release_date\", \"release_year\"], axis=1)"
   ]
  },
  {
   "cell_type": "markdown",
   "metadata": {},
   "source": [
    "### Identify Response Variable and Process Categorical Variables"
   ]
  },
  {
   "cell_type": "code",
   "execution_count": 15,
   "metadata": {},
   "outputs": [],
   "source": [
    "def encode(df, response_var):\n",
    "    \"\"\"Dummy encodes categorical variables and separates \n",
    "    data frame into features and response for use in sklearn\"\"\"\n",
    "    encoded = pd.get_dummies(df, drop_first=True)\n",
    "    columns = encoded.drop(response_var, axis=1)\n",
    "    response = encoded[response_var]\n",
    "    return columns, response"
   ]
  },
  {
   "cell_type": "code",
   "execution_count": 16,
   "metadata": {},
   "outputs": [],
   "source": [
    "train_columns, train_pos = encode(train, \"Position\")\n",
    "test_columns, test_pos = encode(test, \"Position\")"
   ]
  },
  {
   "cell_type": "markdown",
   "metadata": {},
   "source": [
    "# Models"
   ]
  },
  {
   "cell_type": "markdown",
   "metadata": {},
   "source": [
    "## Metrics"
   ]
  },
  {
   "cell_type": "code",
   "execution_count": 17,
   "metadata": {},
   "outputs": [],
   "source": [
    "#metrics to be used\n",
    "from sklearn.metrics import confusion_matrix\n",
    "def fpr(y_true, y_pred):\n",
    "    tn, fp, _, _ = confusion_matrix(y_true, y_pred).ravel()\n",
    "    return fp / (fp + tn)\n",
    "\n",
    "def acc_calc(y_true, y_pred):\n",
    "    return sum(y_pred == y_true) / len(y_true)\n",
    "\n",
    "def tpr(y_true, y_pred):\n",
    "    _, _, fn, tp = confusion_matrix(y_true, y_pred).ravel()\n",
    "    return tp / (tp + fn)"
   ]
  },
  {
   "cell_type": "code",
   "execution_count": 18,
   "metadata": {},
   "outputs": [],
   "source": [
    "def compute_metrics(y_true,y_pred, model_name):\n",
    "    \"\"\"Computes the accuracy, true positive rate, and false positive rate for a given model\n",
    "    y_true: a numpy array with the true y-values\n",
    "    y_pred: a numpy array with te false y-values\n",
    "    model_name: a string with the name of the model (just used for printing results)\n",
    "    returns values in the order acc, tpr, fpr\n",
    "    \"\"\"\n",
    "    acc1 = acc_calc(y_true, y_pred)\n",
    "    tpr2 = tpr(y_true,y_pred)\n",
    "    fpr2 = fpr(y_true,y_pred)\n",
    "    \n",
    "    print(f\"The accuracy of the {model_name} model is {acc1}\")\n",
    "    print(f\"The true positive rate of the {model_name} model is {tpr2}\")\n",
    "    print(f\"The false positive rate of the {model_name} model is {fpr2}\")\n",
    "    return acc1, tpr2, fpr2"
   ]
  },
  {
   "cell_type": "code",
   "execution_count": 19,
   "metadata": {},
   "outputs": [],
   "source": [
    "def reclassifyPosition(result):\n",
    "    \"\"\"We will reclassify a song based on its current position in dataset.\n",
    "    Songs within the top 50 position will be reclassified as 50\n",
    "    Songs with the 50-100 position will be recclassfied as 100\n",
    "    Songs withi the 100-200 position will be reclassified as 200\"\"\"\n",
    "    if result<=50:\n",
    "        return \"50\"\n",
    "    elif result<=100:\n",
    "        return \"100\"\n",
    "    return \"200\""
   ]
  },
  {
   "cell_type": "code",
   "execution_count": 20,
   "metadata": {},
   "outputs": [],
   "source": [
    "train_reclass = train_pos.apply(reclassifyPosition)\n",
    "test_reclass = test_pos.apply(reclassifyPosition)"
   ]
  },
  {
   "cell_type": "code",
   "execution_count": 21,
   "metadata": {},
   "outputs": [],
   "source": [
    "def center_data(series):\n",
    "    \"\"\"Centers data to same scale and removes need for intercept - useful for regularized logistic regression\"\"\"\n",
    "    mean = np.mean(series)\n",
    "    sd = np.std(series)\n",
    "    return (series - mean) / sd"
   ]
  },
  {
   "cell_type": "code",
   "execution_count": 22,
   "metadata": {},
   "outputs": [],
   "source": [
    "#center the data for training and test\n",
    "train_columns = train_columns.apply(center_data)\n",
    "test_columns = test_columns.apply(center_data)"
   ]
  },
  {
   "cell_type": "code",
   "execution_count": 23,
   "metadata": {},
   "outputs": [],
   "source": [
    "train100 = (train_reclass.astype(int) <= 100)*1\n",
    "test100 = (test_reclass.astype(int) <= 100)*1"
   ]
  },
  {
   "cell_type": "markdown",
   "metadata": {},
   "source": [
    "## Baseline"
   ]
  },
  {
   "cell_type": "code",
   "execution_count": 24,
   "metadata": {},
   "outputs": [
    {
     "name": "stdout",
     "output_type": "stream",
     "text": [
      "The accuracy of the Baseline model is 0.5008880994671403\n",
      "The true positive rate of the Baseline model is 1.0\n",
      "The false positive rate of the Baseline model is 1.0\n"
     ]
    }
   ],
   "source": [
    "#note that there will not be an even number of each tag because of removed rows\n",
    "more_common_prediction = train100.value_counts().index[0]\n",
    "baseline_predict = np.full(len(test), more_common_prediction)\n",
    "base_acc, base_tpr, base_fpr = compute_metrics(test100, baseline_predict, \"Baseline\")"
   ]
  },
  {
   "cell_type": "markdown",
   "metadata": {},
   "source": [
    "## Logistic Regression"
   ]
  },
  {
   "cell_type": "markdown",
   "metadata": {},
   "source": [
    "We are now building a logistic regression model to see if we can predict whether a song will end up in the Top 100 charts."
   ]
  },
  {
   "cell_type": "code",
   "execution_count": 25,
   "metadata": {},
   "outputs": [],
   "source": [
    "from sklearn.linear_model import LogisticRegression\n",
    "\n",
    "#using lasso regularization\n",
    "logreg = LogisticRegression(penalty = 'l1', max_iter = 1000, solver = 'saga', random_state = 2, fit_intercept = False)\n",
    "\n",
    "train100 = (train_reclass.astype(int) <= 100) * 1\n",
    "test100 = (test_reclass.astype(int) <= 100) * 1\n",
    "\n",
    "logreg.fit(train_columns, train100)\n",
    "log_predict_prob = logreg.predict_proba(test_columns)[:,1]"
   ]
  },
  {
   "cell_type": "code",
   "execution_count": 26,
   "metadata": {},
   "outputs": [
    {
     "data": {
      "text/plain": [
       "(array([18, 25, 32], dtype=int64),)"
      ]
     },
     "execution_count": 26,
     "metadata": {},
     "output_type": "execute_result"
    }
   ],
   "source": [
    "#determine which coefficients were removed by the regularization\n",
    "np.where(logreg.coef_[0] == 0)"
   ]
  },
  {
   "cell_type": "code",
   "execution_count": 27,
   "metadata": {},
   "outputs": [
    {
     "name": "stdout",
     "output_type": "stream",
     "text": [
      "Month_Feb\n",
      "Month_Oct\n",
      "release_month_4\n"
     ]
    }
   ],
   "source": [
    "print(train_columns.columns[18])\n",
    "print(train_columns.columns[25])\n",
    "print(train_columns.columns[32])"
   ]
  },
  {
   "cell_type": "code",
   "execution_count": 28,
   "metadata": {},
   "outputs": [
    {
     "name": "stdout",
     "output_type": "stream",
     "text": [
      "The chosen threshold value is 0.47950000000000004\n"
     ]
    }
   ],
   "source": [
    "#pick a threshold value\n",
    "values = np.linspace(0,1,2001)\n",
    "threshold = 0\n",
    "accuracy = 0\n",
    "acc_arr = []\n",
    "log_predict_prob_train = logreg.predict_proba(train_columns)[:,1]\n",
    "\n",
    "for value in values:\n",
    "    predict = (log_predict_prob_train >= value)*1\n",
    "    temp_acc = acc_calc(train100, predict)\n",
    "    acc_arr.append(temp_acc)\n",
    "    if temp_acc > accuracy:\n",
    "        accuracy = temp_acc\n",
    "        threshold = value\n",
    "        \n",
    "print(f\"The chosen threshold value is {threshold}\")"
   ]
  },
  {
   "cell_type": "code",
   "execution_count": 29,
   "metadata": {},
   "outputs": [
    {
     "data": {
      "image/png": "[encoded data removed]",
      "text/plain": [
       "<Figure size 432x288 with 1 Axes>"
      ]
     },
     "metadata": {
      "needs_background": "light"
     },
     "output_type": "display_data"
    }
   ],
   "source": [
    "plt.plot(values, acc_arr);"
   ]
  },
  {
   "cell_type": "code",
   "execution_count": 30,
   "metadata": {},
   "outputs": [
    {
     "name": "stdout",
     "output_type": "stream",
     "text": [
      "The accuracy of the logistic regression model is 0.5381882770870338\n",
      "The true positive rate of the logistic regression model is 0.651595744680851\n",
      "The false positive rate of the logistic regression model is 0.5756227758007118\n"
     ]
    }
   ],
   "source": [
    "#metrics of the model\n",
    "log_predict = (log_predict_prob >= threshold)*1\n",
    "log_acc, log_tpr, log_fpr = compute_metrics(test100, log_predict, \"logistic regression\")"
   ]
  },
  {
   "cell_type": "markdown",
   "metadata": {},
   "source": [
    "We then tried building another logistic regression model, this time predicting whether a song would reach the top 50 chart instead."
   ]
  },
  {
   "cell_type": "code",
   "execution_count": 31,
   "metadata": {},
   "outputs": [],
   "source": [
    "logreg50 = LogisticRegression(penalty = 'l1', max_iter = 1000, solver = 'saga', random_state = 2, fit_intercept = False)\n",
    "\n",
    "train50 = (train_reclass.astype(int) <= 50) * 1\n",
    "test50 = (test_reclass.astype(int) <= 50) * 1\n",
    "\n",
    "logreg50.fit(train_columns, train50)\n",
    "log50_predict_prob = logreg50.predict_proba(test_columns)[:,1]"
   ]
  },
  {
   "cell_type": "code",
   "execution_count": 32,
   "metadata": {},
   "outputs": [
    {
     "data": {
      "text/plain": [
       "array([18, 23], dtype=int64)"
      ]
     },
     "execution_count": 32,
     "metadata": {},
     "output_type": "execute_result"
    }
   ],
   "source": [
    "#determine which coefficients were removed by the regularization\n",
    "np.where(logreg50.coef_[0] == 0)[0]"
   ]
  },
  {
   "cell_type": "code",
   "execution_count": 33,
   "metadata": {},
   "outputs": [
    {
     "name": "stdout",
     "output_type": "stream",
     "text": [
      "The chosen threshold value is 1.0\n"
     ]
    },
    {
     "data": {
      "image/png": "[encoded data removed]",
      "text/plain": [
       "<Figure size 432x288 with 1 Axes>"
      ]
     },
     "metadata": {
      "needs_background": "light"
     },
     "output_type": "display_data"
    }
   ],
   "source": [
    "#pick a threshold value\n",
    "values50 = np.linspace(0,1,2001)\n",
    "threshold50 = 0\n",
    "accuracy50 = 0\n",
    "acc50_arr = []\n",
    "log50_predict_prob_train = logreg50.predict_proba(train_columns)[:,1]\n",
    "\n",
    "for value in values50:\n",
    "    predict50 = (log50_predict_prob_train >= value)*1\n",
    "    temp_acc = acc_calc(train50, predict50)\n",
    "    acc50_arr.append(temp_acc)\n",
    "    if temp_acc > accuracy:\n",
    "        accuracy50 = temp_acc\n",
    "        threshold50 = value\n",
    "        \n",
    "print(f\"The chosen threshold value is {threshold50}\")\n",
    "plt.plot(values,acc50_arr);"
   ]
  },
  {
   "cell_type": "code",
   "execution_count": 34,
   "metadata": {},
   "outputs": [
    {
     "name": "stdout",
     "output_type": "stream",
     "text": [
      "The accuracy of the logistic regression model is 0.7477797513321492\n",
      "The true positive rate of the logistic regression model is 0.0\n",
      "The false positive rate of the logistic regression model is 0.0\n"
     ]
    }
   ],
   "source": [
    "#metrics of the model\n",
    "log50_predict = (log50_predict_prob >= threshold50)*1\n",
    "log50_acc, log50_tpr, log50_fpr = compute_metrics(test50, log50_predict, \"logistic regression\")"
   ]
  },
  {
   "cell_type": "markdown",
   "metadata": {},
   "source": [
    "Note that this means that for predicting the top 50, no threshold value outperforms the baseline model."
   ]
  },
  {
   "cell_type": "markdown",
   "metadata": {},
   "source": [
    "## LDA"
   ]
  },
  {
   "cell_type": "code",
   "execution_count": 35,
   "metadata": {},
   "outputs": [
    {
     "name": "stdout",
     "output_type": "stream",
     "text": [
      "The accuracy of the LDA multi-class model is 0.49733570159857904\n"
     ]
    }
   ],
   "source": [
    "from sklearn.discriminant_analysis import LinearDiscriminantAnalysis\n",
    "\n",
    "ldaMulti = LinearDiscriminantAnalysis()\n",
    "\n",
    "ldaMulti.fit(train_columns, train_reclass)\n",
    "lda_predict_multi = ldaMulti.predict(test_columns)\n",
    "\n",
    "lda_acc_multi = acc_calc(test_reclass, lda_predict_multi)\n",
    "print(f\"The accuracy of the LDA multi-class model is {lda_acc_multi}\")"
   ]
  },
  {
   "cell_type": "markdown",
   "metadata": {},
   "source": [
    "We will next create an LDA model to predict whether a song will solely end up in the Top 50 chart."
   ]
  },
  {
   "cell_type": "code",
   "execution_count": 36,
   "metadata": {},
   "outputs": [
    {
     "name": "stdout",
     "output_type": "stream",
     "text": [
      "The accuracy of the LDA model is 0.7477797513321492\n",
      "The true positive rate of the LDA model is 0.03697183098591549\n",
      "The false positive rate of the LDA model is 0.012470308788598575\n"
     ]
    }
   ],
   "source": [
    "lda50 = LinearDiscriminantAnalysis()\n",
    "\n",
    "lda50.fit(train_columns, train50)\n",
    "y_predLDA50 = lda50.predict(test_columns)\n",
    "\n",
    "lda50_acc, lda50_tpr, lda50_fpr = compute_metrics(test50, y_predLDA50, \"LDA\")"
   ]
  },
  {
   "cell_type": "markdown",
   "metadata": {},
   "source": [
    "We will then create an LDA model to predict whether a song will end up in the Top 100 chart."
   ]
  },
  {
   "cell_type": "code",
   "execution_count": 37,
   "metadata": {},
   "outputs": [
    {
     "name": "stdout",
     "output_type": "stream",
     "text": [
      "The accuracy of the LDA model is 0.5435168738898757\n",
      "The true positive rate of the LDA model is 0.5452127659574468\n",
      "The false positive rate of the LDA model is 0.4581850533807829\n"
     ]
    }
   ],
   "source": [
    "lda = LinearDiscriminantAnalysis()\n",
    "\n",
    "lda.fit(train_columns, train100)\n",
    "lda_predict = lda.predict(test_columns)\n",
    "\n",
    "lda_acc, lda_tpr, lda_fpr = compute_metrics(test100, lda_predict, \"LDA\")"
   ]
  },
  {
   "cell_type": "markdown",
   "metadata": {},
   "source": [
    "Of the three LDA models we've created, the LDA model for predicting whether a sonng will end up in the Top 50 chart has the highest test set accuracy."
   ]
  },
  {
   "cell_type": "markdown",
   "metadata": {},
   "source": [
    "## CART Model"
   ]
  },
  {
   "cell_type": "code",
   "execution_count": 38,
   "metadata": {},
   "outputs": [
    {
     "name": "stderr",
     "output_type": "stream",
     "text": [
      "C:\\ProgramData\\Anaconda3\\lib\\site-packages\\sklearn\\model_selection\\_split.py:293: FutureWarning: Setting a random_state has no effect since shuffle is False. This will raise an error in 0.24. You should leave random_state to its default (None), or set shuffle=True.\n",
      "  warnings.warn(\n"
     ]
    },
    {
     "data": {
      "text/html": [
       "<div>\n",
       "<style scoped>\n",
       "    .dataframe tbody tr th:only-of-type {\n",
       "        vertical-align: middle;\n",
       "    }\n",
       "\n",
       "    .dataframe tbody tr th {\n",
       "        vertical-align: top;\n",
       "    }\n",
       "\n",
       "    .dataframe thead th {\n",
       "        text-align: right;\n",
       "    }\n",
       "</style>\n",
       "<table border=\"1\" class=\"dataframe\">\n",
       "  <thead>\n",
       "    <tr style=\"text-align: right;\">\n",
       "      <th></th>\n",
       "      <th>ccp alpha</th>\n",
       "      <th>Accuracy</th>\n",
       "    </tr>\n",
       "  </thead>\n",
       "  <tbody>\n",
       "    <tr>\n",
       "      <th>4</th>\n",
       "      <td>0.002</td>\n",
       "      <td>0.560589</td>\n",
       "    </tr>\n",
       "    <tr>\n",
       "      <th>5</th>\n",
       "      <td>0.0025</td>\n",
       "      <td>0.560034</td>\n",
       "    </tr>\n",
       "    <tr>\n",
       "      <th>6</th>\n",
       "      <td>0.003</td>\n",
       "      <td>0.560034</td>\n",
       "    </tr>\n",
       "    <tr>\n",
       "      <th>2</th>\n",
       "      <td>0.001</td>\n",
       "      <td>0.556039</td>\n",
       "    </tr>\n",
       "    <tr>\n",
       "      <th>3</th>\n",
       "      <td>0.0015</td>\n",
       "      <td>0.553928</td>\n",
       "    </tr>\n",
       "    <tr>\n",
       "      <th>...</th>\n",
       "      <td>...</td>\n",
       "      <td>...</td>\n",
       "    </tr>\n",
       "    <tr>\n",
       "      <th>87</th>\n",
       "      <td>0.0435</td>\n",
       "      <td>0.495058</td>\n",
       "    </tr>\n",
       "    <tr>\n",
       "      <th>88</th>\n",
       "      <td>0.044</td>\n",
       "      <td>0.495058</td>\n",
       "    </tr>\n",
       "    <tr>\n",
       "      <th>89</th>\n",
       "      <td>0.0445</td>\n",
       "      <td>0.495058</td>\n",
       "    </tr>\n",
       "    <tr>\n",
       "      <th>90</th>\n",
       "      <td>0.045</td>\n",
       "      <td>0.495058</td>\n",
       "    </tr>\n",
       "    <tr>\n",
       "      <th>200</th>\n",
       "      <td>0.1</td>\n",
       "      <td>0.495058</td>\n",
       "    </tr>\n",
       "  </tbody>\n",
       "</table>\n",
       "<p>201 rows × 2 columns</p>\n",
       "</div>"
      ],
      "text/plain": [
       "    ccp alpha  Accuracy\n",
       "4       0.002  0.560589\n",
       "5      0.0025  0.560034\n",
       "6       0.003  0.560034\n",
       "2       0.001  0.556039\n",
       "3      0.0015  0.553928\n",
       "..        ...       ...\n",
       "87     0.0435  0.495058\n",
       "88      0.044  0.495058\n",
       "89     0.0445  0.495058\n",
       "90      0.045  0.495058\n",
       "200       0.1  0.495058\n",
       "\n",
       "[201 rows x 2 columns]"
      ]
     },
     "execution_count": 38,
     "metadata": {},
     "output_type": "execute_result"
    }
   ],
   "source": [
    "#cross validation to choose complexity parameter\n",
    "from sklearn.tree import DecisionTreeClassifier\n",
    "from sklearn.model_selection import GridSearchCV\n",
    "from sklearn.model_selection import KFold\n",
    "\n",
    "dtc = DecisionTreeClassifier()\n",
    "\n",
    "param_values = {'ccp_alpha': np.linspace(0, 0.10, 201),\n",
    "               'min_samples_leaf': [5],\n",
    "               'random_state': [2]}\n",
    "\n",
    "cv = KFold(n_splits = 5, random_state=23)\n",
    "dtc_cv = GridSearchCV(dtc, param_grid = param_values, cv=cv)\n",
    "dtc_cv.fit(train_columns, train100)\n",
    "\n",
    "acc = dtc_cv.cv_results_['mean_test_score'] # what sklearn calls mean_test_score is the holdout set, i.e. the validation set.\n",
    "ccp = dtc_cv.cv_results_['param_ccp_alpha'].data\n",
    "\n",
    "pd.DataFrame({'ccp alpha' : ccp, 'Accuracy': acc}).sort_values(\"Accuracy\", ascending=False)"
   ]
  },
  {
   "cell_type": "code",
   "execution_count": 39,
   "metadata": {},
   "outputs": [
    {
     "data": {
      "image/png": "[encoded data removed]",
      "text/plain": [
       "<Figure size 432x288 with 1 Axes>"
      ]
     },
     "metadata": {
      "needs_background": "light"
     },
     "output_type": "display_data"
    }
   ],
   "source": [
    "plt.plot(ccp, acc);"
   ]
  },
  {
   "cell_type": "code",
   "execution_count": 40,
   "metadata": {},
   "outputs": [
    {
     "name": "stdout",
     "output_type": "stream",
     "text": [
      "The accuracy of the CART model is 0.61101243339254\n",
      "The true positive rate of the CART model is 0.5469858156028369\n",
      "The false positive rate of the CART model is 0.32473309608540923\n"
     ]
    }
   ],
   "source": [
    "#now run the model using the chosen complexity parameter\n",
    "from sklearn.tree import DecisionTreeClassifier\n",
    "#dtc = DecisionTreeClassifier(ccp_alpha = 0.002)\n",
    "dtc = dtc_cv.best_estimator_\n",
    "dtc.fit(train_columns, train100);\n",
    "cart_predict = dtc.predict(test_columns)\n",
    "dtc_acc, dtc_tpr, dtc_fpr = compute_metrics(test100, cart_predict, \"CART\")"
   ]
  },
  {
   "cell_type": "markdown",
   "metadata": {},
   "source": [
    "## Bagging"
   ]
  },
  {
   "cell_type": "code",
   "execution_count": 41,
   "metadata": {},
   "outputs": [
    {
     "name": "stdout",
     "output_type": "stream",
     "text": [
      "The accuracy of the Bagging model is 0.5985790408525755\n",
      "The true positive rate of the Bagging model is 0.5718085106382979\n",
      "The false positive rate of the Bagging model is 0.37455516014234874\n"
     ]
    }
   ],
   "source": [
    "from sklearn.ensemble import RandomForestClassifier\n",
    "\n",
    "bag = RandomForestClassifier(max_features=len(train_columns.columns)).fit(train_columns, train100)\n",
    "bag_predict = bag.predict(test_columns)\n",
    "bag_acc, bag_tpr, bag_fpr = compute_metrics(test100, bag_predict, \"Bagging\")"
   ]
  },
  {
   "cell_type": "markdown",
   "metadata": {},
   "source": [
    "## Random Forest"
   ]
  },
  {
   "cell_type": "code",
   "execution_count": 42,
   "metadata": {},
   "outputs": [
    {
     "name": "stderr",
     "output_type": "stream",
     "text": [
      "C:\\ProgramData\\Anaconda3\\lib\\site-packages\\sklearn\\model_selection\\_split.py:293: FutureWarning: Setting a random_state has no effect since shuffle is False. This will raise an error in 0.24. You should leave random_state to its default (None), or set shuffle=True.\n",
      "  warnings.warn(\n"
     ]
    },
    {
     "data": {
      "text/html": [
       "<div>\n",
       "<style scoped>\n",
       "    .dataframe tbody tr th:only-of-type {\n",
       "        vertical-align: middle;\n",
       "    }\n",
       "\n",
       "    .dataframe tbody tr th {\n",
       "        vertical-align: top;\n",
       "    }\n",
       "\n",
       "    .dataframe thead th {\n",
       "        text-align: right;\n",
       "    }\n",
       "</style>\n",
       "<table border=\"1\" class=\"dataframe\">\n",
       "  <thead>\n",
       "    <tr style=\"text-align: right;\">\n",
       "      <th></th>\n",
       "      <th>Max Features</th>\n",
       "      <th>Validation Accuracy</th>\n",
       "    </tr>\n",
       "  </thead>\n",
       "  <tbody>\n",
       "    <tr>\n",
       "      <th>7</th>\n",
       "      <td>8</td>\n",
       "      <td>0.552374</td>\n",
       "    </tr>\n",
       "    <tr>\n",
       "      <th>6</th>\n",
       "      <td>7</td>\n",
       "      <td>0.550484</td>\n",
       "    </tr>\n",
       "    <tr>\n",
       "      <th>8</th>\n",
       "      <td>9</td>\n",
       "      <td>0.549709</td>\n",
       "    </tr>\n",
       "    <tr>\n",
       "      <th>9</th>\n",
       "      <td>10</td>\n",
       "      <td>0.549263</td>\n",
       "    </tr>\n",
       "    <tr>\n",
       "      <th>4</th>\n",
       "      <td>5</td>\n",
       "      <td>0.543488</td>\n",
       "    </tr>\n",
       "    <tr>\n",
       "      <th>5</th>\n",
       "      <td>6</td>\n",
       "      <td>0.543487</td>\n",
       "    </tr>\n",
       "    <tr>\n",
       "      <th>3</th>\n",
       "      <td>4</td>\n",
       "      <td>0.530713</td>\n",
       "    </tr>\n",
       "    <tr>\n",
       "      <th>2</th>\n",
       "      <td>3</td>\n",
       "      <td>0.529269</td>\n",
       "    </tr>\n",
       "    <tr>\n",
       "      <th>1</th>\n",
       "      <td>2</td>\n",
       "      <td>0.515606</td>\n",
       "    </tr>\n",
       "    <tr>\n",
       "      <th>0</th>\n",
       "      <td>1</td>\n",
       "      <td>0.508830</td>\n",
       "    </tr>\n",
       "  </tbody>\n",
       "</table>\n",
       "</div>"
      ],
      "text/plain": [
       "  Max Features  Validation Accuracy\n",
       "7            8             0.552374\n",
       "6            7             0.550484\n",
       "8            9             0.549709\n",
       "9           10             0.549263\n",
       "4            5             0.543488\n",
       "5            6             0.543487\n",
       "3            4             0.530713\n",
       "2            3             0.529269\n",
       "1            2             0.515606\n",
       "0            1             0.508830"
      ]
     },
     "execution_count": 42,
     "metadata": {},
     "output_type": "execute_result"
    }
   ],
   "source": [
    "rf = RandomForestClassifier()\n",
    "\n",
    "param_values = {'max_features': np.arange(1,len(train_columns.columns)+1,1),\n",
    "               'random_state': [23]}\n",
    "\n",
    "cv = KFold(n_splits = 5, random_state=23)\n",
    "rf_cv = GridSearchCV(rf, param_grid = param_values, cv=cv)\n",
    "rf_cv.fit(train_columns, train100)\n",
    "\n",
    "acc_rf = rf_cv.cv_results_['mean_test_score'] # what sklearn calls mean_test_score is the holdout set, i.e. the validation set.\n",
    "mf_rf = rf_cv.cv_results_['param_max_features'].data\n",
    "\n",
    "pd.DataFrame({'Max Features' : mf_rf, 'Validation Accuracy': acc_rf}).head(10).sort_values(\"Validation Accuracy\", ascending=False)"
   ]
  },
  {
   "cell_type": "code",
   "execution_count": 43,
   "metadata": {},
   "outputs": [
    {
     "data": {
      "image/png": "[encoded data removed]",
      "text/plain": [
       "<Figure size 432x288 with 1 Axes>"
      ]
     },
     "metadata": {
      "needs_background": "light"
     },
     "output_type": "display_data"
    }
   ],
   "source": [
    "plt.plot(mf_rf, acc_rf);"
   ]
  },
  {
   "cell_type": "code",
   "execution_count": 44,
   "metadata": {},
   "outputs": [],
   "source": [
    "rf = rf_cv.best_estimator_\n",
    "#rf = RandomForestClassifier(max_features = 8)\n",
    "rf.fit(train_columns, train100);\n",
    "rf_predict = rf.predict(test_columns)"
   ]
  },
  {
   "cell_type": "code",
   "execution_count": 45,
   "metadata": {},
   "outputs": [
    {
     "name": "stdout",
     "output_type": "stream",
     "text": [
      "The accuracy of the Random Forest model is 0.5928063943161634\n",
      "The true positive rate of the Random Forest model is 0.5558510638297872\n",
      "The false positive rate of the Random Forest model is 0.3701067615658363\n"
     ]
    }
   ],
   "source": [
    "rf_acc, rf_tpr, rf_fpr = compute_metrics(test100, rf_predict, \"Random Forest\")"
   ]
  },
  {
   "cell_type": "code",
   "execution_count": 46,
   "metadata": {},
   "outputs": [
    {
     "name": "stdout",
     "output_type": "stream",
     "text": [
      "The accuracy of the Gradient Boosting model is 0.6198934280639432\n",
      "The true positive rate of the Gradient Boosting model is 0.7446808510638298\n",
      "The false positive rate of the Gradient Boosting model is 0.505338078291815\n"
     ]
    }
   ],
   "source": [
    "from sklearn.ensemble import GradientBoostingClassifier\n",
    "\n",
    "gbc = GradientBoostingClassifier(learning_rate = 0.01).fit(train_columns, train100)\n",
    "gbc_predict = gbc.predict(test_columns)\n",
    "gbc_acc, gbc_tpr, gbc_fpr = compute_metrics(test100, gbc_predict, \"Gradient Boosting\")"
   ]
  },
  {
   "cell_type": "code",
   "execution_count": 47,
   "metadata": {},
   "outputs": [
    {
     "data": {
      "text/html": [
       "<div>\n",
       "<style scoped>\n",
       "    .dataframe tbody tr th:only-of-type {\n",
       "        vertical-align: middle;\n",
       "    }\n",
       "\n",
       "    .dataframe tbody tr th {\n",
       "        vertical-align: top;\n",
       "    }\n",
       "\n",
       "    .dataframe thead th {\n",
       "        text-align: right;\n",
       "    }\n",
       "</style>\n",
       "<table border=\"1\" class=\"dataframe\">\n",
       "  <thead>\n",
       "    <tr style=\"text-align: right;\">\n",
       "      <th></th>\n",
       "      <th>Model Name</th>\n",
       "      <th>Accuracy</th>\n",
       "      <th>TPR</th>\n",
       "      <th>FPR</th>\n",
       "    </tr>\n",
       "  </thead>\n",
       "  <tbody>\n",
       "    <tr>\n",
       "      <th>0</th>\n",
       "      <td>Baseline</td>\n",
       "      <td>0.500888</td>\n",
       "      <td>1.000000</td>\n",
       "      <td>1.000000</td>\n",
       "    </tr>\n",
       "    <tr>\n",
       "      <th>1</th>\n",
       "      <td>Logistic Regression</td>\n",
       "      <td>0.538188</td>\n",
       "      <td>0.651596</td>\n",
       "      <td>0.575623</td>\n",
       "    </tr>\n",
       "    <tr>\n",
       "      <th>2</th>\n",
       "      <td>LDA</td>\n",
       "      <td>0.543517</td>\n",
       "      <td>0.545213</td>\n",
       "      <td>0.458185</td>\n",
       "    </tr>\n",
       "    <tr>\n",
       "      <th>3</th>\n",
       "      <td>CART</td>\n",
       "      <td>0.611012</td>\n",
       "      <td>0.546986</td>\n",
       "      <td>0.324733</td>\n",
       "    </tr>\n",
       "    <tr>\n",
       "      <th>4</th>\n",
       "      <td>Bagging</td>\n",
       "      <td>0.598579</td>\n",
       "      <td>0.571809</td>\n",
       "      <td>0.374555</td>\n",
       "    </tr>\n",
       "    <tr>\n",
       "      <th>5</th>\n",
       "      <td>Random Forest</td>\n",
       "      <td>0.592806</td>\n",
       "      <td>0.555851</td>\n",
       "      <td>0.370107</td>\n",
       "    </tr>\n",
       "    <tr>\n",
       "      <th>6</th>\n",
       "      <td>Gradient Boosting</td>\n",
       "      <td>0.619893</td>\n",
       "      <td>0.744681</td>\n",
       "      <td>0.505338</td>\n",
       "    </tr>\n",
       "  </tbody>\n",
       "</table>\n",
       "</div>"
      ],
      "text/plain": [
       "            Model Name  Accuracy       TPR       FPR\n",
       "0             Baseline  0.500888  1.000000  1.000000\n",
       "1  Logistic Regression  0.538188  0.651596  0.575623\n",
       "2                  LDA  0.543517  0.545213  0.458185\n",
       "3                 CART  0.611012  0.546986  0.324733\n",
       "4              Bagging  0.598579  0.571809  0.374555\n",
       "5        Random Forest  0.592806  0.555851  0.370107\n",
       "6    Gradient Boosting  0.619893  0.744681  0.505338"
      ]
     },
     "execution_count": 47,
     "metadata": {},
     "output_type": "execute_result"
    }
   ],
   "source": [
    "acc_series = [base_acc, log_acc, lda_acc, dtc_acc, bag_acc, rf_acc, gbc_acc]\n",
    "tpr_series = [base_tpr, log_tpr, lda_tpr, dtc_tpr, bag_tpr, rf_tpr, gbc_tpr]\n",
    "fpr_series = [base_fpr, log_fpr, lda_fpr, dtc_fpr, bag_fpr, rf_fpr, gbc_fpr]\n",
    "model_series = [\"Baseline\", \"Logistic Regression\",\"LDA\", \"CART\", \"Bagging\", \"Random Forest\", \"Gradient Boosting\"]\n",
    "pd.DataFrame(data = {\"Model Name\": model_series,\n",
    "                     \"Accuracy\": acc_series,\n",
    "                     \"TPR\": tpr_series,\n",
    "                     \"FPR\": fpr_series})"
   ]
  },
  {
   "cell_type": "markdown",
   "metadata": {},
   "source": [
    "# Model Performance"
   ]
  },
  {
   "cell_type": "code",
   "execution_count": 48,
   "metadata": {},
   "outputs": [],
   "source": [
    "def bootstrap(model_list, test_data, true_y, metrics, sample = 500):\n",
    "    \"\"\"Computes the bootstrap of a list of metrics for a list of models\n",
    "    model_list: list of models to use\n",
    "    test_data: dataframe of testing columns - must not include response variable!\n",
    "    true_y: Series of true response variable values\n",
    "    metrics: list of metrics to be computed. Metrics must be functions that each take an input of (y_actual, y_predicted)\n",
    "    sample: number of bootstrap samples to be computed\n",
    "    \"\"\"\n",
    "    output_array = np.zeros((len(metrics),len(model_list), sample))\n",
    "    for i in range(sample):\n",
    "        \n",
    "        #create the bootstrapped data:\n",
    "        index = np.random.choice(test_data.index, len(test_data.index), replace=True)\n",
    "        data = test_data.loc[index]\n",
    "        y = true_y.loc[index]\n",
    "        \n",
    "        #fit the data to each model:\n",
    "        for j in range(len(model_list)):\n",
    "            if (model_list[j] == logreg):\n",
    "                prob = model_list[j].predict_proba(data)[:,1]\n",
    "                predictions = (prob >= threshold) * 1\n",
    "            else:\n",
    "                predictions = model_list[j].predict(data)\n",
    "            \n",
    "            for k in range(len(metrics)):\n",
    "                output_array[k,j,i] = metrics[k](y, predictions)\n",
    "        \n",
    "    return output_array"
   ]
  },
  {
   "cell_type": "code",
   "execution_count": 66,
   "metadata": {},
   "outputs": [],
   "source": [
    "def ci(data, param_est, cl = 0.95):\n",
    "    lower = param_est - np.quantile(data, 1-(1-cl)/2)\n",
    "    upper = param_est - np.quantile(data, (1-cl)/2)\n",
    "    return [lower, upper]"
   ]
  },
  {
   "cell_type": "code",
   "execution_count": 67,
   "metadata": {},
   "outputs": [],
   "source": [
    "#param_est = [log_acc, lda_acc, dtc_acc, bag_acc, rf_acc, gbc_acc]\n",
    "param_est = [log_fpr, lda_fpr, dtc_fpr, bag_fpr, rf_fpr, gbc_fpr]\n",
    "\n",
    "model_names = [\"Logistic Regression\", \"LDA\", \"CART\", \"Bagging\", \"Random Forest\", \"Gradient Boosting\"]"
   ]
  },
  {
   "cell_type": "code",
   "execution_count": 68,
   "metadata": {},
   "outputs": [],
   "source": [
    "model_list = [logreg, lda, dtc, bag, rf, gbc]\n",
    "acc_values = bootstrap(model_list, test_columns, test100, [fpr])"
   ]
  },
  {
   "cell_type": "code",
   "execution_count": 69,
   "metadata": {},
   "outputs": [],
   "source": [
    "model1_list = []\n",
    "model2_list = []\n",
    "lower = []\n",
    "upper = []\n",
    "model_list = [logreg, lda, dtc, bag, rf, gbc]\n",
    "#param_est = [log_acc, lda_acc, dtc_acc, bag_acc, rf_acc, gbc_acc]\n",
    "param_est = [log_fpr, lda_fpr, dtc_fpr, bag_fpr, rf_fpr, gbc_fpr]\n",
    "acc_values_copy = acc_values.copy()[0] #index into values properly\n",
    "\n",
    "#now compare each set of models\n",
    "while len(model_list) > 0:\n",
    "    #pulls the information about the first model and then deletes it from list to avoid comparing model to itself\n",
    "    model1 = model_list.pop(0)\n",
    "    param1 = param_est.pop(0)\n",
    "    data1 = acc_values_copy[0]\n",
    "    acc_values_copy = np.delete(acc_values_copy,0,axis=0)\n",
    "    \n",
    "    for i in range(len(model_list)):\n",
    "        \n",
    "        if model1 != model_list[i]:\n",
    "            model1_list.append(model1)\n",
    "            model2_list.append(model_list[i])\n",
    "            \n",
    "            #now calculate the confidence interval\n",
    "            temp = data1 - acc_values_copy[i]\n",
    "            temp_ci = ci(np.array(temp) - (param1 - param_est[i]), param1 - param_est[i])\n",
    "            \n",
    "            lower.append(temp_ci[0])\n",
    "            upper.append(temp_ci[1])"
   ]
  },
  {
   "cell_type": "code",
   "execution_count": 70,
   "metadata": {},
   "outputs": [],
   "source": [
    "#convert the model lists into the model names:\n",
    "\n",
    "for i in range(len(model1_list)):\n",
    "    if model1_list[i] == logreg:\n",
    "        model1_list[i] = \"Logistic Regression\"\n",
    "    elif model1_list[i] == lda:\n",
    "        model1_list[i] = \"LDA\"\n",
    "    elif model1_list[i] == dtc:\n",
    "        model1_list[i] = \"CART\"\n",
    "    elif model1_list[i] == bag:\n",
    "        model1_list[i] = \"Bagging\"\n",
    "    elif model1_list[i] == rf:\n",
    "        model1_list[i] = \"Random Forest\"\n",
    "    elif model1_list[i] == gbc:\n",
    "        model1_list[i] = \"Gradient Boosting\"\n",
    "        \n",
    "for i in range(len(model2_list)):\n",
    "    if model2_list[i] == logreg:\n",
    "        model2_list[i] = \"Logistic Regression\"\n",
    "    elif model2_list[i] == lda:\n",
    "        model2_list[i] = \"LDA\"\n",
    "    elif model2_list[i] == dtc:\n",
    "        model2_list[i] = \"CART\"\n",
    "    elif model2_list[i] == bag:\n",
    "        model2_list[i] = \"Bagging\"\n",
    "    elif model2_list[i] == rf:\n",
    "        model2_list[i] = \"Random Forest\"\n",
    "    elif model2_list[i] == gbc:\n",
    "        model2_list[i] = \"Gradient Boosting\""
   ]
  },
  {
   "cell_type": "code",
   "execution_count": 71,
   "metadata": {},
   "outputs": [],
   "source": [
    "model_comp = pd.DataFrame(data = {'Model 1': model1_list,\n",
    "                     'Model 2': model2_list,\n",
    "                     \"Lower CI\": lower,\n",
    "                     \"Upper CI\": upper})"
   ]
  },
  {
   "cell_type": "code",
   "execution_count": 72,
   "metadata": {},
   "outputs": [
    {
     "data": {
      "text/plain": [
       "-0.02776361864800472"
      ]
     },
     "execution_count": 72,
     "metadata": {},
     "output_type": "execute_result"
    }
   ],
   "source": [
    "model_comp.loc[1, \"Lower CI\"]"
   ]
  },
  {
   "cell_type": "code",
   "execution_count": 73,
   "metadata": {},
   "outputs": [
    {
     "data": {
      "text/html": [
       "<div>\n",
       "<style scoped>\n",
       "    .dataframe tbody tr th:only-of-type {\n",
       "        vertical-align: middle;\n",
       "    }\n",
       "\n",
       "    .dataframe tbody tr th {\n",
       "        vertical-align: top;\n",
       "    }\n",
       "\n",
       "    .dataframe thead th {\n",
       "        text-align: right;\n",
       "    }\n",
       "</style>\n",
       "<table border=\"1\" class=\"dataframe\">\n",
       "  <thead>\n",
       "    <tr style=\"text-align: right;\">\n",
       "      <th></th>\n",
       "      <th>Model 1</th>\n",
       "      <th>Model 2</th>\n",
       "      <th>Lower CI</th>\n",
       "      <th>Upper CI</th>\n",
       "      <th>Better Model</th>\n",
       "    </tr>\n",
       "  </thead>\n",
       "  <tbody>\n",
       "    <tr>\n",
       "      <th>0</th>\n",
       "      <td>Logistic Regression</td>\n",
       "      <td>LDA</td>\n",
       "      <td>-0.018880</td>\n",
       "      <td>0.017853</td>\n",
       "      <td>Neither</td>\n",
       "    </tr>\n",
       "    <tr>\n",
       "      <th>1</th>\n",
       "      <td>Logistic Regression</td>\n",
       "      <td>CART</td>\n",
       "      <td>-0.027764</td>\n",
       "      <td>0.037976</td>\n",
       "      <td>Neither</td>\n",
       "    </tr>\n",
       "    <tr>\n",
       "      <th>2</th>\n",
       "      <td>Logistic Regression</td>\n",
       "      <td>Bagging</td>\n",
       "      <td>-0.031198</td>\n",
       "      <td>0.031886</td>\n",
       "      <td>Neither</td>\n",
       "    </tr>\n",
       "    <tr>\n",
       "      <th>3</th>\n",
       "      <td>Logistic Regression</td>\n",
       "      <td>Random Forest</td>\n",
       "      <td>-0.033555</td>\n",
       "      <td>0.031340</td>\n",
       "      <td>Neither</td>\n",
       "    </tr>\n",
       "    <tr>\n",
       "      <th>4</th>\n",
       "      <td>Logistic Regression</td>\n",
       "      <td>Gradient Boosting</td>\n",
       "      <td>-0.029730</td>\n",
       "      <td>0.031216</td>\n",
       "      <td>Neither</td>\n",
       "    </tr>\n",
       "    <tr>\n",
       "      <th>5</th>\n",
       "      <td>LDA</td>\n",
       "      <td>CART</td>\n",
       "      <td>-0.031223</td>\n",
       "      <td>0.039103</td>\n",
       "      <td>Neither</td>\n",
       "    </tr>\n",
       "    <tr>\n",
       "      <th>6</th>\n",
       "      <td>LDA</td>\n",
       "      <td>Bagging</td>\n",
       "      <td>-0.028870</td>\n",
       "      <td>0.033383</td>\n",
       "      <td>Neither</td>\n",
       "    </tr>\n",
       "    <tr>\n",
       "      <th>7</th>\n",
       "      <td>LDA</td>\n",
       "      <td>Random Forest</td>\n",
       "      <td>-0.030977</td>\n",
       "      <td>0.032701</td>\n",
       "      <td>Neither</td>\n",
       "    </tr>\n",
       "    <tr>\n",
       "      <th>8</th>\n",
       "      <td>LDA</td>\n",
       "      <td>Gradient Boosting</td>\n",
       "      <td>-0.031051</td>\n",
       "      <td>0.033177</td>\n",
       "      <td>Neither</td>\n",
       "    </tr>\n",
       "    <tr>\n",
       "      <th>9</th>\n",
       "      <td>CART</td>\n",
       "      <td>Bagging</td>\n",
       "      <td>-0.024200</td>\n",
       "      <td>0.024187</td>\n",
       "      <td>Neither</td>\n",
       "    </tr>\n",
       "    <tr>\n",
       "      <th>10</th>\n",
       "      <td>CART</td>\n",
       "      <td>Random Forest</td>\n",
       "      <td>-0.028637</td>\n",
       "      <td>0.024957</td>\n",
       "      <td>Neither</td>\n",
       "    </tr>\n",
       "    <tr>\n",
       "      <th>11</th>\n",
       "      <td>CART</td>\n",
       "      <td>Gradient Boosting</td>\n",
       "      <td>-0.025088</td>\n",
       "      <td>0.021602</td>\n",
       "      <td>Neither</td>\n",
       "    </tr>\n",
       "    <tr>\n",
       "      <th>12</th>\n",
       "      <td>Bagging</td>\n",
       "      <td>Random Forest</td>\n",
       "      <td>-0.019280</td>\n",
       "      <td>0.018341</td>\n",
       "      <td>Neither</td>\n",
       "    </tr>\n",
       "    <tr>\n",
       "      <th>13</th>\n",
       "      <td>Bagging</td>\n",
       "      <td>Gradient Boosting</td>\n",
       "      <td>-0.024185</td>\n",
       "      <td>0.020358</td>\n",
       "      <td>Neither</td>\n",
       "    </tr>\n",
       "    <tr>\n",
       "      <th>14</th>\n",
       "      <td>Random Forest</td>\n",
       "      <td>Gradient Boosting</td>\n",
       "      <td>-0.023830</td>\n",
       "      <td>0.025132</td>\n",
       "      <td>Neither</td>\n",
       "    </tr>\n",
       "  </tbody>\n",
       "</table>\n",
       "</div>"
      ],
      "text/plain": [
       "                Model 1            Model 2  Lower CI  Upper CI Better Model\n",
       "0   Logistic Regression                LDA -0.018880  0.017853      Neither\n",
       "1   Logistic Regression               CART -0.027764  0.037976      Neither\n",
       "2   Logistic Regression            Bagging -0.031198  0.031886      Neither\n",
       "3   Logistic Regression      Random Forest -0.033555  0.031340      Neither\n",
       "4   Logistic Regression  Gradient Boosting -0.029730  0.031216      Neither\n",
       "5                   LDA               CART -0.031223  0.039103      Neither\n",
       "6                   LDA            Bagging -0.028870  0.033383      Neither\n",
       "7                   LDA      Random Forest -0.030977  0.032701      Neither\n",
       "8                   LDA  Gradient Boosting -0.031051  0.033177      Neither\n",
       "9                  CART            Bagging -0.024200  0.024187      Neither\n",
       "10                 CART      Random Forest -0.028637  0.024957      Neither\n",
       "11                 CART  Gradient Boosting -0.025088  0.021602      Neither\n",
       "12              Bagging      Random Forest -0.019280  0.018341      Neither\n",
       "13              Bagging  Gradient Boosting -0.024185  0.020358      Neither\n",
       "14        Random Forest  Gradient Boosting -0.023830  0.025132      Neither"
      ]
     },
     "execution_count": 73,
     "metadata": {},
     "output_type": "execute_result"
    }
   ],
   "source": [
    "better_model = []\n",
    "for row in range(len(model_comp)):\n",
    "    if (model_comp.loc[row, \"Lower CI\"] < 0) & (model_comp.loc[row, \"Upper CI\"] < 0):\n",
    "        better_model.append(model_comp.loc[row, \"Model 1\"])\n",
    "    elif (model_comp.loc[row, \"Lower CI\"] > 0) & (model_comp.loc[row, \"Upper CI\"] > 0):\n",
    "        better_model.append(model_comp.loc[row, \"Model 2\"])\n",
    "    else:\n",
    "        better_model.append(\"Neither\")\n",
    "model_comp[\"Better Model\"] = better_model\n",
    "model_comp"
   ]
  },
  {
   "cell_type": "code",
   "execution_count": 74,
   "metadata": {},
   "outputs": [],
   "source": [
    "results = bootstrap([dtc], test_columns, test100, [acc_calc, tpr, fpr])"
   ]
  },
  {
   "cell_type": "code",
   "execution_count": 75,
   "metadata": {},
   "outputs": [],
   "source": [
    "dtc_boot_acc = results[0][0]\n",
    "dtc_boot_tpr = results[1][0]\n",
    "dtc_boot_fpr = results[2][0]"
   ]
  },
  {
   "cell_type": "code",
   "execution_count": 76,
   "metadata": {},
   "outputs": [],
   "source": [
    "metrics = [\"Accuracy\", \"True Positive Rate\", \"False Positive Rate\"]\n",
    "lower_ci = [np.percentile(dtc_boot_acc, 2.5), np.percentile(dtc_boot_tpr, 2.5), np.percentile(dtc_boot_fpr, 2.5)]\n",
    "est = [dtc_acc, dtc_tpr, dtc_fpr]\n",
    "upper_ci = [np.percentile(dtc_boot_acc, 97.5), np.percentile(dtc_boot_tpr, 97.5), np.percentile(dtc_boot_fpr, 97.5)]\n",
    "dtc_boot = pd.DataFrame(data = {\"Metric\" : metrics,\n",
    "                                \"Lower CI\" : lower_ci,\n",
    "                                \"Parameter Estimate\" : est,\n",
    "                                \"Upper CI\" : upper_ci})"
   ]
  },
  {
   "cell_type": "code",
   "execution_count": 77,
   "metadata": {},
   "outputs": [
    {
     "data": {
      "text/html": [
       "<div>\n",
       "<style scoped>\n",
       "    .dataframe tbody tr th:only-of-type {\n",
       "        vertical-align: middle;\n",
       "    }\n",
       "\n",
       "    .dataframe tbody tr th {\n",
       "        vertical-align: top;\n",
       "    }\n",
       "\n",
       "    .dataframe thead th {\n",
       "        text-align: right;\n",
       "    }\n",
       "</style>\n",
       "<table border=\"1\" class=\"dataframe\">\n",
       "  <thead>\n",
       "    <tr style=\"text-align: right;\">\n",
       "      <th></th>\n",
       "      <th>Metric</th>\n",
       "      <th>Lower CI</th>\n",
       "      <th>Parameter Estimate</th>\n",
       "      <th>Upper CI</th>\n",
       "    </tr>\n",
       "  </thead>\n",
       "  <tbody>\n",
       "    <tr>\n",
       "      <th>0</th>\n",
       "      <td>Accuracy</td>\n",
       "      <td>0.589698</td>\n",
       "      <td>0.611012</td>\n",
       "      <td>0.630551</td>\n",
       "    </tr>\n",
       "    <tr>\n",
       "      <th>1</th>\n",
       "      <td>True Positive Rate</td>\n",
       "      <td>0.517425</td>\n",
       "      <td>0.546986</td>\n",
       "      <td>0.575517</td>\n",
       "    </tr>\n",
       "    <tr>\n",
       "      <th>2</th>\n",
       "      <td>False Positive Rate</td>\n",
       "      <td>0.298315</td>\n",
       "      <td>0.324733</td>\n",
       "      <td>0.354426</td>\n",
       "    </tr>\n",
       "  </tbody>\n",
       "</table>\n",
       "</div>"
      ],
      "text/plain": [
       "                Metric  Lower CI  Parameter Estimate  Upper CI\n",
       "0             Accuracy  0.589698            0.611012  0.630551\n",
       "1   True Positive Rate  0.517425            0.546986  0.575517\n",
       "2  False Positive Rate  0.298315            0.324733  0.354426"
      ]
     },
     "execution_count": 77,
     "metadata": {},
     "output_type": "execute_result"
    }
   ],
   "source": [
    "dtc_boot"
   ]
  },
  {
   "cell_type": "code",
   "execution_count": null,
   "metadata": {},
   "outputs": [],
   "source": []
  }
 ],
 "metadata": {
  "kernelspec": {
   "display_name": "Python 3",
   "language": "python",
   "name": "python3"
  },
  "language_info": {
   "codemirror_mode": {
    "name": "ipython",
    "version": 3
   },
   "file_extension": ".py",
   "mimetype": "text/x-python",
   "name": "python",
   "nbconvert_exporter": "python",
   "pygments_lexer": "ipython3",
   "version": "3.8.5"
  }
 },
 "nbformat": 4,
 "nbformat_minor": 4
}
